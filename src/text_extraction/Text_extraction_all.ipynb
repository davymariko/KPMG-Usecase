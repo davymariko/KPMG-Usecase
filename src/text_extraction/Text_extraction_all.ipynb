{
 "cells": [
  {
   "cell_type": "code",
   "execution_count": null,
   "metadata": {},
   "outputs": [],
   "source": []
  },
  {
   "cell_type": "code",
   "execution_count": 1,
   "metadata": {},
   "outputs": [],
   "source": [
    "# pdf distinction\n",
    "# we have to distinguish the format of the pdf and then we need to choose the French one\n",
    "# there are three different formats already detected\n",
    "# 1) two column documents (one column for French one column for Dutch)\n",
    "# The two column documents can be horizontal or vertical orientated.\n",
    "# 1.a) there is a line between them\n",
    "# 1.b) there is no line between them\n",
    "# 2) one language after the other format\n",
    "# 3) These texts start as two column for very first pages then continued like the other"
   ]
  },
  {
   "cell_type": "code",
   "execution_count": 2,
   "metadata": {},
   "outputs": [],
   "source": [
    "from pdf2image import convert_from_path \n",
    "import cv2\n",
    "import numpy as np\n",
    "import pandas as pd\n",
    "import matplotlib.pyplot as plt\n",
    "import csv\n",
    "try:\n",
    "    from PIL import Image\n",
    "except ImportError:\n",
    "    import Image\n",
    "import pytesseract"
   ]
  },
  {
   "cell_type": "code",
   "execution_count": null,
   "metadata": {},
   "outputs": [],
   "source": [
    "def language_detection(text):\n",
    "    '''This function takes a string and detects its language with fasttext and retuns the language'''\n",
    "    return (language, text_in_fr)\n"
   ]
  },
  {
   "cell_type": "code",
   "execution_count": 3,
   "metadata": {},
   "outputs": [],
   "source": [
    "def Welcome(pdf_file):\n",
    "    '''\n",
    "    This function:\n",
    "    -takes a pdf document path as an input, \n",
    "    -reads them as PIL.PpmImagePlugin.PpmImageFile\n",
    "    -checks the orienatations of the pages and rotates accordingly\n",
    "    -splits the pages if they are two column formatted\n",
    "    -extracts the texts\n",
    "    -devide the texts according the language\n",
    "    -returns whole text in French\n",
    "    '''\n",
    "    # read the documents \n",
    "    pages = convert_from_path(pdf_file, 500) # store all the pages of pdf file\n",
    "    whole_text = \"\"\n",
    "    for page in pages:\n",
    "        report = pytesseract.image_to_osd(page)\n",
    "        \n",
    "        if report.split(\"\\n\")[1].split(\":\")[1].replace(\" \", \"\") == \"270\":\n",
    "            img = np.array(page) # convert PIL.PpmImagePlugin.PpmImageFile to np.array\n",
    "            img_pil = Image.fromarray(np.uint8(img)).convert('RGB') # np.array to PIL image\n",
    "            rotated  = img_pil.transpose(Image.ROTATE_270) #rotate the image \n",
    "            img = np.array(rotated)# convert the page to np array to see as image\n",
    "        \n",
    "        elif report.split(\"\\n\")[1].split(\":\")[1].replace(\" \", \"\") == \"90\":\n",
    "            img = np.array(page) # convert PIL.PpmImagePlugin.PpmImageFile to np.array\n",
    "            img_pil = Image.fromarray(np.uint8(img)).convert('RGB') # np.array to PIL image\n",
    "            rotated  = img_pil.transpose(Image.ROTATE_90) #rotate the image \n",
    "            img = np.array(rotated)# convert the page to np array to see as image\n",
    "        \n",
    "        else:\n",
    "            # convert the page to np array to see as image\n",
    "            img = np.array(page) \n",
    "        # splitting the array into 51% sliced pieces vertically\n",
    "        left_side = img[:,:-(round(img.shape[1]*0.49))]\n",
    "\n",
    "        right_side = img[:,(round(img.shape[1]*0.49)):]\n",
    "\n",
    "        # read the text for each half with pytessaract\n",
    "        text_1 = str(((pytesseract.image_to_string(left_side, lang =\"fra\")))) \n",
    "        text_2 = str(((pytesseract.image_to_string(right_side, lang =\"fra\")))) \n",
    "        \n",
    "        # if language detection of each half is equal, the page is not in two column format\n",
    "        # that means we have one language follow the other or all in french text\n",
    "        if language_detection(text_1) == language_detection(text_2):\n",
    "            # assign the detected text from whole page as a text\n",
    "            text = str(((pytesseract.image_to_string(img, lang =\"fra\"))))\n",
    "            # take only the french part of the text\n",
    "            if language_detection(text)[0] == \"fr\":\n",
    "                fr_text = language_detection(text)[1]\n",
    "        # otherwise the page is two column page. We need to find out the French half and assign the text    \n",
    "        elif language_detection(text_1) == \"fr\":\n",
    "            fr_text = text_1 \n",
    "        else: \n",
    "            fr_text = text_2\n",
    "        # ansamble all page texts a genearal text of the pdf document\n",
    "        whole_text = whole_text + fr_text\n",
    "    return whole_text"
   ]
  },
  {
   "cell_type": "code",
   "execution_count": null,
   "metadata": {},
   "outputs": [],
   "source": []
  }
 ],
 "metadata": {
  "kernelspec": {
   "display_name": "Python 3",
   "language": "python",
   "name": "python3"
  },
  "language_info": {
   "codemirror_mode": {
    "name": "ipython",
    "version": 3
   },
   "file_extension": ".py",
   "mimetype": "text/x-python",
   "name": "python",
   "nbconvert_exporter": "python",
   "pygments_lexer": "ipython3",
   "version": "3.8.3"
  }
 },
 "nbformat": 4,
 "nbformat_minor": 4
}
