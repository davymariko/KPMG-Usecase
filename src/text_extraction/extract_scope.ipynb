{
 "metadata": {
  "language_info": {
   "codemirror_mode": {
    "name": "ipython",
    "version": 3
   },
   "file_extension": ".py",
   "mimetype": "text/x-python",
   "name": "python",
   "nbconvert_exporter": "python",
   "pygments_lexer": "ipython3",
   "version": "3.8.7-final"
  },
  "orig_nbformat": 2,
  "kernelspec": {
   "name": "python3",
   "display_name": "Python 3.8.7 64-bit ('.env')",
   "metadata": {
    "interpreter": {
     "hash": "e2a7f9c8e467cedde9cfe87daf71600a45d84ee44ab40c45d489fc58a3d4cdcb"
    }
   }
  }
 },
 "nbformat": 4,
 "nbformat_minor": 2,
 "cells": [
  {
   "cell_type": "code",
   "execution_count": 2,
   "metadata": {},
   "outputs": [
    {
     "output_type": "stream",
     "name": "stdout",
     "text": [
      "/mnt/d/BeCode/BXL-Bouman-2.22/Content/06.Deep_learning/03-NLP/KPMG-Usecase/.env/bin/python\n"
     ]
    }
   ],
   "source": [
    "print(sys.executable)"
   ]
  },
  {
   "cell_type": "code",
   "execution_count": 3,
   "metadata": {},
   "outputs": [],
   "source": [
    "#import json\n",
    "import csv\n",
    "import pandas as pd\n",
    "import re\n",
    "import os"
   ]
  },
  {
   "cell_type": "code",
   "execution_count": 4,
   "metadata": {},
   "outputs": [],
   "source": [
    "#This might be unnecessarily long but creates another column for the filenames:\n",
    "\n",
    "main_folder = 'selection_2'\n",
    "\n",
    "def get_filename(path):\n",
    "    filenames = []\n",
    "    files = [i.path for i in os.scandir(path) if i.is_file()]\n",
    " \n",
    "    #\"(?i)FR\"\n",
    "    for filename in files:\n",
    "        filename = os.path.basename(filename)\n",
    "        if \"_FR\" in filename:\n",
    "            filenames.append(filename)\n",
    "    return filenames\n",
    "\n",
    "files = get_filename(main_folder)\n",
    "\n",
    "with open('only_french_texts.csv', 'w',  encoding = 'utf8', newline = '') as csv_file:\n",
    "    for _file in files:\n",
    "\n",
    "        file_name = _file\n",
    "        with open(main_folder +'/'+ _file,'r') as f:\n",
    "            text = f.read()\n",
    "\n",
    "            writer = csv.writer(csv_file)\n",
    "            writer.writerow([file_name, text])\n"
   ]
  },
  {
   "cell_type": "code",
   "execution_count": 5,
   "metadata": {},
   "outputs": [],
   "source": [
    "#csv to dataframe\n",
    "df = pd.read_csv('french_texts.csv', names = ['filename', 'texts'])"
   ]
  },
  {
   "cell_type": "code",
   "execution_count": 6,
   "metadata": {},
   "outputs": [
    {
     "output_type": "stream",
     "name": "stdout",
     "text": [
      "<class 'pandas.core.frame.DataFrame'>\nRangeIndex: 520 entries, 0 to 519\nData columns (total 2 columns):\n #   Column    Non-Null Count  Dtype \n---  ------    --------------  ----- \n 0   filename  520 non-null    object\n 1   texts     520 non-null    object\ndtypes: object(2)\nmemory usage: 8.2+ KB\n"
     ]
    }
   ],
   "source": [
    "df.info()"
   ]
  },
  {
   "cell_type": "code",
   "execution_count": 7,
   "metadata": {},
   "outputs": [
    {
     "output_type": "execute_result",
     "data": {
      "text/plain": [
       "                     filename  \\\n",
       "0  111-111-2018-001734_FR.txt   \n",
       "1  111-111-2018-001735_FR.txt   \n",
       "2  111-111-2018-002986_FR.txt   \n",
       "3  111-111-2018-008643_FR.txt   \n",
       "4  111-111-2018-008644_FR.txt   \n",
       "\n",
       "                                               texts  \n",
       "0  Neerlegging-Dépôt: 21/02/2018 Regist.-Enregist...  \n",
       "1  Service public fédéral Emploi, Travail et Conc...  \n",
       "2  PC 111 — CAO individueel opleidingsrecht / CP ...  \n",
       "3  Neerlegging-Dépôt: 29/05/2018 Regist.-Enregist...  \n",
       "4  Service public fédéral Emploi, Travail et\\n\\nC...  "
      ],
      "text/html": "<div>\n<style scoped>\n    .dataframe tbody tr th:only-of-type {\n        vertical-align: middle;\n    }\n\n    .dataframe tbody tr th {\n        vertical-align: top;\n    }\n\n    .dataframe thead th {\n        text-align: right;\n    }\n</style>\n<table border=\"1\" class=\"dataframe\">\n  <thead>\n    <tr style=\"text-align: right;\">\n      <th></th>\n      <th>filename</th>\n      <th>texts</th>\n    </tr>\n  </thead>\n  <tbody>\n    <tr>\n      <th>0</th>\n      <td>111-111-2018-001734_FR.txt</td>\n      <td>Neerlegging-Dépôt: 21/02/2018 Regist.-Enregist...</td>\n    </tr>\n    <tr>\n      <th>1</th>\n      <td>111-111-2018-001735_FR.txt</td>\n      <td>Service public fédéral Emploi, Travail et Conc...</td>\n    </tr>\n    <tr>\n      <th>2</th>\n      <td>111-111-2018-002986_FR.txt</td>\n      <td>PC 111 — CAO individueel opleidingsrecht / CP ...</td>\n    </tr>\n    <tr>\n      <th>3</th>\n      <td>111-111-2018-008643_FR.txt</td>\n      <td>Neerlegging-Dépôt: 29/05/2018 Regist.-Enregist...</td>\n    </tr>\n    <tr>\n      <th>4</th>\n      <td>111-111-2018-008644_FR.txt</td>\n      <td>Service public fédéral Emploi, Travail et\\n\\nC...</td>\n    </tr>\n  </tbody>\n</table>\n</div>"
     },
     "metadata": {},
     "execution_count": 7
    }
   ],
   "source": [
    "pd.reset_option(\"display.max_colwidth\")\n",
    "df.head()"
   ]
  },
  {
   "cell_type": "code",
   "execution_count": 8,
   "metadata": {},
   "outputs": [],
   "source": [
    "#split sentences/paragraphs in the text\n",
    "def split_func(text):\n",
    "    texts_lst = []\n",
    "    sents = text.split(\"\\n\\n\")\n",
    "    for sent in sents:\n",
    "        texts_lst.append(sent)\n",
    "    return texts_lst"
   ]
  },
  {
   "cell_type": "code",
   "execution_count": 9,
   "metadata": {},
   "outputs": [
    {
     "output_type": "execute_result",
     "data": {
      "text/plain": [
       "                     filename  \\\n",
       "0  111-111-2018-001734_FR.txt   \n",
       "1  111-111-2018-001735_FR.txt   \n",
       "2  111-111-2018-002986_FR.txt   \n",
       "3  111-111-2018-008643_FR.txt   \n",
       "4  111-111-2018-008644_FR.txt   \n",
       "\n",
       "                                               texts  \\\n",
       "0  Neerlegging-Dépôt: 21/02/2018 Regist.-Enregist...   \n",
       "1  Service public fédéral Emploi, Travail et Conc...   \n",
       "2  PC 111 — CAO individueel opleidingsrecht / CP ...   \n",
       "3  Neerlegging-Dépôt: 29/05/2018 Regist.-Enregist...   \n",
       "4  Service public fédéral Emploi, Travail et\\n\\nC...   \n",
       "\n",
       "                                           texts_lst  \n",
       "0  [Neerlegging-Dépôt: 21/02/2018 Regist.-Enregis...  \n",
       "1  [Service public fédéral Emploi, Travail et Con...  \n",
       "2  [PC 111 — CAO individueel opleidingsrecht / CP...  \n",
       "3  [Neerlegging-Dépôt: 29/05/2018 Regist.-Enregis...  \n",
       "4  [Service public fédéral Emploi, Travail et, Co...  "
      ],
      "text/html": "<div>\n<style scoped>\n    .dataframe tbody tr th:only-of-type {\n        vertical-align: middle;\n    }\n\n    .dataframe tbody tr th {\n        vertical-align: top;\n    }\n\n    .dataframe thead th {\n        text-align: right;\n    }\n</style>\n<table border=\"1\" class=\"dataframe\">\n  <thead>\n    <tr style=\"text-align: right;\">\n      <th></th>\n      <th>filename</th>\n      <th>texts</th>\n      <th>texts_lst</th>\n    </tr>\n  </thead>\n  <tbody>\n    <tr>\n      <th>0</th>\n      <td>111-111-2018-001734_FR.txt</td>\n      <td>Neerlegging-Dépôt: 21/02/2018 Regist.-Enregist...</td>\n      <td>[Neerlegging-Dépôt: 21/02/2018 Regist.-Enregis...</td>\n    </tr>\n    <tr>\n      <th>1</th>\n      <td>111-111-2018-001735_FR.txt</td>\n      <td>Service public fédéral Emploi, Travail et Conc...</td>\n      <td>[Service public fédéral Emploi, Travail et Con...</td>\n    </tr>\n    <tr>\n      <th>2</th>\n      <td>111-111-2018-002986_FR.txt</td>\n      <td>PC 111 — CAO individueel opleidingsrecht / CP ...</td>\n      <td>[PC 111 — CAO individueel opleidingsrecht / CP...</td>\n    </tr>\n    <tr>\n      <th>3</th>\n      <td>111-111-2018-008643_FR.txt</td>\n      <td>Neerlegging-Dépôt: 29/05/2018 Regist.-Enregist...</td>\n      <td>[Neerlegging-Dépôt: 29/05/2018 Regist.-Enregis...</td>\n    </tr>\n    <tr>\n      <th>4</th>\n      <td>111-111-2018-008644_FR.txt</td>\n      <td>Service public fédéral Emploi, Travail et\\n\\nC...</td>\n      <td>[Service public fédéral Emploi, Travail et, Co...</td>\n    </tr>\n  </tbody>\n</table>\n</div>"
     },
     "metadata": {},
     "execution_count": 9
    }
   ],
   "source": [
    "df['texts_lst'] = df['texts'].apply(split_func)\n",
    "df.head()"
   ]
  },
  {
   "cell_type": "code",
   "execution_count": 10,
   "metadata": {},
   "outputs": [],
   "source": [
    "def extract_scope(lst):\n",
    "    scope_lst = []\n",
    "    for item in lst:\n",
    "        #pattern1 = r\".*\\b(convention collective de travail s'applique | Champ d'application)\\b.*\"\n",
    "        #pattern2 = r\".*\\b(La présente convention collective de travail\\s*\\S* [a-z]'appli\\w*)\\b.*\"\n",
    "        #pattern3 = r\".*\\b(convention collective de travail|CCT)\\s*\\S*[a-z]('appli\\w*)\\b.*\"\n",
    "        #pattern4 = r\".*\\b(convention collective de travail|CCT)\\s*\\S*.*('?appli\\w*)\\b.*\"\n",
    "        pattern = r\".*\\b(convention collective de.*travail|CCT).*('*appli\\w*)\\b.*\"\n",
    "        if re.search(pattern, item, flags=re.IGNORECASE):\n",
    "            scope_lst.append(item)\n",
    "        else:\n",
    "            pass\n",
    "    return scope_lst"
   ]
  },
  {
   "cell_type": "code",
   "execution_count": 11,
   "metadata": {},
   "outputs": [
    {
     "output_type": "execute_result",
     "data": {
      "text/plain": [
       "                       filename  \\\n",
       "0    111-111-2018-001734_FR.txt   \n",
       "1    111-111-2018-001735_FR.txt   \n",
       "2    111-111-2018-002986_FR.txt   \n",
       "3    111-111-2018-008643_FR.txt   \n",
       "4    111-111-2018-008644_FR.txt   \n",
       "..                          ...   \n",
       "515  311-311-2019-013041_FR.txt   \n",
       "516  311-311-2019-013042_FR.txt   \n",
       "517  311-311-2020-002305_FR.txt   \n",
       "518  311-311-2020-002306_FR.txt   \n",
       "519  311-311-2020-011247_FR.txt   \n",
       "\n",
       "                                                 texts  \\\n",
       "0    Neerlegging-Dépôt: 21/02/2018 Regist.-Enregist...   \n",
       "1    Service public fédéral Emploi, Travail et Conc...   \n",
       "2    PC 111 — CAO individueel opleidingsrecht / CP ...   \n",
       "3    Neerlegging-Dépôt: 29/05/2018 Regist.-Enregist...   \n",
       "4    Service public fédéral Emploi, Travail et\\n\\nC...   \n",
       "..                                                 ...   \n",
       "515  14\\n\\nNeerlegging-Dépôt: 11/10/2019 | Regist.-...   \n",
       "516  Neerlegging-Dépôt: 11/10/2019 Regist.-Enregist...   \n",
       "517  Neerlegging-Dépôt: 26/02/2020 | Regist.-Enregi...   \n",
       "518  )\\n\\n5\\n\\nNeerlegging-Dépôt: 26/02/2020\\n\\nReg...   \n",
       "519  Neerlegging-Dépôt: 11/09/2020 Regist.-Enregist...   \n",
       "\n",
       "                                             texts_lst  \\\n",
       "0    [Neerlegging-Dépôt: 21/02/2018 Regist.-Enregis...   \n",
       "1    [Service public fédéral Emploi, Travail et Con...   \n",
       "2    [PC 111 — CAO individueel opleidingsrecht / CP...   \n",
       "3    [Neerlegging-Dépôt: 29/05/2018 Regist.-Enregis...   \n",
       "4    [Service public fédéral Emploi, Travail et, Co...   \n",
       "..                                                 ...   \n",
       "515  [14, Neerlegging-Dépôt: 11/10/2019 | Regist.-E...   \n",
       "516  [Neerlegging-Dépôt: 11/10/2019 Regist.-Enregis...   \n",
       "517  [Neerlegging-Dépôt: 26/02/2020 | Regist.-Enreg...   \n",
       "518  [), 5, Neerlegging-Dépôt: 26/02/2020, Regist.-...   \n",
       "519  [Neerlegging-Dépôt: 11/09/2020 Regist.-Enregis...   \n",
       "\n",
       "                                  scope_of_application  \n",
       "0    [a présente convention collective de travail s...  \n",
       "1    [La présente convention collective de travail ...  \n",
       "2    [La présente convention collective de travail ...  \n",
       "3    [Article 1. Cette convention collective de tra...  \n",
       "4    [Article 1er. La présente convention collectiv...  \n",
       "..                                                 ...  \n",
       "515  [Article 1 - 8 1. La présente convention colle...  \n",
       "516  [Article 1-81. La présente convention collecti...  \n",
       "517  [Article 1 - 8 1. La présente convention colle...  \n",
       "518  [Article 1 - La présente convention collective...  \n",
       "519  [Article 1°- La présente convention collective...  \n",
       "\n",
       "[520 rows x 4 columns]"
      ],
      "text/html": "<div>\n<style scoped>\n    .dataframe tbody tr th:only-of-type {\n        vertical-align: middle;\n    }\n\n    .dataframe tbody tr th {\n        vertical-align: top;\n    }\n\n    .dataframe thead th {\n        text-align: right;\n    }\n</style>\n<table border=\"1\" class=\"dataframe\">\n  <thead>\n    <tr style=\"text-align: right;\">\n      <th></th>\n      <th>filename</th>\n      <th>texts</th>\n      <th>texts_lst</th>\n      <th>scope_of_application</th>\n    </tr>\n  </thead>\n  <tbody>\n    <tr>\n      <th>0</th>\n      <td>111-111-2018-001734_FR.txt</td>\n      <td>Neerlegging-Dépôt: 21/02/2018 Regist.-Enregist...</td>\n      <td>[Neerlegging-Dépôt: 21/02/2018 Regist.-Enregis...</td>\n      <td>[a présente convention collective de travail s...</td>\n    </tr>\n    <tr>\n      <th>1</th>\n      <td>111-111-2018-001735_FR.txt</td>\n      <td>Service public fédéral Emploi, Travail et Conc...</td>\n      <td>[Service public fédéral Emploi, Travail et Con...</td>\n      <td>[La présente convention collective de travail ...</td>\n    </tr>\n    <tr>\n      <th>2</th>\n      <td>111-111-2018-002986_FR.txt</td>\n      <td>PC 111 — CAO individueel opleidingsrecht / CP ...</td>\n      <td>[PC 111 — CAO individueel opleidingsrecht / CP...</td>\n      <td>[La présente convention collective de travail ...</td>\n    </tr>\n    <tr>\n      <th>3</th>\n      <td>111-111-2018-008643_FR.txt</td>\n      <td>Neerlegging-Dépôt: 29/05/2018 Regist.-Enregist...</td>\n      <td>[Neerlegging-Dépôt: 29/05/2018 Regist.-Enregis...</td>\n      <td>[Article 1. Cette convention collective de tra...</td>\n    </tr>\n    <tr>\n      <th>4</th>\n      <td>111-111-2018-008644_FR.txt</td>\n      <td>Service public fédéral Emploi, Travail et\\n\\nC...</td>\n      <td>[Service public fédéral Emploi, Travail et, Co...</td>\n      <td>[Article 1er. La présente convention collectiv...</td>\n    </tr>\n    <tr>\n      <th>...</th>\n      <td>...</td>\n      <td>...</td>\n      <td>...</td>\n      <td>...</td>\n    </tr>\n    <tr>\n      <th>515</th>\n      <td>311-311-2019-013041_FR.txt</td>\n      <td>14\\n\\nNeerlegging-Dépôt: 11/10/2019 | Regist.-...</td>\n      <td>[14, Neerlegging-Dépôt: 11/10/2019 | Regist.-E...</td>\n      <td>[Article 1 - 8 1. La présente convention colle...</td>\n    </tr>\n    <tr>\n      <th>516</th>\n      <td>311-311-2019-013042_FR.txt</td>\n      <td>Neerlegging-Dépôt: 11/10/2019 Regist.-Enregist...</td>\n      <td>[Neerlegging-Dépôt: 11/10/2019 Regist.-Enregis...</td>\n      <td>[Article 1-81. La présente convention collecti...</td>\n    </tr>\n    <tr>\n      <th>517</th>\n      <td>311-311-2020-002305_FR.txt</td>\n      <td>Neerlegging-Dépôt: 26/02/2020 | Regist.-Enregi...</td>\n      <td>[Neerlegging-Dépôt: 26/02/2020 | Regist.-Enreg...</td>\n      <td>[Article 1 - 8 1. La présente convention colle...</td>\n    </tr>\n    <tr>\n      <th>518</th>\n      <td>311-311-2020-002306_FR.txt</td>\n      <td>)\\n\\n5\\n\\nNeerlegging-Dépôt: 26/02/2020\\n\\nReg...</td>\n      <td>[), 5, Neerlegging-Dépôt: 26/02/2020, Regist.-...</td>\n      <td>[Article 1 - La présente convention collective...</td>\n    </tr>\n    <tr>\n      <th>519</th>\n      <td>311-311-2020-011247_FR.txt</td>\n      <td>Neerlegging-Dépôt: 11/09/2020 Regist.-Enregist...</td>\n      <td>[Neerlegging-Dépôt: 11/09/2020 Regist.-Enregis...</td>\n      <td>[Article 1°- La présente convention collective...</td>\n    </tr>\n  </tbody>\n</table>\n<p>520 rows × 4 columns</p>\n</div>"
     },
     "metadata": {},
     "execution_count": 11
    }
   ],
   "source": [
    "df['scope_of_application'] = df['texts_lst'].apply(extract_scope)\n",
    "df"
   ]
  }
 ]
}