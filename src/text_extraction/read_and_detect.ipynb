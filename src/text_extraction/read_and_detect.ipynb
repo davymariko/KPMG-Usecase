{
 "cells": [
  {
   "cell_type": "code",
   "execution_count": 77,
   "metadata": {},
   "outputs": [
    {
     "name": "stdout",
     "output_type": "stream",
     "text": [
      "['eng', 'fra', 'osd']\n"
     ]
    }
   ],
   "source": [
    "import os \n",
    "import sys\n",
    "from PIL import Image\n",
    "from pathlib import Path\n",
    "import re\n",
    "\n",
    "from pdf2image import convert_from_path \n",
    "import pytesseract\n",
    "import spacy\n",
    "from spacy_langdetect import LanguageDetector\n",
    "\n",
    "# If you don't have tesseract executable in your PATH, include the following:\n",
    "#pytesseract.pytesseract.tesseract_cmd = r'<full_path_to_your_tesseract_executable>'\n",
    "# Example tesseract_cmd = r'C:\\Program Files (x86)\\Tesseract-OCR\\tesseract'\n",
    "\n",
    "# List of available languages\n",
    "print(pytesseract.get_languages(config=''))"
   ]
  },
  {
   "cell_type": "code",
   "execution_count": 80,
   "metadata": {},
   "outputs": [],
   "source": [
    "# set folder to pdf files:\n",
    "scraping_folder = Path('../scraping/output')\n",
    "\n",
    "# set output txt folder:\n",
    "output_folder = Path('./output')\n",
    "\n",
    "# set target pdf file:\n",
    "pdf_file = \"140-140-2020-014320.pdf\""
   ]
  },
  {
   "cell_type": "code",
   "execution_count": 83,
   "metadata": {},
   "outputs": [],
   "source": [
    "# OCR part\n",
    "\n",
    "# with the code from geeksforgeeks:\n",
    "# https://www.geeksforgeeks.org/python-reading-contents-of-pdf-using-ocr-optical-character-recognition/\n",
    "\n",
    "''' \n",
    "Part #1 : Converting PDF to images \n",
    "    \n",
    "'''\n",
    "# Make the output folder for images\n",
    "image_dir = output_folder / f'images/{pdf_file[:-4]}'\n",
    "\n",
    "if not image_dir.exists():\n",
    "    os.makedirs(image_dir)\n",
    "\n",
    "# Store all the pages of the PDF in a variable \n",
    "pages = convert_from_path(scraping_folder / pdf_file, dpi = 425)\n",
    "  \n",
    "# Counter to store images of each page of PDF to image \n",
    "image_counter = 1\n",
    "  \n",
    "# Iterate through all the pages stored above \n",
    "for page in pages: \n",
    "  \n",
    "    filename = \"page_\"+str(image_counter)+\".png\"\n",
    "      \n",
    "    # Save the image of the page in system \n",
    "    page.save(image_dir / filename, 'PNG')\n",
    "  \n",
    "    # Increment the counter to update filename \n",
    "    image_counter = image_counter + 1\n",
    "    \n",
    "    ''' \n",
    "Part #2 - Recognizing text from the images using OCR \n",
    "'''\n",
    "    \n",
    "# Variable to get count of total number of pages \n",
    "filelimit = image_counter-1\n",
    "  \n",
    "# Creating a text file to write the output \n",
    "outfile = f\"{pdf_file[:-4]}.txt\"\n",
    "  \n",
    "# Open the file in append mode so that  \n",
    "# All contents of all images are added to the same file \n",
    "f = open(output_folder / outfile, \"a\")\n",
    "  \n",
    "# Iterate from 1 to total number of pages \n",
    "for i in range(1, filelimit + 1):\n",
    "    \n",
    "    filename = \"page_\"+str(i)+\".png\"\n",
    "\n",
    "    # Recognize the text as string in image using pytesserct\n",
    "    text = str(((pytesseract.image_to_string(Image.open(image_dir / filename), lang=\"fra\"))))\n",
    "    \n",
    "    # Delete word-break-ups at the end of a line\n",
    "    text = text.replace('-\\n', '')\n",
    "    \n",
    "    # Replace form feed (new page) character with normal new line\n",
    "    text = re.sub(r'\\f', r'\\n', text)\n",
    "    \n",
    "    # Continue the same or next sentence on the same line (delete line breaks inside alinea)\n",
    "    text = re.sub(r'([^\\n])\\n([^\\n])', r'\\1 \\2', text)\n",
    "    \n",
    "    # Finally, write the processed text to the file and provide it to language detection on a background thread\n",
    "    f.write(text)\n",
    "    \n",
    "# Close the file after writing all the text. \n",
    "f.close()"
   ]
  },
  {
   "cell_type": "code",
   "execution_count": 84,
   "metadata": {},
   "outputs": [],
   "source": [
    "def language_detection(text_file):\n",
    "    '''This function takes the text file from OCR\n",
    "    and detects each line's language and stores it if it is in French.\n",
    "    This fuction returns a new text file in output folder of lines in French'''\n",
    "    \n",
    "    file = open(output_folder / text_file, 'r')\n",
    "    \n",
    "    rows_in_fr = []\n",
    "    \n",
    "    nlp = spacy.load('fr_core_news_sm')\n",
    "    nlp.add_pipe(LanguageDetector(), name='language_detector', last=True)\n",
    "    for row in file:\n",
    "        doc = nlp(row)\n",
    "        if doc._.language[\"language\"] == \"fr\" or row == [] or row[0].isnumeric():\n",
    "            rows_in_fr.append(row)\n",
    "    output = '\\n'.join(rows_in_fr)\n",
    "    \n",
    "    f = open(output_folder / f'{text_file[:-4]}_FR.txt', \"w\")\n",
    "    f.write(output)\n",
    "    f.close()\n",
    "    \n",
    "    return"
   ]
  },
  {
   "cell_type": "code",
   "execution_count": 85,
   "metadata": {},
   "outputs": [],
   "source": [
    "language_detection(\"140-140-2020-014320.txt\")"
   ]
  },
  {
   "cell_type": "code",
   "execution_count": null,
   "metadata": {},
   "outputs": [],
   "source": []
  }
 ],
 "metadata": {
  "kernelspec": {
   "display_name": "transformers",
   "language": "python",
   "name": "transformers"
  },
  "language_info": {
   "codemirror_mode": {
    "name": "ipython",
    "version": 3
   },
   "file_extension": ".py",
   "mimetype": "text/x-python",
   "name": "python",
   "nbconvert_exporter": "python",
   "pygments_lexer": "ipython3",
   "version": "3.8.5"
  }
 },
 "nbformat": 4,
 "nbformat_minor": 4
}
