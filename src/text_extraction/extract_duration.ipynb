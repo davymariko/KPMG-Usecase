{
 "metadata": {
  "language_info": {
   "codemirror_mode": {
    "name": "ipython",
    "version": 3
   },
   "file_extension": ".py",
   "mimetype": "text/x-python",
   "name": "python",
   "nbconvert_exporter": "python",
   "pygments_lexer": "ipython3",
   "version": "3.8.7-final"
  },
  "orig_nbformat": 2,
  "kernelspec": {
   "name": "python3",
   "display_name": "Python 3.8.7 64-bit ('.env')",
   "metadata": {
    "interpreter": {
     "hash": "e2a7f9c8e467cedde9cfe87daf71600a45d84ee44ab40c45d489fc58a3d4cdcb"
    }
   }
  }
 },
 "nbformat": 4,
 "nbformat_minor": 2,
 "cells": [
  {
   "cell_type": "code",
   "execution_count": 1,
   "metadata": {},
   "outputs": [],
   "source": [
    "#import json\n",
    "import csv\n",
    "import pandas as pd\n",
    "import re\n",
    "import os"
   ]
  },
  {
   "cell_type": "code",
   "execution_count": 2,
   "metadata": {},
   "outputs": [],
   "source": [
    "#csv to dataframe\n",
    "df = pd.read_csv('french_texts.csv', names = ['filename', 'texts'])"
   ]
  },
  {
   "cell_type": "code",
   "execution_count": 3,
   "metadata": {},
   "outputs": [
    {
     "output_type": "stream",
     "name": "stdout",
     "text": [
      "<class 'pandas.core.frame.DataFrame'>\nRangeIndex: 520 entries, 0 to 519\nData columns (total 2 columns):\n #   Column    Non-Null Count  Dtype \n---  ------    --------------  ----- \n 0   filename  520 non-null    object\n 1   texts     520 non-null    object\ndtypes: object(2)\nmemory usage: 8.2+ KB\n"
     ]
    }
   ],
   "source": [
    "df.info()"
   ]
  },
  {
   "cell_type": "code",
   "execution_count": 4,
   "metadata": {},
   "outputs": [],
   "source": [
    "#split sentences/paragraphs in the text\n",
    "def split_func(text):\n",
    "    texts_lst = []\n",
    "    sents = text.split(\"\\n\\n\")\n",
    "    for sent in sents:\n",
    "        texts_lst.append(sent)\n",
    "    return texts_lst"
   ]
  },
  {
   "cell_type": "code",
   "execution_count": 5,
   "metadata": {},
   "outputs": [
    {
     "output_type": "execute_result",
     "data": {
      "text/plain": [
       "                     filename  \\\n",
       "0  111-111-2018-001734_FR.txt   \n",
       "1  111-111-2018-001735_FR.txt   \n",
       "2  111-111-2018-002986_FR.txt   \n",
       "3  111-111-2018-008643_FR.txt   \n",
       "4  111-111-2018-008644_FR.txt   \n",
       "\n",
       "                                               texts  \\\n",
       "0  Neerlegging-Dépôt: 21/02/2018 Regist.-Enregist...   \n",
       "1  Service public fédéral Emploi, Travail et Conc...   \n",
       "2  PC 111 — CAO individueel opleidingsrecht / CP ...   \n",
       "3  Neerlegging-Dépôt: 29/05/2018 Regist.-Enregist...   \n",
       "4  Service public fédéral Emploi, Travail et\\n\\nC...   \n",
       "\n",
       "                                           texts_lst  \n",
       "0  [Neerlegging-Dépôt: 21/02/2018 Regist.-Enregis...  \n",
       "1  [Service public fédéral Emploi, Travail et Con...  \n",
       "2  [PC 111 — CAO individueel opleidingsrecht / CP...  \n",
       "3  [Neerlegging-Dépôt: 29/05/2018 Regist.-Enregis...  \n",
       "4  [Service public fédéral Emploi, Travail et, Co...  "
      ],
      "text/html": "<div>\n<style scoped>\n    .dataframe tbody tr th:only-of-type {\n        vertical-align: middle;\n    }\n\n    .dataframe tbody tr th {\n        vertical-align: top;\n    }\n\n    .dataframe thead th {\n        text-align: right;\n    }\n</style>\n<table border=\"1\" class=\"dataframe\">\n  <thead>\n    <tr style=\"text-align: right;\">\n      <th></th>\n      <th>filename</th>\n      <th>texts</th>\n      <th>texts_lst</th>\n    </tr>\n  </thead>\n  <tbody>\n    <tr>\n      <th>0</th>\n      <td>111-111-2018-001734_FR.txt</td>\n      <td>Neerlegging-Dépôt: 21/02/2018 Regist.-Enregist...</td>\n      <td>[Neerlegging-Dépôt: 21/02/2018 Regist.-Enregis...</td>\n    </tr>\n    <tr>\n      <th>1</th>\n      <td>111-111-2018-001735_FR.txt</td>\n      <td>Service public fédéral Emploi, Travail et Conc...</td>\n      <td>[Service public fédéral Emploi, Travail et Con...</td>\n    </tr>\n    <tr>\n      <th>2</th>\n      <td>111-111-2018-002986_FR.txt</td>\n      <td>PC 111 — CAO individueel opleidingsrecht / CP ...</td>\n      <td>[PC 111 — CAO individueel opleidingsrecht / CP...</td>\n    </tr>\n    <tr>\n      <th>3</th>\n      <td>111-111-2018-008643_FR.txt</td>\n      <td>Neerlegging-Dépôt: 29/05/2018 Regist.-Enregist...</td>\n      <td>[Neerlegging-Dépôt: 29/05/2018 Regist.-Enregis...</td>\n    </tr>\n    <tr>\n      <th>4</th>\n      <td>111-111-2018-008644_FR.txt</td>\n      <td>Service public fédéral Emploi, Travail et\\n\\nC...</td>\n      <td>[Service public fédéral Emploi, Travail et, Co...</td>\n    </tr>\n  </tbody>\n</table>\n</div>"
     },
     "metadata": {},
     "execution_count": 5
    }
   ],
   "source": [
    "df['texts_lst'] = df['texts'].apply(split_func)\n",
    "df.head()"
   ]
  },
  {
   "cell_type": "code",
   "execution_count": 10,
   "metadata": {},
   "outputs": [],
   "source": [
    "# Extract Duration\n",
    "def extract_duration(lst):\n",
    "    dur_lst = []\n",
    "    for item in lst:\n",
    "        #pattern1 = r\".*\\b(convention collective.*travail.*dur.e)\\b.*\"\n",
    "        #pattern2 = r\".*\\b(convention collective.*travail.*|CCT)\\w*.*(durée.*([2][0-9]{3})?)\\b.*\"\n",
    "        pattern3 = r\".*\\b(durée.*(validité)?([2][0-9]{3})?)\\b.*\"\n",
    "        if re.search(pattern3, item, flags=re.IGNORECASE):\n",
    "            dur_lst.append(item)\n",
    "        else:\n",
    "            pass\n",
    "    return dur_lst"
   ]
  },
  {
   "cell_type": "code",
   "execution_count": 11,
   "metadata": {},
   "outputs": [],
   "source": [
    "#\n",
    "df['duration2'] = df['texts_lst'].apply(extract_duration)"
   ]
  },
  {
   "cell_type": "code",
   "execution_count": 13,
   "metadata": {},
   "outputs": [
    {
     "output_type": "execute_result",
     "data": {
      "text/plain": [
       "                       filename  \\\n",
       "136  118-118-2019-013234_FR.txt   \n",
       "449  209-209-2020-009217_FR.txt   \n",
       "438  209-209-2019-014581_FR.txt   \n",
       "111  118-118-2019-010376_FR.txt   \n",
       "61   116-116-2019-008769_FR.txt   \n",
       "84   116-116-2019-015699_FR.txt   \n",
       "457  220-220-2018-003842_FR.txt   \n",
       "130  118-118-2019-013228_FR.txt   \n",
       "76   116-116-2019-012302_FR.txt   \n",
       "382  207-207-2019-010214_FR.txt   \n",
       "\n",
       "                                                                                                                                                                                                                                                                                                                                            duration  \\\n",
       "136                                                                                                                                                                                                                                                                                                                                               []   \n",
       "449                                                                                                                                                                                                            [Art.3. Durée La présente convention collective de travail est conclue pour une durée déterminée du 1° juillet 2020 au 30 juin 2021.]   \n",
       "438                                                                                                                                                                                                                             [La présente convention collective de travail est conclue pour une durée indéterminée à partir du 1er juillet 2019.]   \n",
       "111                                                                                                                                                       [Art, 16. La présente convention collective de travail est conclue pour une durée déterminée. Elle entre en vigueur le ler janvier 2019 et cesse d’être en vigueur le 31 décembre 2021.\\n]   \n",
       "61                                                                                                                     [En application de la convention collective n° 137 du Conseil National du Travail pour la durée de la présente convention collective de travail, l’âge relative à l'accès de droit aux allocations d'interruption, est porté]   \n",
       "84                                                                                                                                                                                                                                                                                                                                                []   \n",
       "457  [La présente convention collective de travail est conclue pour une durée indéterminée. Elle peut être dénoncée par chacune des parties signataires moyennant un préavis de six mois adressé par lettre recommandée au président de la Commission paritaire pour les employés de l’industrie alimentaire et aux organisations y représentées.\\n]   \n",
       "130                                                                                                                                                                                                                                                                                                                                               []   \n",
       "76                                                                                                                                                                                                                                                                                                                                                []   \n",
       "382                                                                                                                                                                                                                                                                                                                                               []   \n",
       "\n",
       "                                                                                                                                                                                                                                                                                                                                                                                                                                                                                                                      duration2  \n",
       "136                                                                                                                                                                                                                                                                                                                                                                                                                                                                                                                          []  \n",
       "449                                                                                                                                                                                                                                                                                                                                                                                       [Art.3. Durée La présente convention collective de travail est conclue pour une durée déterminée du 1° juillet 2020 au 30 juin 2021.]  \n",
       "438  [Art 3 — Durée, La présente convention collective de travail est conclue pour une durée indéterminée à partir du 1er juillet 2019., Article 7 — Entrée en vigueur et durée, Elle est conclue pour une durée indéterminée. Elle peut être dénoncée par chacune des parties moyennant un préavis de 6 mois notifié par lettre recommandée à la poste adressée au Président du Comité régional de conciliation des Provinces de Liège ou du Luxembourg de la Commission paritaire des employés des fabrications métalliques.]  \n",
       "111                                                                                                                                                                                                                                                                                                [CHAPITRE VII - DURÉE DE VALIDITÉ, Art, 16. La présente convention collective de travail est conclue pour une durée déterminée. Elle entre en vigueur le ler janvier 2019 et cesse d’être en vigueur le 31 décembre 2021.\\n]  \n",
       "61                                   [La présente CCT a pour objet de proroger le droit aux allocations d'interruption pour le crédit-temps fin de carrière, pour une durée limitée à la période s'étendant du, En application de la convention collective n° 137 du Conseil National du Travail pour la durée de la présente convention collective de travail, l’âge relative à l'accès de droit aux allocations d'interruption, est porté, La présente CCT est conclue pour une durée déterminée et elle entre en vigueur le]  \n",
       "84                                                                                                                                                                                                                                               [« La présente CCT est conclue pour une durée déterminée. Elle entre en vigueur le 1\" juillet 2019 et prend fin le 30 juin 2020 »., ARTICLE 6 - Durée, Cette CCT est conclue pour une durée déterminée et produit ses effets le 1° juillet 2019 et prend fin le 30 juin 2020.]  \n",
       "457                                                                                                                                      [Chapitre IIT - Durée de Ia convention, La présente convention collective de travail est conclue pour une durée indéterminée. Elle peut être dénoncée par chacune des parties signataires moyennant un préavis de six mois adressé par lettre recommandée au président de la Commission paritaire pour les employés de l’industrie alimentaire et aux organisations y représentées.\\n]  \n",
       "130                                                                                                                                                                                                                                                                                                                                                                                                                                                                                                                          []  \n",
       "76                                                                                                                                                                                                                                                                                                                                    [aux travailleurs pendant la durée de la présente convention collective de travail., La présente CCT est conclue pour une durée indéterminée. Elle entre en vigueur le 1e\" janvier 2020,]  \n",
       "382                                                                                                                                                                                                                                                                                                                                                                      [ARTICLE 5 - Durée, La présente CCT est conclue pour une durée déterminée. Elle entre en vigueur le er juillet 2019 et prend fin le 31 décembre 2020.]  "
      ],
      "text/html": "<div>\n<style scoped>\n    .dataframe tbody tr th:only-of-type {\n        vertical-align: middle;\n    }\n\n    .dataframe tbody tr th {\n        vertical-align: top;\n    }\n\n    .dataframe thead th {\n        text-align: right;\n    }\n</style>\n<table border=\"1\" class=\"dataframe\">\n  <thead>\n    <tr style=\"text-align: right;\">\n      <th></th>\n      <th>filename</th>\n      <th>duration</th>\n      <th>duration2</th>\n    </tr>\n  </thead>\n  <tbody>\n    <tr>\n      <th>136</th>\n      <td>118-118-2019-013234_FR.txt</td>\n      <td>[]</td>\n      <td>[]</td>\n    </tr>\n    <tr>\n      <th>449</th>\n      <td>209-209-2020-009217_FR.txt</td>\n      <td>[Art.3. Durée La présente convention collective de travail est conclue pour une durée déterminée du 1° juillet 2020 au 30 juin 2021.]</td>\n      <td>[Art.3. Durée La présente convention collective de travail est conclue pour une durée déterminée du 1° juillet 2020 au 30 juin 2021.]</td>\n    </tr>\n    <tr>\n      <th>438</th>\n      <td>209-209-2019-014581_FR.txt</td>\n      <td>[La présente convention collective de travail est conclue pour une durée indéterminée à partir du 1er juillet 2019.]</td>\n      <td>[Art 3 — Durée, La présente convention collective de travail est conclue pour une durée indéterminée à partir du 1er juillet 2019., Article 7 — Entrée en vigueur et durée, Elle est conclue pour une durée indéterminée. Elle peut être dénoncée par chacune des parties moyennant un préavis de 6 mois notifié par lettre recommandée à la poste adressée au Président du Comité régional de conciliation des Provinces de Liège ou du Luxembourg de la Commission paritaire des employés des fabrications métalliques.]</td>\n    </tr>\n    <tr>\n      <th>111</th>\n      <td>118-118-2019-010376_FR.txt</td>\n      <td>[Art, 16. La présente convention collective de travail est conclue pour une durée déterminée. Elle entre en vigueur le ler janvier 2019 et cesse d’être en vigueur le 31 décembre 2021.\\n]</td>\n      <td>[CHAPITRE VII - DURÉE DE VALIDITÉ, Art, 16. La présente convention collective de travail est conclue pour une durée déterminée. Elle entre en vigueur le ler janvier 2019 et cesse d’être en vigueur le 31 décembre 2021.\\n]</td>\n    </tr>\n    <tr>\n      <th>61</th>\n      <td>116-116-2019-008769_FR.txt</td>\n      <td>[En application de la convention collective n° 137 du Conseil National du Travail pour la durée de la présente convention collective de travail, l’âge relative à l'accès de droit aux allocations d'interruption, est porté]</td>\n      <td>[La présente CCT a pour objet de proroger le droit aux allocations d'interruption pour le crédit-temps fin de carrière, pour une durée limitée à la période s'étendant du, En application de la convention collective n° 137 du Conseil National du Travail pour la durée de la présente convention collective de travail, l’âge relative à l'accès de droit aux allocations d'interruption, est porté, La présente CCT est conclue pour une durée déterminée et elle entre en vigueur le]</td>\n    </tr>\n    <tr>\n      <th>84</th>\n      <td>116-116-2019-015699_FR.txt</td>\n      <td>[]</td>\n      <td>[« La présente CCT est conclue pour une durée déterminée. Elle entre en vigueur le 1\" juillet 2019 et prend fin le 30 juin 2020 »., ARTICLE 6 - Durée, Cette CCT est conclue pour une durée déterminée et produit ses effets le 1° juillet 2019 et prend fin le 30 juin 2020.]</td>\n    </tr>\n    <tr>\n      <th>457</th>\n      <td>220-220-2018-003842_FR.txt</td>\n      <td>[La présente convention collective de travail est conclue pour une durée indéterminée. Elle peut être dénoncée par chacune des parties signataires moyennant un préavis de six mois adressé par lettre recommandée au président de la Commission paritaire pour les employés de l’industrie alimentaire et aux organisations y représentées.\\n]</td>\n      <td>[Chapitre IIT - Durée de Ia convention, La présente convention collective de travail est conclue pour une durée indéterminée. Elle peut être dénoncée par chacune des parties signataires moyennant un préavis de six mois adressé par lettre recommandée au président de la Commission paritaire pour les employés de l’industrie alimentaire et aux organisations y représentées.\\n]</td>\n    </tr>\n    <tr>\n      <th>130</th>\n      <td>118-118-2019-013228_FR.txt</td>\n      <td>[]</td>\n      <td>[]</td>\n    </tr>\n    <tr>\n      <th>76</th>\n      <td>116-116-2019-012302_FR.txt</td>\n      <td>[]</td>\n      <td>[aux travailleurs pendant la durée de la présente convention collective de travail., La présente CCT est conclue pour une durée indéterminée. Elle entre en vigueur le 1e\" janvier 2020,]</td>\n    </tr>\n    <tr>\n      <th>382</th>\n      <td>207-207-2019-010214_FR.txt</td>\n      <td>[]</td>\n      <td>[ARTICLE 5 - Durée, La présente CCT est conclue pour une durée déterminée. Elle entre en vigueur le er juillet 2019 et prend fin le 31 décembre 2020.]</td>\n    </tr>\n  </tbody>\n</table>\n</div>"
     },
     "metadata": {},
     "execution_count": 13
    }
   ],
   "source": [
    "pd.set_option('display.max_colwidth', None)\n",
    "df[['filename', 'duration', 'duration2']].sample(n=10)\n"
   ]
  },
  {
   "cell_type": "code",
   "execution_count": 16,
   "metadata": {},
   "outputs": [],
   "source": [
    "empty= df[df[\"duration2\"].str.len() == 0]"
   ]
  },
  {
   "cell_type": "code",
   "execution_count": 17,
   "metadata": {},
   "outputs": [
    {
     "output_type": "execute_result",
     "data": {
      "text/plain": [
       "(50, 5)"
      ]
     },
     "metadata": {},
     "execution_count": 17
    }
   ],
   "source": [
    "empty.shape"
   ]
  },
  {
   "cell_type": "code",
   "execution_count": null,
   "metadata": {},
   "outputs": [],
   "source": []
  }
 ]
}