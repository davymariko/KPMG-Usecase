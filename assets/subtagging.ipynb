{
 "cells": [
  {
   "cell_type": "markdown",
   "source": [
    "# Working notebook for documents labelling\n",
    "to be done:\n",
    "- words cloud for each tag subset"
   ],
   "metadata": {
    "collapsed": false,
    "pycharm": {
     "name": "#%% md\n"
    }
   }
  },
  {
   "cell_type": "code",
   "execution_count": 71,
   "metadata": {
    "collapsed": true
   },
   "outputs": [],
   "source": [
    "import pandas as pd\n",
    "import numpy as np\n",
    "import os\n",
    "TEXTS_PATH = os.path.join(os.path.dirname(os.getcwd()), \"src\", \"text_extraction\", \"txt_selection\")\n",
    "RESPONSES_PATH = os.path.join(os.path.dirname(os.getcwd()), \"src\", \"scraping\", \"output\", \"responses_2018_now.json\")\n",
    "\n",
    "pd.set_option('display.max_rows', 10)"
   ]
  },
  {
   "cell_type": "code",
   "execution_count": 72,
   "outputs": [],
   "source": [
    "#retrieving the names of all selected files\n",
    "TEXTS_PATH\n",
    "txt_filenames = [f for f in os.listdir(TEXTS_PATH) if f.endswith(\".txt\")]"
   ],
   "metadata": {
    "collapsed": false,
    "pycharm": {
     "name": "#%%\n"
    }
   }
  },
  {
   "cell_type": "code",
   "execution_count": 11,
   "outputs": [
    {
     "data": {
      "text/plain": "Index(['jcId', 'jcFr', 'jcNl', 'titleFr', 'titleNl', 'themesFr', 'themesNl',\n       'signatureDate', 'validityDate', 'depositDate', 'recordDate',\n       'depositRegistrationDate', 'depositNumber', 'enforced',\n       'royalDecreeDate', 'noticeDepositMBDate', 'publicationRoyalDecreeDate',\n       'correctedDate', 'documentLink', 'documentSize', 'scopeFr', 'scopeNl',\n       'noScopeFr', 'noScopeNl'],\n      dtype='object')"
     },
     "execution_count": 11,
     "metadata": {},
     "output_type": "execute_result"
    }
   ],
   "source": [
    "#reading json file to retrieve tags\n",
    "responses = pd.read_json(RESPONSES_PATH)\n",
    "#https://raw.githubusercontent.com/naomithiru/KPMG-Usecase/philippe/src/scraping/output/responses_2018_now.json"
   ],
   "metadata": {
    "collapsed": false,
    "pycharm": {
     "name": "#%%\n"
    }
   }
  },
  {
   "cell_type": "code",
   "execution_count": 79,
   "outputs": [
    {
     "name": "stderr",
     "output_type": "stream",
     "text": [
      "t:\\users\\fra\\appdata\\local\\programs\\python\\python37\\lib\\site-packages\\ipykernel_launcher.py:7: FutureWarning: The default value of regex will change from True to False in a future version.\n",
      "  import sys\n"
     ]
    },
    {
     "data": {
      "text/plain": "       jcId                                               jcFr  \\\n34  1110000  COMMISSION PARITAIRE DES CONSTRUCTIONS METALLI...   \n35  1110000  COMMISSION PARITAIRE DES CONSTRUCTIONS METALLI...   \n\n                                              titleFr  \\\n34  modification du régime de pension sectoriel so...   \n35                  allocation spéciale compensatoire   \n\n                                           themesFr scopeFr  \\\n34  [PENSIONS COMPÉMENTAIRES ET ASSURANCES GROUPES]    None   \n35                                [PRIME SYNDICALE]    None   \n\n                                            noScopeFr  \\\n34  [les employeurs et ouvriers des entreprises ex...   \n35                                               None   \n\n               documentLink                    txt_name  \n34  111/111-2018-013525.pdf  111-111-2018-013525_FR.txt  \n35  111/111-2018-012196.pdf  111-111-2018-012196_FR.txt  ",
      "text/html": "<div>\n<style scoped>\n    .dataframe tbody tr th:only-of-type {\n        vertical-align: middle;\n    }\n\n    .dataframe tbody tr th {\n        vertical-align: top;\n    }\n\n    .dataframe thead th {\n        text-align: right;\n    }\n</style>\n<table border=\"1\" class=\"dataframe\">\n  <thead>\n    <tr style=\"text-align: right;\">\n      <th></th>\n      <th>jcId</th>\n      <th>jcFr</th>\n      <th>titleFr</th>\n      <th>themesFr</th>\n      <th>scopeFr</th>\n      <th>noScopeFr</th>\n      <th>documentLink</th>\n      <th>txt_name</th>\n    </tr>\n  </thead>\n  <tbody>\n    <tr>\n      <th>34</th>\n      <td>1110000</td>\n      <td>COMMISSION PARITAIRE DES CONSTRUCTIONS METALLI...</td>\n      <td>modification du régime de pension sectoriel so...</td>\n      <td>[PENSIONS COMPÉMENTAIRES ET ASSURANCES GROUPES]</td>\n      <td>None</td>\n      <td>[les employeurs et ouvriers des entreprises ex...</td>\n      <td>111/111-2018-013525.pdf</td>\n      <td>111-111-2018-013525_FR.txt</td>\n    </tr>\n    <tr>\n      <th>35</th>\n      <td>1110000</td>\n      <td>COMMISSION PARITAIRE DES CONSTRUCTIONS METALLI...</td>\n      <td>allocation spéciale compensatoire</td>\n      <td>[PRIME SYNDICALE]</td>\n      <td>None</td>\n      <td>None</td>\n      <td>111/111-2018-012196.pdf</td>\n      <td>111-111-2018-012196_FR.txt</td>\n    </tr>\n  </tbody>\n</table>\n</div>"
     },
     "execution_count": 79,
     "metadata": {},
     "output_type": "execute_result"
    }
   ],
   "source": [
    "#filtering only relevant columns\n",
    "columns = ['jcId', 'jcFr', 'titleFr', 'themesFr', 'scopeFr', 'noScopeFr', 'documentLink']\n",
    "responses2 = responses.copy(deep=True).loc[:,columns]\n",
    "#getting txt_name from original pdf name\n",
    "responses2[\"txt_name\"] = responses2[\"documentLink\"]\n",
    "responses2[\"txt_name\"] = responses2[\"txt_name\"].str.replace(\"/\",\"-\")\n",
    "responses2[\"txt_name\"] = responses2[\"txt_name\"].str.replace(\".pdf\",\"_FR.txt\")\n",
    "#filtering json only for selected files and columns\n",
    "columns += ['txt_name']\n",
    "responses2 = responses2.loc[responses2.txt_name.isin(txt_filenames), columns]\n",
    "responses2.head(2)"
   ],
   "metadata": {
    "collapsed": false,
    "pycharm": {
     "name": "#%%\n"
    }
   }
  },
  {
   "cell_type": "code",
   "execution_count": 81,
   "outputs": [
    {
     "data": {
      "text/plain": "['PENSIONS COMPÉMENTAIRES ET ASSURANCES GROUPES',\n 'PRIME SYNDICALE',\n 'TRAVAIL EN ÉQUIPE ET DE NUIT',\n 'PÉCULE DE VACANCES',\n \"PRIME PROPRE AU SECTEUR OU À L'ENTREPRISE\",\n 'REMBOURSEMENT DE FRAIS (HORS FRAIS DE DÉPLACEMENT)',\n 'DÉTACHEMENT',\n \"PRIME DE FIN D'ANNÉE\",\n 'SALAIRES',\n 'JEUNES TRAVAILLEURS: SALAIRES',\n 'FORMATION (EXCL. FORMATION SYNDICALE)',\n 'TRAVAILLEURS AGÉS-EXCL.PENSIONS COMPL, PRÉPENSION(RCC), CRÉDIT-TEMPS',\n 'MALADIE/ACCIDENT/DÉCÈS',\n 'CHÔMAGE (AUTRE QUE LE CHÔMAGE ÉCONOMIQUE DES EMPLOYÉS)',\n \"RÉGIME DE CHÔMAGE AVEC COMPLÉMENT D'ENTREPRISE (RCC)\",\n 'FORMATION SYNDICALE',\n \"FONDS DE SÉCURITÉ D'EXISTENCE\",\n 'INDEMNITÉS POUR FRAIS DE DÉPLACEMENT',\n 'CRÉDIT-TEMPS/DIMINUTION DE CARRIÈRE, EMPLOI FIN DE CARRIÈRE',\n 'GROUPES À RISQUE',\n 'TRAVAIL TEMPORAIRE ET TRAVAIL INTÉRIMAIRE',\n 'RECRUTEMENT',\n 'BIEN-ÊTRE AU TRAVAIL',\n 'PRÉAVIS/LICENCIEMENT',\n 'TEMPS DE TRAVAIL EN HEURES',\n 'CHÈQUES-REPAS',\n 'ECOCHÈQUES',\n 'JOUR DE CONGÉ PAYÉ (PAS DE JOUR RTT OU DE COMPENSATION) ET JOUR FERIÉ',\n 'PAIX SOCIALE',\n 'CLASSIFICATION DES FONCTIONS',\n 'AVANTAGE/MÉTHODE DE RÉCOMPENSE ALTERNATIVE (EXCL PRIME, CHÈQUE, BONUS)',\n 'DISCRIMINATION',\n 'FLEXIBILITÉ DU TEMPS DE TRAVAIL',\n 'HEURES SUPPLÉMENTAIRES',\n 'HARMONISATION DU STATUT OUVRIER/EMPLOYÉS',\n 'DÉLÉGATION SYNDICALE',\n \"FONCTIONNEMENT AU SEIN DE L'ENTREPRISE/DES ORGANES DE CONCERTATION\",\n 'TRAVAIL PENDANT LE WEEKEND ET LES JOURS FÉRIÉS',\n 'PARTICIPATION AUX BÉNÉFICES/AVANTAGE NON RECURR. LIÉ AUX RÉSULT.-CCT90',\n 'TRAVAIL À TEMPS PARTIEL',\n 'CONGÉ POUR RAISONS IMPÉRIEUSES',\n 'PRIME UNIQUE',\n 'RÉDUCTION DE LA DURÉE DE TRAVAIL',\n 'CONGÉ PARENTAL ET CONGÉ POUR DES RAISONS PERSONNELLES',\n 'MODALITÉS DE LA DURÉE DE TRAVAIL',\n 'FONCTIONNEMENT AU SEIN  DE LA COMMISSION PARITAIRE',\n \"FONDS SOCIAUX, AUTRE QUE LES FONDS DE SÉCURITÉ D'EXISTENCE\",\n 'MESURE POUR ENTREPRISE EN DIFFICULTÉ/ RESTRUCTURATION - PAS DE RCC',\n 'CHÈQUES CADEAU, SPORT ET CULTURE',\n \"PRIME D'ANCIENNETÉ, PRIME DE DÉPART\",\n 'LICENCIEMENT DES TRAVAILLEURS PROTÉGÉS',\n 'CHÔMAGE ÉCONOMIQUE DES EMPLOYÉS',\n 'TÉLÉTRAVAIL']"
     },
     "execution_count": 81,
     "metadata": {},
     "output_type": "execute_result"
    }
   ],
   "source": [
    "#generating all possible FR themes\n",
    "themes_fr = []\n",
    "for r in  responses2.themesFr:\n",
    "    if r is not None:\n",
    "        for t in r:\n",
    "            if t not in themes_fr:\n",
    "                themes_fr += [t]\n",
    "themes_fr"
   ],
   "metadata": {
    "collapsed": false,
    "pycharm": {
     "name": "#%%\n"
    }
   }
  },
  {
   "cell_type": "code",
   "execution_count": null,
   "outputs": [],
   "source": [],
   "metadata": {
    "collapsed": false,
    "pycharm": {
     "name": "#%%\n"
    }
   }
  },
  {
   "cell_type": "code",
   "execution_count": 154,
   "outputs": [],
   "source": [
    "#code to retrieve the entire text body\n",
    "#removing for testing purpose\n",
    "if \"chapters\" in responses2.columns.to_list():\n",
    "    responses2.drop(columns=[\"chapters\"], inplace=True)\n",
    "#if 2 > 1:\n",
    "#\n",
    "chapters = []\n",
    "\n",
    "for filename in responses2.txt_name.to_list():\n",
    "    filename = responses2.txt_name.to_list()[10]\n",
    "    file_path = os.path.join(TEXTS_PATH, filename)\n",
    "    with open(file_path, 'r', encoding=\"utf8\") as f:\n",
    "        #to retrieve entire body not necessary\n",
    "        #responses2.loc[responses2.txt_name == filename, \"txt_body\"] = f.read()\n",
    "\n",
    "        line_list = f.readlines()\n",
    "        whole_text = \"\"\n",
    "        for line in line_list:\n",
    "            whole_text += line\n",
    "        ch_list = whole_text.lower().split(\"chapitre\")\n",
    "        if len(ch_list) > 1:\n",
    "            print(len(ch_list))\n",
    "        chapters += [ch_list]\n",
    "\n",
    "#responses2.loc[responses2.txt_name == filename, \"chapters\"].values = np.array(ch_list)\n",
    "responses2[\"chapters\"] = chapters"
   ],
   "metadata": {
    "collapsed": false,
    "pycharm": {
     "name": "#%%\n"
    }
   }
  },
  {
   "cell_type": "code",
   "execution_count": 153,
   "outputs": [
    {
     "name": "stdout",
     "output_type": "stream",
     "text": [
      "1\n",
      "1\n",
      "1\n",
      "1\n",
      "1\n",
      "1\n",
      "1\n",
      "1\n",
      "1\n",
      "1\n",
      "1\n",
      "1\n",
      "1\n",
      "1\n",
      "1\n",
      "1\n",
      "1\n",
      "1\n",
      "1\n",
      "1\n",
      "1\n",
      "1\n",
      "1\n",
      "1\n",
      "1\n",
      "1\n",
      "1\n",
      "1\n",
      "1\n",
      "1\n",
      "1\n",
      "1\n",
      "1\n",
      "1\n",
      "1\n",
      "1\n",
      "1\n",
      "1\n",
      "1\n",
      "1\n",
      "1\n",
      "1\n",
      "1\n",
      "1\n",
      "1\n",
      "1\n",
      "1\n",
      "1\n",
      "1\n",
      "1\n",
      "1\n",
      "1\n",
      "1\n",
      "1\n",
      "1\n",
      "1\n",
      "1\n",
      "1\n",
      "1\n",
      "1\n",
      "1\n",
      "1\n",
      "1\n",
      "1\n",
      "1\n",
      "1\n",
      "1\n",
      "1\n",
      "1\n",
      "1\n",
      "1\n",
      "1\n",
      "1\n",
      "1\n",
      "1\n",
      "1\n",
      "1\n",
      "1\n",
      "1\n",
      "1\n",
      "1\n",
      "1\n",
      "1\n",
      "1\n",
      "1\n",
      "1\n",
      "1\n",
      "1\n",
      "1\n",
      "1\n",
      "1\n",
      "1\n",
      "1\n",
      "1\n",
      "1\n",
      "1\n",
      "1\n",
      "1\n",
      "1\n",
      "1\n",
      "1\n",
      "1\n",
      "1\n",
      "1\n",
      "1\n",
      "1\n",
      "1\n",
      "1\n",
      "1\n",
      "1\n",
      "1\n",
      "1\n",
      "1\n",
      "1\n",
      "1\n",
      "1\n",
      "1\n",
      "1\n",
      "1\n",
      "1\n",
      "1\n",
      "1\n",
      "1\n",
      "1\n",
      "1\n",
      "1\n",
      "1\n",
      "1\n",
      "1\n",
      "1\n",
      "1\n",
      "1\n",
      "1\n",
      "1\n",
      "1\n",
      "1\n",
      "1\n",
      "1\n",
      "1\n",
      "1\n",
      "1\n",
      "1\n",
      "1\n",
      "1\n",
      "1\n",
      "1\n",
      "1\n",
      "1\n",
      "1\n",
      "1\n",
      "1\n",
      "1\n",
      "1\n",
      "1\n",
      "1\n",
      "1\n",
      "1\n",
      "1\n",
      "1\n",
      "1\n",
      "1\n",
      "1\n",
      "1\n",
      "1\n",
      "1\n",
      "1\n",
      "1\n",
      "1\n",
      "1\n",
      "1\n",
      "1\n",
      "1\n",
      "1\n",
      "1\n",
      "1\n",
      "1\n",
      "1\n",
      "1\n",
      "1\n",
      "1\n",
      "1\n",
      "1\n",
      "1\n",
      "1\n",
      "1\n",
      "1\n",
      "1\n",
      "1\n",
      "1\n",
      "1\n",
      "1\n",
      "1\n",
      "1\n",
      "1\n",
      "1\n",
      "1\n",
      "1\n",
      "1\n",
      "1\n",
      "1\n",
      "1\n",
      "1\n",
      "1\n",
      "1\n",
      "1\n",
      "1\n",
      "1\n",
      "1\n",
      "1\n",
      "1\n",
      "1\n",
      "1\n",
      "1\n",
      "1\n",
      "1\n",
      "1\n",
      "1\n",
      "1\n",
      "1\n",
      "1\n",
      "1\n",
      "1\n",
      "1\n",
      "1\n",
      "1\n",
      "1\n",
      "1\n",
      "1\n",
      "1\n",
      "1\n",
      "1\n",
      "1\n",
      "1\n",
      "1\n",
      "1\n",
      "1\n",
      "1\n",
      "1\n",
      "1\n",
      "1\n",
      "1\n",
      "1\n",
      "1\n",
      "1\n",
      "1\n",
      "1\n",
      "1\n",
      "1\n",
      "1\n",
      "1\n",
      "1\n",
      "1\n",
      "1\n",
      "1\n",
      "1\n",
      "1\n",
      "1\n",
      "1\n",
      "1\n",
      "1\n",
      "1\n",
      "1\n",
      "1\n",
      "1\n",
      "1\n",
      "1\n",
      "1\n",
      "1\n",
      "1\n",
      "1\n",
      "1\n",
      "1\n",
      "1\n",
      "1\n",
      "1\n",
      "1\n",
      "1\n",
      "1\n",
      "1\n",
      "1\n",
      "1\n",
      "1\n",
      "1\n",
      "1\n",
      "1\n",
      "1\n",
      "1\n",
      "1\n",
      "1\n",
      "1\n",
      "1\n",
      "1\n",
      "1\n",
      "1\n",
      "1\n",
      "1\n",
      "1\n",
      "1\n",
      "1\n",
      "1\n",
      "1\n",
      "1\n",
      "1\n",
      "1\n",
      "1\n",
      "1\n",
      "1\n",
      "1\n",
      "1\n",
      "1\n",
      "1\n",
      "1\n",
      "1\n",
      "1\n",
      "1\n",
      "1\n",
      "1\n",
      "1\n",
      "1\n",
      "1\n",
      "1\n",
      "1\n",
      "1\n",
      "1\n",
      "1\n",
      "1\n",
      "1\n",
      "1\n",
      "1\n",
      "1\n",
      "1\n",
      "1\n",
      "1\n",
      "1\n",
      "1\n",
      "1\n",
      "1\n",
      "1\n",
      "1\n",
      "1\n",
      "1\n",
      "1\n",
      "1\n",
      "1\n",
      "1\n",
      "1\n",
      "1\n",
      "1\n",
      "1\n",
      "1\n",
      "1\n",
      "1\n",
      "1\n",
      "1\n",
      "1\n",
      "1\n",
      "1\n",
      "1\n",
      "1\n",
      "1\n",
      "1\n",
      "1\n",
      "1\n",
      "1\n",
      "1\n",
      "1\n",
      "1\n",
      "1\n",
      "1\n",
      "1\n",
      "1\n",
      "1\n",
      "1\n",
      "1\n",
      "1\n",
      "1\n",
      "1\n",
      "1\n",
      "1\n",
      "1\n",
      "1\n",
      "1\n",
      "1\n",
      "1\n",
      "1\n",
      "1\n",
      "1\n",
      "1\n",
      "1\n",
      "1\n",
      "1\n",
      "1\n",
      "1\n",
      "1\n",
      "1\n",
      "1\n",
      "1\n",
      "1\n",
      "1\n",
      "1\n",
      "1\n",
      "1\n",
      "1\n",
      "1\n",
      "1\n",
      "1\n",
      "1\n",
      "1\n",
      "1\n",
      "1\n",
      "1\n",
      "1\n",
      "1\n",
      "1\n",
      "1\n",
      "1\n",
      "1\n",
      "1\n",
      "1\n",
      "1\n",
      "1\n",
      "1\n",
      "1\n",
      "1\n",
      "1\n",
      "1\n",
      "1\n",
      "1\n",
      "1\n",
      "1\n",
      "1\n",
      "1\n",
      "1\n",
      "1\n",
      "1\n",
      "1\n",
      "1\n",
      "1\n",
      "1\n",
      "1\n",
      "1\n",
      "1\n",
      "1\n",
      "1\n",
      "1\n",
      "1\n",
      "1\n",
      "1\n",
      "1\n",
      "1\n",
      "1\n",
      "1\n",
      "1\n",
      "1\n",
      "1\n",
      "1\n",
      "1\n",
      "1\n",
      "1\n",
      "1\n",
      "1\n",
      "1\n",
      "1\n",
      "1\n",
      "1\n",
      "1\n",
      "1\n",
      "1\n",
      "1\n",
      "1\n",
      "1\n",
      "1\n",
      "1\n",
      "1\n",
      "1\n",
      "1\n",
      "1\n",
      "1\n",
      "1\n",
      "1\n",
      "1\n",
      "1\n",
      "1\n",
      "1\n",
      "1\n",
      "1\n",
      "1\n",
      "1\n",
      "1\n",
      "1\n",
      "1\n",
      "1\n",
      "1\n",
      "1\n",
      "1\n",
      "1\n",
      "1\n",
      "1\n",
      "1\n",
      "1\n",
      "1\n",
      "1\n",
      "1\n",
      "1\n",
      "1\n",
      "1\n",
      "1\n",
      "1\n",
      "1\n",
      "1\n",
      "1\n",
      "1\n",
      "1\n",
      "1\n",
      "1\n",
      "1\n",
      "1\n",
      "1\n",
      "1\n",
      "1\n"
     ]
    }
   ],
   "source": [
    "for r in responses2.chapters.to_list():\n",
    "    print(len(r))"
   ],
   "metadata": {
    "collapsed": false,
    "pycharm": {
     "name": "#%%\n"
    }
   }
  },
  {
   "cell_type": "code",
   "execution_count": 119,
   "outputs": [
    {
     "data": {
      "text/plain": "numpy.ndarray"
     },
     "execution_count": 119,
     "metadata": {},
     "output_type": "execute_result"
    }
   ],
   "source": [
    "type(responses2.loc[responses2.txt_name == filename, 'themesFr'].values)"
   ],
   "metadata": {
    "collapsed": false,
    "pycharm": {
     "name": "#%%\n"
    }
   }
  },
  {
   "cell_type": "code",
   "execution_count": 142,
   "outputs": [],
   "source": [
    "responses2.loc[responses2.txt_name == filename, \"chapters\"] = np.array(ch_list)"
   ],
   "metadata": {
    "collapsed": false,
    "pycharm": {
     "name": "#%%\n"
    }
   }
  },
  {
   "cell_type": "code",
   "execution_count": 143,
   "outputs": [
    {
     "data": {
      "text/plain": "array([\"neerlegging-dépôt: 21/02/2018 regist.-enregistr.: 05/03/2018 n°: 144977/c0/111\\n\\ncommission paritaire 111 constructions metallique, mecanique et electrique\\n\\nconvention collective de travail du 19 février 2018\\n\\ntravail faisable modifications de carriere\\n\\n\\\\rt. 1 — champ d'application\\n\\na présente convention collective de travail s'applique ux employeurs et aux ouvriers des entreprises essortissant à la commission paritaire des onstructions métallique, mécanique et électrique.\\n\\n)n entend par “ouvriers”, les ouvriers et les ouvrières.\\n\\n\\\\rt. 2 — objet\\n\\n\\\\ partir du 1° janvier 2018, cette convention collective ccorde des indemnités aux ouvriers qui ont atteint âge de 58 ans au moins, dans le cadre des mesures isant à diminuer la charge de travail.\\n\\n‚es indemnités sont payées par le fonds de sécurité 'existence des fabrications métalliques, ci-après ommé le fsefm.\\n\\na présente convention collective de travail a été onclue en application de la convention collective de avail n° 104 du 27 juin 2012 concernant la mise en euvre d’un plan pour l'emploi des travailleurs âgés ans l'entreprise et de l'arrêté royal du 9 janvier 2018 1odifiant l'article 19 de l'arrêté royal du 28 novembre 969 pris en exécution de la loi du 27 juin 1969 visant l'arrêté-loi du 28 décembre 1944 concernant la écurité sociale des travailleurs ( mb du 25 janvier 018).\\n\\nrt. 3 —- mesure « travail faisable & modifications e carrière »\\n\\nes ouvriers qui dans le cadre de la planification de la n de carrière conviennent volontairement et en accord vec leur employeur de modifier leur carrière avec pour onséquence une réduction de salaire, peuvent cevoir du fsefm une indemnité comme ompensation pour la perte de salaire.\\n\\n|\\n\\ncette modification de carrière suppose qu'il a été convenu d'une modification des conditions de travail avec réduction de salaire résultant: de l'affectation à une fonction alternative; du passage d'un régime de travail en équipes ou de nuit à un régime de jour; du passage d'une occupation à temps plein à un régime 4/5.\\n\\ncette modification des conditions de travail doit être onstatée par écrit et doit commencer le 1% jour du nois. cette modification de carrière peut être onvenue pour une durée tant indéterminée que léterminée.\\n\\nart. 4 — conditions\\n\\nour avoir droit à une indemnité à charge du fsefm, il onvient de satisfaire aux conditions suivantes:\\n\\nancienneté\\n\\n\\\\ntérieurement à la modification de carrière, l'ouvrier loit avoir une ancienneté d’au moins 3 mois auprès de on employeur dans la fonction précédente, dans un égime de travail en équipes ou de nuit, ou dans une ccupation à temps plein.\\n\\n’erte de salaire\\n\\n\\\\u début de la modification de carrière, l’ouvrier subit, n raison de ce changement, une perte de salaire net ui est supérieure à l'indemnité de base prévue à article 6.\\n\\nour constater cette perte de salaire net, le salaire our les prestations normales du mois précédant la nodification de carrière est comparé au salaire pour >s prestations normales du mois au cours duquel le hangement de carrière débute.\\n\\n‘raction d'occupation minimale ‘ouvrier doit conserver une fraction d'occupation ffective d'au moins 4/57.\\n\\nondition d'âge\\n\\nu début de la modification de carrière, l’ouvrier aura tteint l'âge de 58 ans au moins. cette condition d'âge st de 60 ans au moins pour l'ouvrier qui passe d'une ccupation à temps plein à un régime de travail 4/5.\\n\\nrt. 5 — fsefm\\n\\ne fsefm est chargé de la mise en oeuvre pratique de à procédure de demande, des modalités de paiement, u contrôle et de l'application de la mesure « travail aisable & modifications de carrière ». il met à cet effet ss consignes nécessaires à disposition.\\n\\ntant l'employeur que l'ouvrier sont tenus de respecter es consignes et de communiquer immédiatement et spontanément au fsefm tout changement concernant a modification de carrière.\\n\\nemployeur et/ou l'ouvrier ont toujours le droit, en cas je litige, de soumettre le dossier au fsefm.\\n\\nart. 6 — les indemnités\\n\\nouvrier qui satisfait à toutes les conditions a droit à ne indemnité mensuelle brute de base de € 77,00.\\n\\ncette rémunération de base sera majorée d'un montant de € 7,70 brut par tranche complète de € 200 lépassant le plafond salarial brut mensuel de € 3.500 .\\n\\ne salaire brut pris en considération pour le calcul du supplément est le salaire brut pour les prestations ormales du mois précédant la modification de arrière.\\n\\n‘indemnité maximale pouvant être octroyée est de € 54 brut.\\n\\n‘octroi de l'indemnité ne peut pas avoir pour onséquence que le salaire net du travailleur soit plus levé qu'avant la modification de carrière. le cas chéant, l'indemnité sera plafonnée à ce montant.\\n\\ne montant de l'indemnité est fixé une fois pour toutes u moment du changement de carrière.\\n\\nes indemnités et le plafond salarial brut sont indexés nnuellement au 1er juillet. on compare à cet effet la noyenne quadri-mensuelle de l'indice du mois de juin e l’année en cours à la moyenne quadri-mensuelle e l'indice du mois de juin de l’année précédente.\\n\\ne droit à l'indemnité expire immédiatement dès la essation du contrat de travail ou dès que la 1odification de carrière prend fin.\\n\\nrt. 7 — dispositions relatives au cumul\\n\\n‘indemnité « travail faisable & modifications de arrière » n'est pas cumulable avec une allocation ‘interruption octroyée aux ouvriers qui suspendent omplètement leur contrat de travail ou qui réduisent urs prestations de travail dans le cadre d'un créditamps, d'une diminution de carrière et d'emplois de fin e carrière ou dans le cadre de congés thématiques. congé parental, congé pour soins à un membre du \\\\énage ou de la famille gravement malade ou pour oins palliatifs)\\n\\nindemnité « travail faisable & modifications de arrière » n'est pas cumulable avec les indemnités ‚ctroyées par le fsefm en vertu des articles 21 bis et 22 de ses statuts.\\n\\nes indemnités pour les différentes formes de nodification de carrière ne sont pas cumulables.\\n\\n\\\\rt. 8 — durée\\n\\na présente convention collective de travail est conclue\\n\\njour une durée indéterminée à partir du 1* janvier 018.\\n\\nile peut être dénoncée moyennant l'envoi d'une lettre ecommandée au président de la commission paritaire ationale et en respectant un délai de préavis de 6 nois.\\n\"],\n      dtype=object)"
     },
     "execution_count": 143,
     "metadata": {},
     "output_type": "execute_result"
    }
   ],
   "source": [
    "responses2.loc[responses2.txt_name == filename, \"chapters\"].values"
   ],
   "metadata": {
    "collapsed": false,
    "pycharm": {
     "name": "#%%\n"
    }
   }
  },
  {
   "cell_type": "code",
   "execution_count": 83,
   "outputs": [
    {
     "ename": "ValueError",
     "evalue": "Must have equal len keys and value when setting with an iterable",
     "output_type": "error",
     "traceback": [
      "\u001B[1;31m---------------------------------------------------------------------------\u001B[0m",
      "\u001B[1;31mValueError\u001B[0m                                Traceback (most recent call last)",
      "\u001B[1;32m<ipython-input-83-913c9d8a5ab6>\u001B[0m in \u001B[0;36m<module>\u001B[1;34m\u001B[0m\n\u001B[0;32m      8\u001B[0m         \u001B[0mwhole_text\u001B[0m \u001B[1;33m+=\u001B[0m \u001B[0mline\u001B[0m\u001B[1;33m\u001B[0m\u001B[1;33m\u001B[0m\u001B[0m\n\u001B[0;32m      9\u001B[0m     \u001B[0mch_list\u001B[0m \u001B[1;33m=\u001B[0m \u001B[0mwhole_text\u001B[0m\u001B[1;33m.\u001B[0m\u001B[0mlower\u001B[0m\u001B[1;33m(\u001B[0m\u001B[1;33m)\u001B[0m\u001B[1;33m.\u001B[0m\u001B[0msplit\u001B[0m\u001B[1;33m(\u001B[0m\u001B[1;34m\"chapitre\"\u001B[0m\u001B[1;33m)\u001B[0m\u001B[1;33m\u001B[0m\u001B[1;33m\u001B[0m\u001B[0m\n\u001B[1;32m---> 10\u001B[1;33m     \u001B[0mresponses2\u001B[0m\u001B[1;33m.\u001B[0m\u001B[0mloc\u001B[0m\u001B[1;33m[\u001B[0m\u001B[0mresponses2\u001B[0m\u001B[1;33m.\u001B[0m\u001B[0mtxt_name\u001B[0m \u001B[1;33m==\u001B[0m \u001B[0mfilename\u001B[0m\u001B[1;33m,\u001B[0m \u001B[1;34m\"chapters\"\u001B[0m\u001B[1;33m]\u001B[0m \u001B[1;33m=\u001B[0m \u001B[0mch_list\u001B[0m\u001B[1;33m\u001B[0m\u001B[1;33m\u001B[0m\u001B[0m\n\u001B[0m",
      "\u001B[1;32mt:\\users\\fra\\appdata\\local\\programs\\python\\python37\\lib\\site-packages\\pandas\\core\\indexing.py\u001B[0m in \u001B[0;36m__setitem__\u001B[1;34m(self, key, value)\u001B[0m\n\u001B[0;32m    690\u001B[0m \u001B[1;33m\u001B[0m\u001B[0m\n\u001B[0;32m    691\u001B[0m         \u001B[0miloc\u001B[0m \u001B[1;33m=\u001B[0m \u001B[0mself\u001B[0m \u001B[1;32mif\u001B[0m \u001B[0mself\u001B[0m\u001B[1;33m.\u001B[0m\u001B[0mname\u001B[0m \u001B[1;33m==\u001B[0m \u001B[1;34m\"iloc\"\u001B[0m \u001B[1;32melse\u001B[0m \u001B[0mself\u001B[0m\u001B[1;33m.\u001B[0m\u001B[0mobj\u001B[0m\u001B[1;33m.\u001B[0m\u001B[0miloc\u001B[0m\u001B[1;33m\u001B[0m\u001B[1;33m\u001B[0m\u001B[0m\n\u001B[1;32m--> 692\u001B[1;33m         \u001B[0miloc\u001B[0m\u001B[1;33m.\u001B[0m\u001B[0m_setitem_with_indexer\u001B[0m\u001B[1;33m(\u001B[0m\u001B[0mindexer\u001B[0m\u001B[1;33m,\u001B[0m \u001B[0mvalue\u001B[0m\u001B[1;33m,\u001B[0m \u001B[0mself\u001B[0m\u001B[1;33m.\u001B[0m\u001B[0mname\u001B[0m\u001B[1;33m)\u001B[0m\u001B[1;33m\u001B[0m\u001B[1;33m\u001B[0m\u001B[0m\n\u001B[0m\u001B[0;32m    693\u001B[0m \u001B[1;33m\u001B[0m\u001B[0m\n\u001B[0;32m    694\u001B[0m     \u001B[1;32mdef\u001B[0m \u001B[0m_validate_key\u001B[0m\u001B[1;33m(\u001B[0m\u001B[0mself\u001B[0m\u001B[1;33m,\u001B[0m \u001B[0mkey\u001B[0m\u001B[1;33m,\u001B[0m \u001B[0maxis\u001B[0m\u001B[1;33m:\u001B[0m \u001B[0mint\u001B[0m\u001B[1;33m)\u001B[0m\u001B[1;33m:\u001B[0m\u001B[1;33m\u001B[0m\u001B[1;33m\u001B[0m\u001B[0m\n",
      "\u001B[1;32mt:\\users\\fra\\appdata\\local\\programs\\python\\python37\\lib\\site-packages\\pandas\\core\\indexing.py\u001B[0m in \u001B[0;36m_setitem_with_indexer\u001B[1;34m(self, indexer, value, name)\u001B[0m\n\u001B[0;32m   1602\u001B[0m                             \u001B[0mindexer\u001B[0m\u001B[1;33m,\u001B[0m \u001B[0mself\u001B[0m\u001B[1;33m.\u001B[0m\u001B[0mobj\u001B[0m\u001B[1;33m.\u001B[0m\u001B[0maxes\u001B[0m\u001B[1;33m\u001B[0m\u001B[1;33m\u001B[0m\u001B[0m\n\u001B[0;32m   1603\u001B[0m                         )\n\u001B[1;32m-> 1604\u001B[1;33m                         \u001B[0mself\u001B[0m\u001B[1;33m.\u001B[0m\u001B[0m_setitem_with_indexer\u001B[0m\u001B[1;33m(\u001B[0m\u001B[0mnew_indexer\u001B[0m\u001B[1;33m,\u001B[0m \u001B[0mvalue\u001B[0m\u001B[1;33m,\u001B[0m \u001B[0mname\u001B[0m\u001B[1;33m)\u001B[0m\u001B[1;33m\u001B[0m\u001B[1;33m\u001B[0m\u001B[0m\n\u001B[0m\u001B[0;32m   1605\u001B[0m \u001B[1;33m\u001B[0m\u001B[0m\n\u001B[0;32m   1606\u001B[0m                         \u001B[1;32mreturn\u001B[0m\u001B[1;33m\u001B[0m\u001B[1;33m\u001B[0m\u001B[0m\n",
      "\u001B[1;32mt:\\users\\fra\\appdata\\local\\programs\\python\\python37\\lib\\site-packages\\pandas\\core\\indexing.py\u001B[0m in \u001B[0;36m_setitem_with_indexer\u001B[1;34m(self, indexer, value, name)\u001B[0m\n\u001B[0;32m   1633\u001B[0m         \u001B[1;32mif\u001B[0m \u001B[0mtake_split_path\u001B[0m\u001B[1;33m:\u001B[0m\u001B[1;33m\u001B[0m\u001B[1;33m\u001B[0m\u001B[0m\n\u001B[0;32m   1634\u001B[0m             \u001B[1;31m# We have to operate column-wise\u001B[0m\u001B[1;33m\u001B[0m\u001B[1;33m\u001B[0m\u001B[1;33m\u001B[0m\u001B[0m\n\u001B[1;32m-> 1635\u001B[1;33m             \u001B[0mself\u001B[0m\u001B[1;33m.\u001B[0m\u001B[0m_setitem_with_indexer_split_path\u001B[0m\u001B[1;33m(\u001B[0m\u001B[0mindexer\u001B[0m\u001B[1;33m,\u001B[0m \u001B[0mvalue\u001B[0m\u001B[1;33m,\u001B[0m \u001B[0mname\u001B[0m\u001B[1;33m)\u001B[0m\u001B[1;33m\u001B[0m\u001B[1;33m\u001B[0m\u001B[0m\n\u001B[0m\u001B[0;32m   1636\u001B[0m         \u001B[1;32melse\u001B[0m\u001B[1;33m:\u001B[0m\u001B[1;33m\u001B[0m\u001B[1;33m\u001B[0m\u001B[0m\n\u001B[0;32m   1637\u001B[0m             \u001B[0mself\u001B[0m\u001B[1;33m.\u001B[0m\u001B[0m_setitem_single_block\u001B[0m\u001B[1;33m(\u001B[0m\u001B[0mindexer\u001B[0m\u001B[1;33m,\u001B[0m \u001B[0mvalue\u001B[0m\u001B[1;33m,\u001B[0m \u001B[0mname\u001B[0m\u001B[1;33m)\u001B[0m\u001B[1;33m\u001B[0m\u001B[1;33m\u001B[0m\u001B[0m\n",
      "\u001B[1;32mt:\\users\\fra\\appdata\\local\\programs\\python\\python37\\lib\\site-packages\\pandas\\core\\indexing.py\u001B[0m in \u001B[0;36m_setitem_with_indexer_split_path\u001B[1;34m(self, indexer, value, name)\u001B[0m\n\u001B[0;32m   1687\u001B[0m \u001B[1;33m\u001B[0m\u001B[0m\n\u001B[0;32m   1688\u001B[0m                 raise ValueError(\n\u001B[1;32m-> 1689\u001B[1;33m                     \u001B[1;34m\"Must have equal len keys and value \"\u001B[0m\u001B[1;33m\u001B[0m\u001B[1;33m\u001B[0m\u001B[0m\n\u001B[0m\u001B[0;32m   1690\u001B[0m                     \u001B[1;34m\"when setting with an iterable\"\u001B[0m\u001B[1;33m\u001B[0m\u001B[1;33m\u001B[0m\u001B[0m\n\u001B[0;32m   1691\u001B[0m                 )\n",
      "\u001B[1;31mValueError\u001B[0m: Must have equal len keys and value when setting with an iterable"
     ]
    }
   ],
   "source": [
    "#testing code for filter depending on theme fr\n",
    "#for t in themes:\n",
    "t = themes_fr[0]\n",
    "mask = responses2.themesFr.apply(lambda x: t in x)\n",
    "r_t = responses2[mask]\n",
    "print(t)\n",
    "print(r_t)"
   ],
   "metadata": {
    "collapsed": false,
    "pycharm": {
     "name": "#%%\n"
    }
   }
  },
  {
   "cell_type": "markdown",
   "source": [
    "# NLP to be implemented"
   ],
   "metadata": {
    "collapsed": false,
    "pycharm": {
     "name": "#%% md\n"
    }
   }
  },
  {
   "cell_type": "code",
   "execution_count": null,
   "outputs": [],
   "source": [
    "from src.information_extraction.nlp_preprocess import Preprocess\n",
    "preprocess = Preprocess(nlp_model='en_core_web_md')"
   ],
   "metadata": {
    "collapsed": false,
    "pycharm": {
     "name": "#%%\n"
    }
   }
  },
  {
   "cell_type": "markdown",
   "source": [
    "t = preprocess.clean_text(text_sample)"
   ],
   "metadata": {
    "collapsed": false,
    "pycharm": {
     "name": "#%% md\n"
    }
   }
  },
  {
   "cell_type": "code",
   "execution_count": null,
   "outputs": [],
   "source": [
    "responses2.loc[:, \"txt_cleaned\"] =  responses2.loc[:, \"txt_body\"].apply(preprocess.clean_text)\n"
   ],
   "metadata": {
    "collapsed": false,
    "pycharm": {
     "name": "#%%\n"
    }
   }
  }
 ],
 "metadata": {
  "kernelspec": {
   "display_name": "Python 3",
   "language": "python",
   "name": "python3"
  },
  "language_info": {
   "codemirror_mode": {
    "name": "ipython",
    "version": 2
   },
   "file_extension": ".py",
   "mimetype": "text/x-python",
   "name": "python",
   "nbconvert_exporter": "python",
   "pygments_lexer": "ipython2",
   "version": "2.7.6"
  }
 },
 "nbformat": 4,
 "nbformat_minor": 0
}