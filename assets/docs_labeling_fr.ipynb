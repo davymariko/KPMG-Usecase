{
  "nbformat": 4,
  "nbformat_minor": 0,
  "metadata": {
    "colab": {
      "name": "docs_labeling_fr.ipynb",
      "provenance": [],
      "toc_visible": true,
      "authorship_tag": "ABX9TyOCbEs7NLFJ9n/IUDB5tsuU"
    },
    "kernelspec": {
      "name": "python3",
      "display_name": "Python 3"
    }
  },
  "cells": [
    {
      "cell_type": "markdown",
      "metadata": {
        "id": "kuKWsJV27Xe2"
      },
      "source": [
        "# Importing and preprocessing of data"
      ]
    },
    {
      "cell_type": "code",
      "metadata": {
        "id": "OHoCSdHswimk",
        "colab": {
          "base_uri": "https://localhost:8080/"
        },
        "outputId": "9a59ac6f-0b50-49fa-d085-fa7a711f3338"
      },
      "source": [
        "from google.colab import drive\r\n",
        "\r\n",
        "drive.mount('/content/drive/')\r\n"
      ],
      "execution_count": 1,
      "outputs": [
        {
          "output_type": "stream",
          "text": [
            "Drive already mounted at /content/drive/; to attempt to forcibly remount, call drive.mount(\"/content/drive/\", force_remount=True).\n"
          ],
          "name": "stdout"
        }
      ]
    },
    {
      "cell_type": "code",
      "metadata": {
        "id": "NMVNjvlExvOf"
      },
      "source": [
        "TXTS_PATH = '/content/drive/My Drive/Becode/Kpmg/selection_fr'"
      ],
      "execution_count": 2,
      "outputs": []
    },
    {
      "cell_type": "code",
      "metadata": {
        "id": "AxwxF21YxnUj"
      },
      "source": [
        "import os"
      ],
      "execution_count": 3,
      "outputs": []
    },
    {
      "cell_type": "code",
      "metadata": {
        "id": "JZx91aOoyi1d"
      },
      "source": [
        "import pandas as pd\r\n",
        "pd.set_option('display.max_colwidth', 255)"
      ],
      "execution_count": 4,
      "outputs": []
    },
    {
      "cell_type": "code",
      "metadata": {
        "id": "J_t3pBX-xF7U"
      },
      "source": [
        "KPMG_PATH = '/content/drive/My Drive/Becode/Kpmg'\r\n",
        "RESPONSES_PATH = '/content/drive/My Drive/Becode/Kpmg/responses_2018_now.json'"
      ],
      "execution_count": 5,
      "outputs": []
    },
    {
      "cell_type": "code",
      "metadata": {
        "id": "DkiARh2Oxg4o"
      },
      "source": [
        "txt_filenames = [f for f in os.listdir(TXTS_PATH) if f.endswith(\".txt\")]"
      ],
      "execution_count": 6,
      "outputs": []
    },
    {
      "cell_type": "code",
      "metadata": {
        "id": "ZddQl2FVydlE"
      },
      "source": [
        "#reading json file to retrieve tags\r\n",
        "responses = pd.read_json(RESPONSES_PATH)"
      ],
      "execution_count": 7,
      "outputs": []
    },
    {
      "cell_type": "code",
      "metadata": {
        "colab": {
          "base_uri": "https://localhost:8080/",
          "height": 170
        },
        "id": "ycPxUepwyxtL",
        "outputId": "d8231c96-e79f-4d7b-9eec-542ebc43fc2d"
      },
      "source": [
        "#filtering only relevant columns\r\n",
        "columns = ['jcId', 'jcFr', 'titleFr', 'themesFr', 'scopeFr', 'noScopeFr', 'documentLink']\r\n",
        "responses2 = responses.copy(deep=True).loc[:,columns]\r\n",
        "#getting txt_name from original pdf name\r\n",
        "responses2[\"txt_name\"] = responses2[\"documentLink\"]\r\n",
        "responses2[\"txt_name\"] = responses2[\"txt_name\"].str.replace(\"/\",\"-\")\r\n",
        "responses2[\"txt_name\"] = responses2[\"txt_name\"].str.replace(\".pdf\",\"_FR.txt\")\r\n",
        "#filtering json only for selected files and columns\r\n",
        "columns += ['txt_name']\r\n",
        "responses2 = responses2.loc[responses2.txt_name.isin(txt_filenames), columns]\r\n",
        "responses2.head(2)"
      ],
      "execution_count": 8,
      "outputs": [
        {
          "output_type": "execute_result",
          "data": {
            "text/html": [
              "<div>\n",
              "<style scoped>\n",
              "    .dataframe tbody tr th:only-of-type {\n",
              "        vertical-align: middle;\n",
              "    }\n",
              "\n",
              "    .dataframe tbody tr th {\n",
              "        vertical-align: top;\n",
              "    }\n",
              "\n",
              "    .dataframe thead th {\n",
              "        text-align: right;\n",
              "    }\n",
              "</style>\n",
              "<table border=\"1\" class=\"dataframe\">\n",
              "  <thead>\n",
              "    <tr style=\"text-align: right;\">\n",
              "      <th></th>\n",
              "      <th>jcId</th>\n",
              "      <th>jcFr</th>\n",
              "      <th>titleFr</th>\n",
              "      <th>themesFr</th>\n",
              "      <th>scopeFr</th>\n",
              "      <th>noScopeFr</th>\n",
              "      <th>documentLink</th>\n",
              "      <th>txt_name</th>\n",
              "    </tr>\n",
              "  </thead>\n",
              "  <tbody>\n",
              "    <tr>\n",
              "      <th>34</th>\n",
              "      <td>1110000</td>\n",
              "      <td>COMMISSION PARITAIRE DES CONSTRUCTIONS METALLIQUE, MECANIQUE ET ELECTRIQUE</td>\n",
              "      <td>modification du régime de pension sectoriel social, du règlement de pension et du règlement de solidarité</td>\n",
              "      <td>[PENSIONS COMPÉMENTAIRES ET ASSURANCES GROUPES]</td>\n",
              "      <td>None</td>\n",
              "      <td>[les employeurs et ouvriers des entreprises exemptées du paiement d'une cotisation pour le régime de pension sectorielsur la base d'un accord d'entreprise relatif à l'instauration ou à l'élargissement d'un régime de pension complémentaire, employeurs ...</td>\n",
              "      <td>111/111-2018-013525.pdf</td>\n",
              "      <td>111-111-2018-013525_FR.txt</td>\n",
              "    </tr>\n",
              "    <tr>\n",
              "      <th>35</th>\n",
              "      <td>1110000</td>\n",
              "      <td>COMMISSION PARITAIRE DES CONSTRUCTIONS METALLIQUE, MECANIQUE ET ELECTRIQUE</td>\n",
              "      <td>allocation spéciale compensatoire</td>\n",
              "      <td>[PRIME SYNDICALE]</td>\n",
              "      <td>None</td>\n",
              "      <td>None</td>\n",
              "      <td>111/111-2018-012196.pdf</td>\n",
              "      <td>111-111-2018-012196_FR.txt</td>\n",
              "    </tr>\n",
              "  </tbody>\n",
              "</table>\n",
              "</div>"
            ],
            "text/plain": [
              "       jcId  ...                    txt_name\n",
              "34  1110000  ...  111-111-2018-013525_FR.txt\n",
              "35  1110000  ...  111-111-2018-012196_FR.txt\n",
              "\n",
              "[2 rows x 8 columns]"
            ]
          },
          "metadata": {
            "tags": []
          },
          "execution_count": 8
        }
      ]
    },
    {
      "cell_type": "code",
      "metadata": {
        "colab": {
          "base_uri": "https://localhost:8080/"
        },
        "id": "XlXwURIgy2uP",
        "outputId": "0207a219-f9fe-451a-eb46-f9d9160595e0"
      },
      "source": [
        "#generating all possible FR themes\r\n",
        "themes_fr = []\r\n",
        "for r in  responses2.themesFr:\r\n",
        "    if r is not None:\r\n",
        "        for t in r:\r\n",
        "            if t not in themes_fr:\r\n",
        "                themes_fr += [t]\r\n",
        "len(themes_fr)\r\n"
      ],
      "execution_count": 9,
      "outputs": [
        {
          "output_type": "execute_result",
          "data": {
            "text/plain": [
              "54"
            ]
          },
          "metadata": {
            "tags": []
          },
          "execution_count": 9
        }
      ]
    },
    {
      "cell_type": "code",
      "metadata": {
        "id": "r2kAiO8Uy9Eu"
      },
      "source": [
        "#code to retrieve the entire body\r\n",
        "#%%\r\n",
        "for filename in responses2.txt_name.to_list():\r\n",
        "    # filename = responses2.txt_name.to_list()[10] #test\r\n",
        "    file_path = os.path.join(TXTS_PATH, filename)\r\n",
        "    with open(file_path, 'r', encoding=\"utf8\") as f:\r\n",
        "        #to retrieve entire body not necessary\r\n",
        "        responses2.loc[responses2.txt_name == filename, \"doc_bodies\"] = f.read()\r\n",
        "        f.close()"
      ],
      "execution_count": 10,
      "outputs": []
    },
    {
      "cell_type": "code",
      "metadata": {
        "id": "iox0MB-33HOD"
      },
      "source": [
        "t = themes_fr[0]\r\n",
        "mask = responses2.dropna(axis=0, subset=['themesFr']).themesFr.map(lambda x: t in x)"
      ],
      "execution_count": 11,
      "outputs": []
    },
    {
      "cell_type": "code",
      "metadata": {
        "colab": {
          "base_uri": "https://localhost:8080/"
        },
        "id": "NUAfSmIf16p-",
        "outputId": "9e68e8f6-1b02-4304-9609-8dd71a243b51"
      },
      "source": [
        "len(responses2)"
      ],
      "execution_count": 12,
      "outputs": [
        {
          "output_type": "execute_result",
          "data": {
            "text/plain": [
              "578"
            ]
          },
          "metadata": {
            "tags": []
          },
          "execution_count": 12
        }
      ]
    },
    {
      "cell_type": "code",
      "metadata": {
        "id": "0kHR6RAx2OK0"
      },
      "source": [
        " #len(responses2.dropna(axis=0, subset=['themesFr'])[map])"
      ],
      "execution_count": 13,
      "outputs": []
    },
    {
      "cell_type": "markdown",
      "metadata": {
        "id": "1Zv_1-VwyT4s"
      },
      "source": [
        "# Regex extraction"
      ]
    },
    {
      "cell_type": "code",
      "metadata": {
        "id": "8rzHtkeWyOdQ"
      },
      "source": [
        "\"\"\"This script regex-extracts information from the document bodies to new DataFrame columns\"\"\"\r\n",
        "#redundant libraries to be checked\r\n",
        "import datetime\r\n",
        "from pickle import load\r\n",
        "import re\r\n",
        "\r\n",
        "import numpy as np\r\n",
        "import pandas as pd"
      ],
      "execution_count": 14,
      "outputs": []
    },
    {
      "cell_type": "code",
      "metadata": {
        "id": "Rq9BZQMsyjQc"
      },
      "source": [
        "def split_func(text):\r\n",
        "  texts_lst = []\r\n",
        "  sents = text.split(\"\\n\\n\")\r\n",
        "  for sent in sents:\r\n",
        "    texts_lst.append(sent)\r\n",
        "  return texts_lst"
      ],
      "execution_count": 142,
      "outputs": []
    },
    {
      "cell_type": "code",
      "metadata": {
        "id": "Pp7kG9t6TgWs"
      },
      "source": [
        "def extract_pattern(lst:List, pattern:str):\r\n",
        "  output_lst = []\r\n",
        "  for item in lst: \r\n",
        "    if re.search(pattern, item, flags=re.IGNORECASE):\r\n",
        "      output_lst.append(item)\r\n",
        "    else:\r\n",
        "      pass\r\n",
        "  return '\\n'.join(output_lst)"
      ],
      "execution_count": 150,
      "outputs": []
    },
    {
      "cell_type": "code",
      "metadata": {
        "id": "gftt1FgpUG1n"
      },
      "source": [
        "def extract_scope(lst):\r\n",
        "  output_lst = []\r\n",
        "  for item in lst: \r\n",
        "    #pattern1 = r\".*\\b(convention collective de travail s'applique | Champ d'application)\\b.*\"\r\n",
        "    #pattern2 = r\".*\\b(La présente convention collective de travail\\s*\\S* [a-z]'appli\\w*)\\b.*\"\r\n",
        "    #pattern3 = r\".*\\b(convention collective de travail|CCT)\\s*\\S*[a-z]('appli\\w*)\\b.*\"\r\n",
        "    #pattern4 = r\".*\\b(convention collective de travail|CCT)\\s*\\S*.*('?appli\\w*)\\b.*\"\r\n",
        "    #pattern = r\".*\\b(convention collective de.*travail|CCT).*('*appli\\w*)\\b.*\"\r\n",
        "    pattern = r\".*((convention collective de )(travail|CCT))*.*\"\r\n",
        "    if re.search(pattern, item, flags=re.IGNORECASE):\r\n",
        "      output_lst.append(item)\r\n",
        "    else:\r\n",
        "      pass\r\n",
        "  return '\\n'.join(output_lst)"
      ],
      "execution_count": 152,
      "outputs": []
    },
    {
      "cell_type": "code",
      "metadata": {
        "id": "l1uLhwvTUHJC"
      },
      "source": [
        "def extract_deposit(lst):\r\n",
        "  output_lst = []\r\n",
        "  for item in lst: \r\n",
        "    pattern =r\".*(épôt).*\"\r\n",
        "    if re.search(pattern, item, flags=re.IGNORECASE):\r\n",
        "      output_lst.append(item)\r\n",
        "    else:\r\n",
        "      pass\r\n",
        "  return '\\n'.join(output_lst)"
      ],
      "execution_count": 153,
      "outputs": []
    },
    {
      "cell_type": "code",
      "metadata": {
        "id": "QTTnao6puKHt"
      },
      "source": [
        "def add_tags(df, body_column):\r\n",
        "  df['texts_lst'] = df[body_column].apply(split_func)\r\n",
        "  #pattern1 = r\".*\\b(convention collective de travail s'applique | Champ d'application)\\b.*\r\n",
        "  #pattern2 = r\".*\\b(La présente convention collective de travail\\s*\\S* [a-z]'appli\\w*)\\b.*\"\r\n",
        "  #pattern3 = r\".*\\b(convention collective de travail|CCT)\\s*\\S*[a-z]('appli\\w*)\\b.*\"\r\n",
        "  #pattern4 = r\".*\\b(convention collective de travail|CCT)\\s*\\S*.*('?appli\\w*)\\b.*\"\r\n",
        "  #pattern = r\".*\\b(convention collective de.*travail|CCT).*('*appli\\w*)\\b.*\"\r\n",
        "  df['scopeFr'] = df['texts_lst'].apply(extract_scope)\r\n",
        "  df['depotFr'] = df['texts_lst'].apply(extract_deposit)\r\n",
        "  df.drop(columns=['texts_lst'], inplace = True)\r\n",
        "  return df"
      ],
      "execution_count": 154,
      "outputs": []
    },
    {
      "cell_type": "code",
      "metadata": {
        "id": "DWW3NtM9PxfO",
        "outputId": "ab16b62c-d8dc-4e33-927a-95b6ee889684",
        "colab": {
          "base_uri": "https://localhost:8080/"
        }
      },
      "source": [
        "df = responses2.head(5)\r\n",
        "df['texts_lst'] = df[\"doc_bodies\"].apply(split_func)\r\n",
        "df['texts_lst']"
      ],
      "execution_count": 177,
      "outputs": [
        {
          "output_type": "stream",
          "text": [
            "/usr/local/lib/python3.7/dist-packages/ipykernel_launcher.py:2: SettingWithCopyWarning: \n",
            "A value is trying to be set on a copy of a slice from a DataFrame.\n",
            "Try using .loc[row_indexer,col_indexer] = value instead\n",
            "\n",
            "See the caveats in the documentation: https://pandas.pydata.org/pandas-docs/stable/user_guide/indexing.html#returning-a-view-versus-a-copy\n",
            "  \n"
          ],
          "name": "stderr"
        },
        {
          "output_type": "execute_result",
          "data": {
            "text/plain": [
              "34    [Neerlegging-Dépôt: 18/12/2018, Regist.-Enregistr.: 07/01/2019, N°: 149887/C0/111 , COMMISSION PARITAIRE DES CONSTRUCTIONS |, METALLIQUE, MECANIQUE ET ELECTRIQUE (PC |, Mt) , | , | , Ì       , CONVENTION COLLECTIVE DE TRAVAIL DU 17, DECEMBRE 2018 MODI...\n",
              "35    [COMMISSION PARITAIRE 111 DES CONSTRUCTIONS, MÉTALLIQUE, MÉCANIQUE ET ÉLECTRIQUE , Convention collective de travail du 15 octobre 2018 , ALLOCATION SPECIALE COMPENSATOIRE , Chapitre ler. - Champ d'application , Article 1er. - La présente convention co...\n",
              "36    [Neerlegging-Dépôt: 17/10/2018, Regist.-Enregistr.: 05/11/2018, N°: 148625/CO/111 , COMMISION PARITAIRE DE LA CONSTRUCTION, METALLIQUE, MECANIQUE ET ELECTRIQUE SECTION MONTAGE (CP 111.3) , Convention collective de travail du 15 octobre 2018 , MODIFICA...\n",
              "37    [Neerlegging-Dépôt: 05/09/2018, Regist.-Enregistr.: 17/10/2018, N°: 148350/C0/111 , Commission paritaire des constructions métallique, mécanique et électrique , Convention collective de travail du 3 septembre 2018 , Addendum à la CCT du 16 octobre 201...\n",
              "38    [Neerlegging-Dépôt: 03/07/2018, Regist.-Enregistr.: 14/08/2018, N°: 147257/CO/111  , COMMISSION PARITAIRE DES CONSTRUCTIONS, METALLIQUE, MECANIQUE ET ELECTRIQUE , Convention collective de travail du 2 juillet 2018, SALAIRE MINIMUM GARANTI , Préambule ...\n",
              "Name: texts_lst, dtype: object"
            ]
          },
          "metadata": {
            "tags": []
          },
          "execution_count": 177
        }
      ]
    },
    {
      "cell_type": "code",
      "metadata": {
        "id": "oGDTnOxJswsV",
        "outputId": "663bd7bc-5b9f-4e0e-ea42-78ad90136cb1",
        "colab": {
          "base_uri": "https://localhost:8080/"
        }
      },
      "source": [
        "df['depotFr'] = df['texts_lst'].apply(extract_deposit)\r\n",
        "df['depotFr']\r\n",
        "#df = add_tags(df, \"doc_bodies\")\r\n",
        "#df.loc[:,['txt_name','depotFr']]\r\n"
      ],
      "execution_count": 159,
      "outputs": [
        {
          "output_type": "execute_result",
          "data": {
            "text/plain": [
              "34                                                                                                                                                                                                                                       Neerlegging-Dépôt: 18/12/2018\n",
              "35                                                                                                                                                                                                                                                                    \n",
              "36                                                                                                                                                                                                                                       Neerlegging-Dépôt: 17/10/2018\n",
              "37                                                                                                                                                                                                                                       Neerlegging-Dépôt: 05/09/2018\n",
              "38                                                                                                                                                                                                                                       Neerlegging-Dépôt: 03/07/2018\n",
              "                                                                                                                                     ...                                                                                                                              \n",
              "2801                                                                                                                                                                                    Neerlegging-Dépôt: 26/06/2020 Regist.-Enregistr.: 28/07/2020 N°: 159660/C0/310\n",
              "2802                                                                                                                                                                                    Neerlegging-Dépôt: 26/06/2020 Regist.-Enregistr.: 28/07/2020 N°: 159661/C0/310\n",
              "2803    Neerlegging-Dépôt: 11/09/2020 Regist.-Enregistr.: 29/09/2020 N°: 160983/C0/311\\nA. Mandats à exercer dans l'entreprise (c'est-àdire dans un des magasins, dépôts, service de l'entité juridique constituée par l'entreprise)\\nB. Mandats à exercer en dehor...\n",
              "2804                                                                                                                                                                                                                                     Neerlegging-Dépôt: 26/02/2020\n",
              "2805                                                                                                                                                                                  Neerlegging-Dépôt: 26/02/2020 | Regist.-Enregistr.: 19/03/2020 N°: 157697/C0/311\n",
              "Name: depotFr, Length: 578, dtype: object"
            ]
          },
          "metadata": {
            "tags": []
          },
          "execution_count": 159
        }
      ]
    },
    {
      "cell_type": "code",
      "metadata": {
        "id": "2HzJPGz7pXeM",
        "outputId": "e37a87b4-5f3e-4dd0-ce2e-0558deeffce6",
        "colab": {
          "base_uri": "https://localhost:8080/",
          "height": 662
        }
      },
      "source": [
        "responses2.head(5)"
      ],
      "execution_count": 97,
      "outputs": [
        {
          "output_type": "execute_result",
          "data": {
            "text/html": [
              "<div>\n",
              "<style scoped>\n",
              "    .dataframe tbody tr th:only-of-type {\n",
              "        vertical-align: middle;\n",
              "    }\n",
              "\n",
              "    .dataframe tbody tr th {\n",
              "        vertical-align: top;\n",
              "    }\n",
              "\n",
              "    .dataframe thead th {\n",
              "        text-align: right;\n",
              "    }\n",
              "</style>\n",
              "<table border=\"1\" class=\"dataframe\">\n",
              "  <thead>\n",
              "    <tr style=\"text-align: right;\">\n",
              "      <th></th>\n",
              "      <th>jcId</th>\n",
              "      <th>jcFr</th>\n",
              "      <th>titleFr</th>\n",
              "      <th>themesFr</th>\n",
              "      <th>scopeFr</th>\n",
              "      <th>noScopeFr</th>\n",
              "      <th>documentLink</th>\n",
              "      <th>txt_name</th>\n",
              "      <th>doc_bodies</th>\n",
              "      <th>bodies_cleaned</th>\n",
              "    </tr>\n",
              "  </thead>\n",
              "  <tbody>\n",
              "    <tr>\n",
              "      <th>34</th>\n",
              "      <td>1110000</td>\n",
              "      <td>COMMISSION PARITAIRE DES CONSTRUCTIONS METALLIQUE, MECANIQUE ET ELECTRIQUE</td>\n",
              "      <td>modification du régime de pension sectoriel social, du règlement de pension et du règlement de solidarité</td>\n",
              "      <td>[PENSIONS COMPÉMENTAIRES ET ASSURANCES GROUPES]</td>\n",
              "      <td>None</td>\n",
              "      <td>[les employeurs et ouvriers des entreprises exemptées du paiement d'une cotisation pour le régime de pension sectorielsur la base d'un accord d'entreprise relatif à l'instauration ou à l'élargissement d'un régime de pension complémentaire, employeurs ...</td>\n",
              "      <td>111/111-2018-013525.pdf</td>\n",
              "      <td>111-111-2018-013525_FR.txt</td>\n",
              "      <td>Neerlegging-Dépôt: 18/12/2018\\n\\nRegist.-Enregistr.: 07/01/2019\\n\\nN°: 149887/C0/111 \\n\\nCOMMISSION PARITAIRE DES CONSTRUCTIONS |\\n\\nMETALLIQUE, MECANIQUE ET ELECTRIQUE (PC |\\n\\nMt) \\n\\n| \\n\\n| \\n\\nÌ       \\n\\nCONVENTION COLLECTIVE DE TRAVAIL DU 17\\n\\...</td>\n",
              "      <td>commission paritaire construction metallique mecanique electrique convention collective travail decembre modifiant regime pension sectoriel social reglement pension reglement solidarite chapitre champ article présente convention employeurs ouvriers en...</td>\n",
              "    </tr>\n",
              "    <tr>\n",
              "      <th>35</th>\n",
              "      <td>1110000</td>\n",
              "      <td>COMMISSION PARITAIRE DES CONSTRUCTIONS METALLIQUE, MECANIQUE ET ELECTRIQUE</td>\n",
              "      <td>allocation spéciale compensatoire</td>\n",
              "      <td>[PRIME SYNDICALE]</td>\n",
              "      <td>None</td>\n",
              "      <td>None</td>\n",
              "      <td>111/111-2018-012196.pdf</td>\n",
              "      <td>111-111-2018-012196_FR.txt</td>\n",
              "      <td>COMMISSION PARITAIRE 111 DES CONSTRUCTIONS\\n\\nMÉTALLIQUE, MÉCANIQUE ET ÉLECTRIQUE \\n\\nConvention collective de travail du 15 octobre 2018 \\n\\nALLOCATION SPECIALE COMPENSATOIRE \\n\\nChapitre ler. - Champ d'application \\n\\nArticle 1er. - La présente conv...</td>\n",
              "      <td>commission paritaire construction métallique mécanique électrique convention collective travail octobre allocation speciale compensatoire chapitre ler champ article présente convention collective travail employeurs ouvriers ouvrières entreprises resso...</td>\n",
              "    </tr>\n",
              "    <tr>\n",
              "      <th>36</th>\n",
              "      <td>1110000</td>\n",
              "      <td>COMMISSION PARITAIRE DES CONSTRUCTIONS METALLIQUE, MECANIQUE ET ELECTRIQUE</td>\n",
              "      <td>modification et coordination de la cct relative aux primes</td>\n",
              "      <td>[TRAVAIL EN ÉQUIPE ET DE NUIT, PÉCULE DE VACANCES, PRIME PROPRE AU SECTEUR OU À L'ENTREPRISE, REMBOURSEMENT DE FRAIS (HORS FRAIS DE DÉPLACEMENT), DÉTACHEMENT]</td>\n",
              "      <td>None</td>\n",
              "      <td>[secteur des entreprises de fabrications métalliques]</td>\n",
              "      <td>111/111-2018-012197.pdf</td>\n",
              "      <td>111-111-2018-012197_FR.txt</td>\n",
              "      <td>Neerlegging-Dépôt: 17/10/2018\\n\\nRegist.-Enregistr.: 05/11/2018\\n\\nN°: 148625/CO/111 \\n\\nCOMMISION PARITAIRE DE LA CONSTRUCTION\\n\\nMETALLIQUE, MECANIQUE ET ELECTRIQUE SECTION MONTAGE (CP 111.3) \\n\\nConvention collective de travail du 15 octobre 2018 \\...</td>\n",
              "      <td>commision paritaire construction metallique mecanique electrique section montage convention collective travail octobre modification coordination dela convention collective travail prime chapitre champ article présente convention collective travail emp...</td>\n",
              "    </tr>\n",
              "    <tr>\n",
              "      <th>37</th>\n",
              "      <td>1110000</td>\n",
              "      <td>COMMISSION PARITAIRE DES CONSTRUCTIONS METALLIQUE, MECANIQUE ET ELECTRIQUE</td>\n",
              "      <td>addendum à la cct du 16/10/2017 concernant la prime de fin d'année en province d'Anvers</td>\n",
              "      <td>[PRIME DE FIN D'ANNÉE]</td>\n",
              "      <td>None</td>\n",
              "      <td>[les entreprises de montage de ponts et charpentes métalliques]</td>\n",
              "      <td>111/111-2018-011427.pdf</td>\n",
              "      <td>111-111-2018-011427_FR.txt</td>\n",
              "      <td>Neerlegging-Dépôt: 05/09/2018\\n\\nRegist.-Enregistr.: 17/10/2018\\n\\nN°: 148350/C0/111 \\n\\nCommission paritaire des constructions métallique, mécanique et électrique \\n\\nConvention collective de travail du 3 septembre 2018 \\n\\nAddendum à la CCT du 16 oc...</td>\n",
              "      <td>commission paritaire construction métallique mécanique électrique convention collective travail septembre addendum cct octobre prime fin année province article convention collective travail employeurs ouvriers entreprises établies province ressortissa...</td>\n",
              "    </tr>\n",
              "    <tr>\n",
              "      <th>38</th>\n",
              "      <td>1110000</td>\n",
              "      <td>COMMISSION PARITAIRE DES CONSTRUCTIONS METALLIQUE, MECANIQUE ET ELECTRIQUE</td>\n",
              "      <td>salaire minimum garanti</td>\n",
              "      <td>[SALAIRES, DÉTACHEMENT]</td>\n",
              "      <td>None</td>\n",
              "      <td>[secteur des entreprises de montage de ponts et charpentes métalliques]</td>\n",
              "      <td>111/111-2018-009675.pdf</td>\n",
              "      <td>111-111-2018-009675_FR.txt</td>\n",
              "      <td>Neerlegging-Dépôt: 03/07/2018\\n\\nRegist.-Enregistr.: 14/08/2018\\n\\nN°: 147257/CO/111  \\n\\nCOMMISSION PARITAIRE DES CONSTRUCTIONS\\n\\nMETALLIQUE, MECANIQUE ET ELECTRIQUE \\n\\nConvention collective de travail du 2 juillet 2018\\n\\nSALAIRE MINIMUM GARANTI \\...</td>\n",
              "      <td>commission paritaire construction metallique mecanique electrique convention collective travail juillet salaire minimum garanti préambule cadre lutte dump social concurrence déloyale interlocuteurs sociaux membres commission paritaire construction mét...</td>\n",
              "    </tr>\n",
              "  </tbody>\n",
              "</table>\n",
              "</div>"
            ],
            "text/plain": [
              "       jcId  ...                                                                                                                                                                                                                                                  bodies_cleaned\n",
              "34  1110000  ...  commission paritaire construction metallique mecanique electrique convention collective travail decembre modifiant regime pension sectoriel social reglement pension reglement solidarite chapitre champ article présente convention employeurs ouvriers en...\n",
              "35  1110000  ...  commission paritaire construction métallique mécanique électrique convention collective travail octobre allocation speciale compensatoire chapitre ler champ article présente convention collective travail employeurs ouvriers ouvrières entreprises resso...\n",
              "36  1110000  ...  commision paritaire construction metallique mecanique electrique section montage convention collective travail octobre modification coordination dela convention collective travail prime chapitre champ article présente convention collective travail emp...\n",
              "37  1110000  ...  commission paritaire construction métallique mécanique électrique convention collective travail septembre addendum cct octobre prime fin année province article convention collective travail employeurs ouvriers entreprises établies province ressortissa...\n",
              "38  1110000  ...  commission paritaire construction metallique mecanique electrique convention collective travail juillet salaire minimum garanti préambule cadre lutte dump social concurrence déloyale interlocuteurs sociaux membres commission paritaire construction mét...\n",
              "\n",
              "[5 rows x 10 columns]"
            ]
          },
          "metadata": {
            "tags": []
          },
          "execution_count": 97
        }
      ]
    },
    {
      "cell_type": "code",
      "metadata": {
        "id": "1BB9v37fy5Gc"
      },
      "source": [
        "responses2_5 = add_scope(responses2.head(5), 'doc_bodies')\r\n",
        "responses2_5"
      ],
      "execution_count": 98,
      "outputs": []
    },
    {
      "cell_type": "code",
      "metadata": {
        "id": "o8soB9DV0imI",
        "colab": {
          "base_uri": "https://localhost:8080/"
        },
        "outputId": "0905313d-c1ef-437e-8ef2-c987924bd72e"
      },
      "source": [
        "responses2.scopeFr[:5]"
      ],
      "execution_count": 90,
      "outputs": [
        {
          "output_type": "execute_result",
          "data": {
            "text/plain": [
              "34    None\n",
              "35    None\n",
              "36    None\n",
              "37    None\n",
              "38    None\n",
              "Name: scopeFr, dtype: object"
            ]
          },
          "metadata": {
            "tags": []
          },
          "execution_count": 90
        }
      ]
    },
    {
      "cell_type": "code",
      "metadata": {
        "id": "qWn_16ThyokX"
      },
      "source": [
        "\r\n",
        "def add_effective_date(df, body_column):\r\n",
        "    \"\"\"A function that searches the document bodies for fromDate and endDates\r\n",
        "    and extracts datetime objects into new columns\"\"\"\r\n",
        "    \r\n",
        "    def get_dates(df_row):\r\n",
        "        \r\n",
        "        def get_month_digit(month):\r\n",
        "            dictionary = {\r\n",
        "                'janvier': 1,\r\n",
        "                'février': 2,\r\n",
        "                'mars': 3,\r\n",
        "                'avril': 4,\r\n",
        "                'mai': 5,\r\n",
        "                'juin': 6,\r\n",
        "                'juillet': 7,\r\n",
        "                'août': 8,\r\n",
        "                'septembre': 9,\r\n",
        "                'octobre': 10,\r\n",
        "                'novembre': 11,\r\n",
        "                'décembre': 12\r\n",
        "            }\r\n",
        "            \r\n",
        "            return dictionary[month]\r\n",
        "        \r\n",
        "        #start date matches ~46 out of 48 test cases\r\n",
        "        #group 6 = month\r\n",
        "        #group 7 = year\r\n",
        "        pattern = (\"r((cette|la présente) (convention collective de travail|CCT)|elle).+\" +\r\n",
        "                  \"(entre en vigueur|à partir|produit ses effets|s'étend|sort ses effets|prend cours|\\bdéterminée|allant).{1,19}\" +\r\n",
        "                  \"(le\\b|du\\b|de\\b|au\\b).{1,5}\" +\r\n",
        "                  \"(janvier|février|mars|avril|mai|juin|juillet|août|septembre|octobre|novembre|décembre) \" + \r\n",
        "                  \"([0-9]{4})\")\r\n",
        "        # finds the first instance of the regex in the body\r\n",
        "        match = re.search(pattern, df_row[body_column], flags=re.IGNORECASE)\r\n",
        "        if match:\r\n",
        "            try:\r\n",
        "                df_row['fromDate'] = datetime.date(int(match[7]), get_month_digit(match[6]), 1)\r\n",
        "                #testing purpose fm\r\n",
        "                print(match[1])\r\n",
        "                print(match[2])\r\n",
        "                print(match[3])\r\n",
        "                #print(f'{type(match)}')\r\n",
        "                #for i in range(10):\r\n",
        "                #  print(match[i])\r\n",
        "            except:\r\n",
        "                pass\r\n",
        "        else:\r\n",
        "            df_row['fromDate'] = np.nan\r\n",
        "        \r\n",
        "        #end date matches 47 of 48\r\n",
        "        #group 6 = month\r\n",
        "        #group 7 = year\r\n",
        "        pattern = (\"((cette|la présente) (convention collective de travail|CCT)|elle).+\" + \r\n",
        "                   \"([0-9]{4}|cesse de produire ses effets|cesse d'être en vigueur|cesse ses effets|prend fin|expire|conclue jusq|prend.{1,25}fin).+\" +\r\n",
        "                   \"(le\\b|au\\b).{1,5}\" +\r\n",
        "                   \"(janvier|février|mars|avril|mai|juin|juillet|août|septembre|octobre|novembre|décembre) \"+\r\n",
        "                   \"([0-9]{4})\")\r\n",
        "        match = re.search(pattern, df_row[body_column], flags=re.IGNORECASE)\r\n",
        "        if match:\r\n",
        "            try:\r\n",
        "                df_row['endDate'] = datetime.date(int(match[7]), get_month_digit(match[6]), 28)\r\n",
        "                #testing purpose fm   \r\n",
        "                print(f'{type(match)}') \r\n",
        "                print(match[1])\r\n",
        "                print(match[2])\r\n",
        "                print(match[3])   \r\n",
        "                print(match[4])\r\n",
        "                print(match[5])\r\n",
        "                print(match[6])\r\n",
        "                print(match[7])\r\n",
        "                print(match[6])         \r\n",
        "                #for i in range(10):\r\n",
        "                #  print(match[i])\r\n",
        "            except:\r\n",
        "                pass\r\n",
        "        else:\r\n",
        "            df_row['endDate'] = np.nan\r\n",
        "        \r\n",
        "        #there might have been an erroneous match of endDate\r\n",
        "        #which should be overwritten by None when durée idéterminée is detected\r\n",
        "        pattern = r\"((cette|la présente) (convention collective de travail|CCT)|elle).+(durée indéterminée|([0-9]{4}.+à l'exception))\"\r\n",
        "        match = re.search(pattern, df_row[body_column], flags=re.IGNORECASE)\r\n",
        "        if match:\r\n",
        "            df_row['endDate'] = np.nan\r\n",
        "        \r\n",
        "        return df_row\r\n",
        "    \r\n",
        "    df = df.apply(get_dates, axis=1)\r\n",
        "\r\n",
        "    return df"
      ],
      "execution_count": 217,
      "outputs": []
    },
    {
      "cell_type": "code",
      "metadata": {
        "id": "-eyc6d2ByrAn"
      },
      "source": [
        "def extract(df):\r\n",
        "\t'''overall regex extraction functioin'''\r\n",
        "\r\n",
        "\tdf = add_scope(df)\r\n",
        "\r\n",
        "\tdf = add_effective_date(df)\r\n",
        "\r\n",
        "\treturn df"
      ],
      "execution_count": 189,
      "outputs": []
    },
    {
      "cell_type": "code",
      "metadata": {
        "id": "ZFDCiaWamxNC"
      },
      "source": [
        "df =  add_effective_date(df, \"doc_bodies\")\r\n",
        "#df.loc[:,['txt_name', 'texts_lst', 'depotFr', 'fromDate', 'endDate']]\r\n"
      ],
      "execution_count": 218,
      "outputs": []
    },
    {
      "cell_type": "markdown",
      "metadata": {
        "id": "H2PzphfD67lX"
      },
      "source": [
        "# Preprocessing for NLP"
      ]
    },
    {
      "cell_type": "code",
      "metadata": {
        "id": "R1EBJ4N3TaKL"
      },
      "source": [
        "from pandas import Series\r\n",
        "\r\n",
        "from nltk.corpus import wordnet\r\n",
        "from nltk.tokenize import word_tokenize\r\n",
        "from nltk.tag import pos_tag\r\n",
        "from nltk.stem import WordNetLemmatizer\r\n",
        "\r\n",
        "# import entirely spacy to create Doc objects through nlp\r\n",
        "import spacy\r\n",
        "from spacy import load, lang\r\n",
        "\r\n",
        "from wordcloud import WordCloud\r\n",
        "\r\n",
        "from collections import Counter\r\n",
        "\r\n",
        "from typing import List\r\n",
        "from typing import Dict\r\n",
        "\r\n",
        "# WARNINGS\r\n",
        "# W tensorflow/stream_executor/platform/default/dso_loader.cc:60] Could not load dynamic library 'cudart64_110.dll'; dlerror: cudart64_110.dll not found\r\n",
        "# I tensorflow/stream_executor/cuda/cudart_stub.cc:29] Ignore above cudart dlerror if you do not have a GPU set up on your machine\r\n",
        "\r\n",
        "# GLOBAL VARIABLES\r\n",
        "NAMED_ENTITIES = ['microsoft']\r\n",
        "\r\n",
        "#testing\r\n",
        "from os import getcwd as cwd\r\n",
        "from os.path import dirname as dir\r\n",
        "from os.path import join\r\n",
        "import pandas as pd"
      ],
      "execution_count": 21,
      "outputs": []
    },
    {
      "cell_type": "code",
      "metadata": {
        "id": "nC6sZ-BPTcUs"
      },
      "source": [
        "def lemmatize(text_tokens: List[str]) -> List[str]:\r\n",
        "    def get_wordnet_pos(word):\r\n",
        "        \"\"\"Map POS tag to first character lemmatize() accepts\"\"\"\r\n",
        "        tag = pos_tag([word])[0][1][0].upper()\r\n",
        "        tag_dict = {\"J\": wordnet.ADJ,\r\n",
        "                    \"N\": wordnet.NOUN,\r\n",
        "                    \"V\": wordnet.VERB,\r\n",
        "                    \"R\": wordnet.ADV}\r\n",
        "        return tag_dict.get(tag, wordnet.NOUN)\r\n",
        "\r\n",
        "    # Instantiate the WordNetLemmatizer\r\n",
        "    wordnet_lemmatizer = WordNetLemmatizer()\r\n",
        "    # Lemmatize all tokens into a new list: lemmatized\r\n",
        "    texts_lemmatized = [wordnet_lemmatizer.lemmatize(t, get_wordnet_pos(t)) for t in text_tokens]\r\n",
        "    return texts_lemmatized\r\n",
        "\r\n",
        "\r\n",
        "def filter_words(texts_lemmatized: List[List[str]], freq_min=None, freq_max=None):\r\n",
        "    frequency_absolute = Counter([item for elem in texts_lemmatized for item in elem])\r\n",
        "    wordcloud = WordCloud(width=1000, height=500).generate_from_frequencies(frequency_absolute)\r\n",
        "    frequency_relative = wordcloud.words_\r\n",
        "    if freq_min is not None and freq_min > 0 and freq_min < 1:\r\n",
        "        rel_freq_filtered = {k: v for k, v in frequency_relative.items() if v > freq_min}\r\n",
        "    if freq_max is not None and freq_max > 0 and freq_max < 1:\r\n",
        "        rel_freq_filtered = {k: v for k, v in frequency_relative.items() if v < freq_max}\r\n",
        "    texts_filtered = [[t for t in pub_lem if t in rel_freq_filtered.keys()] for pub_lem in texts_lemmatized]\r\n",
        "    # testing part\r\n",
        "    f_abs_updated =Counter([ item for elem in texts_filtered for item in elem])   \r\n",
        "    wordcloud_updated = WordCloud(width=1000, height=500).generate_from_frequencies(f_abs_updated)\r\n",
        "    f_rel_updated = wordcloud_updated.words_\r\n",
        "    return texts_filtered, f_abs_updated, f_rel_updated, wordcloud_updated\r\n"
      ],
      "execution_count": 22,
      "outputs": []
    },
    {
      "cell_type": "code",
      "metadata": {
        "id": "ib8xc7-F5tGY"
      },
      "source": [
        "class Preprocess:\r\n",
        "    def __init__(self, nlp_model='en_core_web_md'):\r\n",
        "        self.nlp = load(nlp_model)\r\n",
        "        if 'en_' in nlp_model:\r\n",
        "          self.stop_words = lang.en.stop_words.STOP_WORDS\r\n",
        "        elif 'fr_' in nlp_model:\r\n",
        "          self.stop_words = lang.fr.stop_words.STOP_WORDS\r\n",
        "        self.named_entities = set(NAMED_ENTITIES)\r\n",
        "\r\n",
        "    def get_named_entities(self, texts: Series, inplace=True) -> set:\r\n",
        "        # creating a single ner set\r\n",
        "        nes = set()\r\n",
        "        # function to extract NER from text\r\n",
        "        def get_named_entities(text) -> set:\r\n",
        "            doc = self.nlp(text)\r\n",
        "            named_entities = set([ent.text for ent in doc.ents])\r\n",
        "            return named_entities\r\n",
        "        [[nes.add(n) for n in get_named_entities(text)] for text in texts]\r\n",
        "        # adding predefined NER\r\n",
        "        [nes.add(n) for n in self.named_entities]\r\n",
        "        if inplace:\r\n",
        "            self.named_entities = nes\r\n",
        "        return nes\r\n",
        "\r\n",
        "    def tokenize_text(self, text:str, stop_words: List[str] = None, named_entities: List[str] = None,\r\n",
        "                   lenght_min: int=2) -> List[str]:\r\n",
        "        if stop_words is None:\r\n",
        "            stop_words = self.stop_words\r\n",
        "        if named_entities is None:\r\n",
        "            named_entities = self.named_entities\r\n",
        "        text = text.replace(\"\\n\", \" \")\r\n",
        "        # split string into words (tokens)\r\n",
        "        tokens = word_tokenize(text.lower())\r\n",
        "        # keep strings with only alphabets\r\n",
        "        tokens = [t for t in tokens if t.isalpha()]\r\n",
        "        tokens = lemmatize(tokens)\r\n",
        "        # remove short words, they're probably not useful\r\n",
        "        tokens = [t for t in tokens if len(t) > lenght_min]\r\n",
        "        # remove stopwords\r\n",
        "        tokens = [t for t in tokens if t not in stop_words]\r\n",
        "        # remove\r\n",
        "        tokens = [t for t in tokens if t not in named_entities]\r\n",
        "        return tokens\r\n",
        "\r\n",
        "    def clean_text(self, text:str, stop_words: List[str] = None, named_entities: List[str] = None,\r\n",
        "                   lenght_min: int=2) -> str:\r\n",
        "        tokens = self.tokenize_text(text, stop_words, named_entities, lenght_min)\r\n",
        "        text_cleaned = \" \".join(tokens)\r\n",
        "        return text_cleaned\r\n",
        "\r\n",
        "    def tokenize_texts(self, texts:Series, stop_words: List[str] = None, named_entities: List[str] = None,\r\n",
        "                   lenght_min: int=2) -> List[List[str]]:\r\n",
        "        texts_tokens = []\r\n",
        "        for text in texts:\r\n",
        "            texts_tokens += [self.tokenize_text(text, stop_words, named_entities, lenght_min)]\r\n",
        "        return texts_tokens"
      ],
      "execution_count": 23,
      "outputs": []
    },
    {
      "cell_type": "code",
      "metadata": {
        "colab": {
          "base_uri": "https://localhost:8080/"
        },
        "id": "UzM0CO3T7Jp5",
        "outputId": "41600a87-94ad-4a9c-ac3d-836b516c1a44"
      },
      "source": [
        "! python -m spacy download fr_core_news_md"
      ],
      "execution_count": 24,
      "outputs": [
        {
          "output_type": "stream",
          "text": [
            "Requirement already satisfied: fr_core_news_md==2.2.5 from https://github.com/explosion/spacy-models/releases/download/fr_core_news_md-2.2.5/fr_core_news_md-2.2.5.tar.gz#egg=fr_core_news_md==2.2.5 in /usr/local/lib/python3.7/dist-packages (2.2.5)\n",
            "Requirement already satisfied: spacy>=2.2.2 in /usr/local/lib/python3.7/dist-packages (from fr_core_news_md==2.2.5) (2.2.4)\n",
            "Requirement already satisfied: tqdm<5.0.0,>=4.38.0 in /usr/local/lib/python3.7/dist-packages (from spacy>=2.2.2->fr_core_news_md==2.2.5) (4.41.1)\n",
            "Requirement already satisfied: murmurhash<1.1.0,>=0.28.0 in /usr/local/lib/python3.7/dist-packages (from spacy>=2.2.2->fr_core_news_md==2.2.5) (1.0.5)\n",
            "Requirement already satisfied: catalogue<1.1.0,>=0.0.7 in /usr/local/lib/python3.7/dist-packages (from spacy>=2.2.2->fr_core_news_md==2.2.5) (1.0.0)\n",
            "Requirement already satisfied: blis<0.5.0,>=0.4.0 in /usr/local/lib/python3.7/dist-packages (from spacy>=2.2.2->fr_core_news_md==2.2.5) (0.4.1)\n",
            "Requirement already satisfied: cymem<2.1.0,>=2.0.2 in /usr/local/lib/python3.7/dist-packages (from spacy>=2.2.2->fr_core_news_md==2.2.5) (2.0.5)\n",
            "Requirement already satisfied: wasabi<1.1.0,>=0.4.0 in /usr/local/lib/python3.7/dist-packages (from spacy>=2.2.2->fr_core_news_md==2.2.5) (0.8.2)\n",
            "Requirement already satisfied: plac<1.2.0,>=0.9.6 in /usr/local/lib/python3.7/dist-packages (from spacy>=2.2.2->fr_core_news_md==2.2.5) (1.1.3)\n",
            "Requirement already satisfied: setuptools in /usr/local/lib/python3.7/dist-packages (from spacy>=2.2.2->fr_core_news_md==2.2.5) (54.0.0)\n",
            "Requirement already satisfied: numpy>=1.15.0 in /usr/local/lib/python3.7/dist-packages (from spacy>=2.2.2->fr_core_news_md==2.2.5) (1.19.5)\n",
            "Requirement already satisfied: preshed<3.1.0,>=3.0.2 in /usr/local/lib/python3.7/dist-packages (from spacy>=2.2.2->fr_core_news_md==2.2.5) (3.0.5)\n",
            "Requirement already satisfied: requests<3.0.0,>=2.13.0 in /usr/local/lib/python3.7/dist-packages (from spacy>=2.2.2->fr_core_news_md==2.2.5) (2.23.0)\n",
            "Requirement already satisfied: srsly<1.1.0,>=1.0.2 in /usr/local/lib/python3.7/dist-packages (from spacy>=2.2.2->fr_core_news_md==2.2.5) (1.0.5)\n",
            "Requirement already satisfied: thinc==7.4.0 in /usr/local/lib/python3.7/dist-packages (from spacy>=2.2.2->fr_core_news_md==2.2.5) (7.4.0)\n",
            "Requirement already satisfied: importlib-metadata>=0.20; python_version < \"3.8\" in /usr/local/lib/python3.7/dist-packages (from catalogue<1.1.0,>=0.0.7->spacy>=2.2.2->fr_core_news_md==2.2.5) (3.7.0)\n",
            "Requirement already satisfied: certifi>=2017.4.17 in /usr/local/lib/python3.7/dist-packages (from requests<3.0.0,>=2.13.0->spacy>=2.2.2->fr_core_news_md==2.2.5) (2020.12.5)\n",
            "Requirement already satisfied: urllib3!=1.25.0,!=1.25.1,<1.26,>=1.21.1 in /usr/local/lib/python3.7/dist-packages (from requests<3.0.0,>=2.13.0->spacy>=2.2.2->fr_core_news_md==2.2.5) (1.24.3)\n",
            "Requirement already satisfied: chardet<4,>=3.0.2 in /usr/local/lib/python3.7/dist-packages (from requests<3.0.0,>=2.13.0->spacy>=2.2.2->fr_core_news_md==2.2.5) (3.0.4)\n",
            "Requirement already satisfied: idna<3,>=2.5 in /usr/local/lib/python3.7/dist-packages (from requests<3.0.0,>=2.13.0->spacy>=2.2.2->fr_core_news_md==2.2.5) (2.10)\n",
            "Requirement already satisfied: zipp>=0.5 in /usr/local/lib/python3.7/dist-packages (from importlib-metadata>=0.20; python_version < \"3.8\"->catalogue<1.1.0,>=0.0.7->spacy>=2.2.2->fr_core_news_md==2.2.5) (3.4.1)\n",
            "Requirement already satisfied: typing-extensions>=3.6.4; python_version < \"3.8\" in /usr/local/lib/python3.7/dist-packages (from importlib-metadata>=0.20; python_version < \"3.8\"->catalogue<1.1.0,>=0.0.7->spacy>=2.2.2->fr_core_news_md==2.2.5) (3.7.4.3)\n",
            "\u001b[38;5;2m✔ Download and installation successful\u001b[0m\n",
            "You can now load the model via spacy.load('fr_core_news_md')\n"
          ],
          "name": "stdout"
        }
      ]
    },
    {
      "cell_type": "code",
      "metadata": {
        "id": "-gSiOJ547ivj"
      },
      "source": [
        "import spacy\r\n",
        "nlp = spacy.load('fr_core_news_md')"
      ],
      "execution_count": 25,
      "outputs": []
    },
    {
      "cell_type": "code",
      "metadata": {
        "id": "m7pS6KZYHixh"
      },
      "source": [
        "preprocess = Preprocess(nlp_model='fr_core_news_md')"
      ],
      "execution_count": 26,
      "outputs": []
    },
    {
      "cell_type": "code",
      "metadata": {
        "id": "dZ1u8dKqIOi2",
        "colab": {
          "base_uri": "https://localhost:8080/"
        },
        "outputId": "1a8d5a0f-58bb-48c4-a44e-52c765c43a33"
      },
      "source": [
        "# example of FR stopwords from the set\r\n",
        "list(preprocess.stop_words)[:10]"
      ],
      "execution_count": 27,
      "outputs": [
        {
          "output_type": "execute_result",
          "data": {
            "text/plain": [
              "['quelles',\n",
              " 'unes',\n",
              " 'oust',\n",
              " 'dix',\n",
              " 'eh',\n",
              " 'dring',\n",
              " 'pur',\n",
              " 'uniques',\n",
              " 'vif',\n",
              " 'minimale']"
            ]
          },
          "metadata": {
            "tags": []
          },
          "execution_count": 27
        }
      ]
    },
    {
      "cell_type": "code",
      "metadata": {
        "colab": {
          "base_uri": "https://localhost:8080/"
        },
        "id": "-ZKK_K-6O8Dh",
        "outputId": "86dd4ae9-6794-4684-fd18-a9b44eddb301"
      },
      "source": [
        "# importing nltk and downloading additional required packages\r\n",
        "import nltk\r\n",
        "nltk.download('punkt')\r\n",
        "nltk.download('averaged_perceptron_tagger')\r\n",
        "nltk.download('wordnet')"
      ],
      "execution_count": 28,
      "outputs": [
        {
          "output_type": "stream",
          "text": [
            "[nltk_data] Downloading package punkt to /root/nltk_data...\n",
            "[nltk_data]   Unzipping tokenizers/punkt.zip.\n",
            "[nltk_data] Downloading package averaged_perceptron_tagger to\n",
            "[nltk_data]     /root/nltk_data...\n",
            "[nltk_data]   Unzipping taggers/averaged_perceptron_tagger.zip.\n",
            "[nltk_data] Downloading package wordnet to /root/nltk_data...\n",
            "[nltk_data]   Unzipping corpora/wordnet.zip.\n"
          ],
          "name": "stdout"
        },
        {
          "output_type": "execute_result",
          "data": {
            "text/plain": [
              "True"
            ]
          },
          "metadata": {
            "tags": []
          },
          "execution_count": 28
        }
      ]
    },
    {
      "cell_type": "code",
      "metadata": {
        "id": "nlVBC4-mOu4K"
      },
      "source": [
        "#cleaning text before extracting word clouds\r\n",
        "responses2[\"bodies_cleaned\"] = responses2[\"doc_bodies\"].apply(preprocess.clean_text)"
      ],
      "execution_count": 29,
      "outputs": []
    },
    {
      "cell_type": "markdown",
      "metadata": {
        "id": "gfpoq2YLL4na"
      },
      "source": [
        "# Word cloud labelling"
      ]
    },
    {
      "cell_type": "code",
      "metadata": {
        "id": "qsmt70TiL7FV"
      },
      "source": [
        "#extracting all words with relative frequency > 0.5\r\n",
        "all_ts = preprocess.tokenize_texts(responses2.bodies_cleaned)"
      ],
      "execution_count": 30,
      "outputs": []
    },
    {
      "cell_type": "code",
      "metadata": {
        "id": "dQ4gk4WKTHMO"
      },
      "source": [
        "texts, f_abs, f_rel, wordcloud = filter_words(all_ts, freq_min=0.5)"
      ],
      "execution_count": 31,
      "outputs": []
    },
    {
      "cell_type": "code",
      "metadata": {
        "id": "0tNIVnCaTmVs",
        "outputId": "0d350abd-eac5-4a5d-9bfe-a35dbacc7c91",
        "colab": {
          "base_uri": "https://localhost:8080/",
          "height": 517
        }
      },
      "source": [
        "wordcloud.to_image()"
      ],
      "execution_count": 32,
      "outputs": [
        {
          "output_type": "execute_result",
          "data": {
            "image/png": "[encoded data removed]",
            "text/plain": [
              "<PIL.Image.Image image mode=RGB size=1000x500 at 0x7F9D1955E110>"
            ]
          },
          "metadata": {
            "tags": []
          },
          "execution_count": 32
        }
      ]
    },
    {
      "cell_type": "code",
      "metadata": {
        "id": "EilnPDhRTs9z",
        "outputId": "da135251-c767-46f6-972a-52c267b4ff20",
        "colab": {
          "base_uri": "https://localhost:8080/"
        }
      },
      "source": [
        "# adding most frequent words as stop words\r\n",
        "[preprocess.stop_words.add(w) for w in list(f_rel.keys())]\r\n",
        "[w for w in list(preprocess.stop_words) if w in list(f_rel.keys())]"
      ],
      "execution_count": 33,
      "outputs": [
        {
          "output_type": "execute_result",
          "data": {
            "text/plain": [
              "['collective', 'convention', 'travail', 'pension', 'article']"
            ]
          },
          "metadata": {
            "tags": []
          },
          "execution_count": 33
        }
      ]
    },
    {
      "cell_type": "code",
      "metadata": {
        "id": "hiB25mXkUjIG",
        "outputId": "4ab6be42-0905-468d-b0f3-31c84ec594da",
        "colab": {
          "base_uri": "https://localhost:8080/"
        }
      },
      "source": [
        "[w for w in list(preprocess.stop_words) if w in list(f_rel.keys())]"
      ],
      "execution_count": 34,
      "outputs": [
        {
          "output_type": "execute_result",
          "data": {
            "text/plain": [
              "['collective', 'convention', 'travail', 'pension', 'article']"
            ]
          },
          "metadata": {
            "tags": []
          },
          "execution_count": 34
        }
      ]
    },
    {
      "cell_type": "code",
      "metadata": {
        "id": "XtLYJqkRXJOm",
        "outputId": "8323300e-e7c4-4b5c-ab2a-eb39b7dcb679",
        "colab": {
          "base_uri": "https://localhost:8080/"
        }
      },
      "source": [
        "themes_keywords = pd.DataFrame(columns=['themeFr', 'frequency_absolute', 'frequency_relative'])\r\n",
        "for t in themes_fr:\r\n",
        "  mask = responses2.dropna(axis=0, subset=['themesFr']).themesFr.map(lambda x: t in x)\r\n",
        "  r_t = responses2.dropna(axis=0, subset=['themesFr'])[mask]\r\n",
        "  t_ts = preprocess.tokenize_texts(r_t[\"bodies_cleaned\"])\r\n",
        "  t_texts, t_f_abs, t_f_rel, t_wordcloud = filter_words(t_ts, freq_min=0.05, freq_max=0.95)\r\n",
        "  themes_keywords = themes_keywords.append({'themeFr':t, 'frequency_absolute':t_f_abs, 'frequency_relative':t_f_rel}, ignore_index=True)\r\n",
        "  print(f'Kewyords for {t} added, {len(r_t)} documents found')"
      ],
      "execution_count": 35,
      "outputs": [
        {
          "output_type": "stream",
          "text": [
            "Kewyords for PENSIONS COMPÉMENTAIRES ET ASSURANCES GROUPES added, 36 documents found\n",
            "Kewyords for PRIME SYNDICALE added, 20 documents found\n",
            "Kewyords for TRAVAIL EN ÉQUIPE ET DE NUIT added, 63 documents found\n",
            "Kewyords for PÉCULE DE VACANCES added, 6 documents found\n",
            "Kewyords for PRIME PROPRE AU SECTEUR OU À L'ENTREPRISE added, 20 documents found\n",
            "Kewyords for REMBOURSEMENT DE FRAIS (HORS FRAIS DE DÉPLACEMENT) added, 23 documents found\n",
            "Kewyords for DÉTACHEMENT added, 18 documents found\n",
            "Kewyords for PRIME DE FIN D'ANNÉE added, 37 documents found\n",
            "Kewyords for SALAIRES added, 131 documents found\n",
            "Kewyords for JEUNES TRAVAILLEURS: SALAIRES added, 47 documents found\n",
            "Kewyords for FORMATION (EXCL. FORMATION SYNDICALE) added, 66 documents found\n",
            "Kewyords for TRAVAILLEURS AGÉS-EXCL.PENSIONS COMPL, PRÉPENSION(RCC), CRÉDIT-TEMPS added, 101 documents found\n",
            "Kewyords for MALADIE/ACCIDENT/DÉCÈS added, 28 documents found\n",
            "Kewyords for CHÔMAGE (AUTRE QUE LE CHÔMAGE ÉCONOMIQUE DES EMPLOYÉS) added, 51 documents found\n",
            "Kewyords for RÉGIME DE CHÔMAGE AVEC COMPLÉMENT D'ENTREPRISE (RCC) added, 114 documents found\n",
            "Kewyords for FORMATION SYNDICALE added, 16 documents found\n",
            "Kewyords for FONDS DE SÉCURITÉ D'EXISTENCE added, 66 documents found\n",
            "Kewyords for INDEMNITÉS POUR FRAIS DE DÉPLACEMENT added, 57 documents found\n",
            "Kewyords for CRÉDIT-TEMPS/DIMINUTION DE CARRIÈRE, EMPLOI FIN DE CARRIÈRE added, 57 documents found\n",
            "Kewyords for RECRUTEMENT added, 16 documents found\n",
            "Kewyords for GROUPES À RISQUE added, 33 documents found\n",
            "Kewyords for BIEN-ÊTRE AU TRAVAIL added, 10 documents found\n",
            "Kewyords for FONDS SOCIAUX, AUTRE QUE LES FONDS DE SÉCURITÉ D'EXISTENCE added, 7 documents found\n",
            "Kewyords for TRAVAIL TEMPORAIRE ET TRAVAIL INTÉRIMAIRE added, 16 documents found\n",
            "Kewyords for PRÉAVIS/LICENCIEMENT added, 24 documents found\n",
            "Kewyords for TEMPS DE TRAVAIL EN HEURES added, 7 documents found\n",
            "Kewyords for MODALITÉS DE LA DURÉE DE TRAVAIL added, 12 documents found\n",
            "Kewyords for TRAVAIL À TEMPS PARTIEL added, 11 documents found\n",
            "Kewyords for CHÈQUES-REPAS added, 5 documents found\n",
            "Kewyords for ECOCHÈQUES added, 15 documents found\n",
            "Kewyords for JOUR DE CONGÉ PAYÉ (PAS DE JOUR RTT OU DE COMPENSATION) ET JOUR FERIÉ added, 18 documents found\n",
            "Kewyords for PAIX SOCIALE added, 19 documents found\n",
            "Kewyords for CLASSIFICATION DES FONCTIONS added, 27 documents found\n",
            "Kewyords for AVANTAGE/MÉTHODE DE RÉCOMPENSE ALTERNATIVE (EXCL PRIME, CHÈQUE, BONUS) added, 10 documents found\n",
            "Kewyords for DISCRIMINATION added, 1 documents found\n",
            "Kewyords for FLEXIBILITÉ DU TEMPS DE TRAVAIL added, 11 documents found\n",
            "Kewyords for HEURES SUPPLÉMENTAIRES added, 9 documents found\n",
            "Kewyords for HARMONISATION DU STATUT OUVRIER/EMPLOYÉS added, 8 documents found\n",
            "Kewyords for DÉLÉGATION SYNDICALE added, 11 documents found\n",
            "Kewyords for FONCTIONNEMENT AU SEIN DE L'ENTREPRISE/DES ORGANES DE CONCERTATION added, 12 documents found\n",
            "Kewyords for TRAVAIL PENDANT LE WEEKEND ET LES JOURS FÉRIÉS added, 6 documents found\n",
            "Kewyords for PARTICIPATION AUX BÉNÉFICES/AVANTAGE NON RECURR. LIÉ AUX RÉSULT.-CCT90 added, 2 documents found\n",
            "Kewyords for CONGÉ POUR RAISONS IMPÉRIEUSES added, 1 documents found\n",
            "Kewyords for PRIME UNIQUE added, 7 documents found\n",
            "Kewyords for RÉDUCTION DE LA DURÉE DE TRAVAIL added, 3 documents found\n",
            "Kewyords for CONGÉ PARENTAL ET CONGÉ POUR DES RAISONS PERSONNELLES added, 2 documents found\n",
            "Kewyords for PRIME D'ANCIENNETÉ, PRIME DE DÉPART added, 3 documents found\n",
            "Kewyords for FONCTIONNEMENT AU SEIN  DE LA COMMISSION PARITAIRE added, 10 documents found\n",
            "Kewyords for MESURE POUR ENTREPRISE EN DIFFICULTÉ/ RESTRUCTURATION - PAS DE RCC added, 7 documents found\n",
            "Kewyords for CHÈQUES CADEAU, SPORT ET CULTURE added, 2 documents found\n",
            "Kewyords for LICENCIEMENT DES TRAVAILLEURS PROTÉGÉS added, 4 documents found\n",
            "Kewyords for TRANSFERT DU PERSONNEL VERS UNE AUTRE ENTREPRISE added, 1 documents found\n",
            "Kewyords for CHÔMAGE ÉCONOMIQUE DES EMPLOYÉS added, 2 documents found\n",
            "Kewyords for TÉLÉTRAVAIL added, 4 documents found\n"
          ],
          "name": "stdout"
        }
      ]
    },
    {
      "cell_type": "code",
      "metadata": {
        "id": "dLtvqXPWgKgH",
        "outputId": "4eb3aec8-684c-42f8-e1f9-c5dafd7a90ac",
        "colab": {
          "base_uri": "https://localhost:8080/"
        }
      },
      "source": [
        "for t in themes_fr:\r\n",
        "  mask = responses2.dropna(axis=0, subset=['themesFr']).themesFr.map(lambda x: t in x)\r\n",
        "  r_t = responses2.dropna(axis=0, subset=['themesFr'])[mask]\r\n",
        "  print(f'{len(r_t)} contained for {t}')"
      ],
      "execution_count": 36,
      "outputs": [
        {
          "output_type": "stream",
          "text": [
            "36 contained for PENSIONS COMPÉMENTAIRES ET ASSURANCES GROUPES\n",
            "20 contained for PRIME SYNDICALE\n",
            "63 contained for TRAVAIL EN ÉQUIPE ET DE NUIT\n",
            "6 contained for PÉCULE DE VACANCES\n",
            "20 contained for PRIME PROPRE AU SECTEUR OU À L'ENTREPRISE\n",
            "23 contained for REMBOURSEMENT DE FRAIS (HORS FRAIS DE DÉPLACEMENT)\n",
            "18 contained for DÉTACHEMENT\n",
            "37 contained for PRIME DE FIN D'ANNÉE\n",
            "131 contained for SALAIRES\n",
            "47 contained for JEUNES TRAVAILLEURS: SALAIRES\n",
            "66 contained for FORMATION (EXCL. FORMATION SYNDICALE)\n",
            "101 contained for TRAVAILLEURS AGÉS-EXCL.PENSIONS COMPL, PRÉPENSION(RCC), CRÉDIT-TEMPS\n",
            "28 contained for MALADIE/ACCIDENT/DÉCÈS\n",
            "51 contained for CHÔMAGE (AUTRE QUE LE CHÔMAGE ÉCONOMIQUE DES EMPLOYÉS)\n",
            "114 contained for RÉGIME DE CHÔMAGE AVEC COMPLÉMENT D'ENTREPRISE (RCC)\n",
            "16 contained for FORMATION SYNDICALE\n",
            "66 contained for FONDS DE SÉCURITÉ D'EXISTENCE\n",
            "57 contained for INDEMNITÉS POUR FRAIS DE DÉPLACEMENT\n",
            "57 contained for CRÉDIT-TEMPS/DIMINUTION DE CARRIÈRE, EMPLOI FIN DE CARRIÈRE\n",
            "16 contained for RECRUTEMENT\n",
            "33 contained for GROUPES À RISQUE\n",
            "10 contained for BIEN-ÊTRE AU TRAVAIL\n",
            "7 contained for FONDS SOCIAUX, AUTRE QUE LES FONDS DE SÉCURITÉ D'EXISTENCE\n",
            "16 contained for TRAVAIL TEMPORAIRE ET TRAVAIL INTÉRIMAIRE\n",
            "24 contained for PRÉAVIS/LICENCIEMENT\n",
            "7 contained for TEMPS DE TRAVAIL EN HEURES\n",
            "12 contained for MODALITÉS DE LA DURÉE DE TRAVAIL\n",
            "11 contained for TRAVAIL À TEMPS PARTIEL\n",
            "5 contained for CHÈQUES-REPAS\n",
            "15 contained for ECOCHÈQUES\n",
            "18 contained for JOUR DE CONGÉ PAYÉ (PAS DE JOUR RTT OU DE COMPENSATION) ET JOUR FERIÉ\n",
            "19 contained for PAIX SOCIALE\n",
            "27 contained for CLASSIFICATION DES FONCTIONS\n",
            "10 contained for AVANTAGE/MÉTHODE DE RÉCOMPENSE ALTERNATIVE (EXCL PRIME, CHÈQUE, BONUS)\n",
            "1 contained for DISCRIMINATION\n",
            "11 contained for FLEXIBILITÉ DU TEMPS DE TRAVAIL\n",
            "9 contained for HEURES SUPPLÉMENTAIRES\n",
            "8 contained for HARMONISATION DU STATUT OUVRIER/EMPLOYÉS\n",
            "11 contained for DÉLÉGATION SYNDICALE\n",
            "12 contained for FONCTIONNEMENT AU SEIN DE L'ENTREPRISE/DES ORGANES DE CONCERTATION\n",
            "6 contained for TRAVAIL PENDANT LE WEEKEND ET LES JOURS FÉRIÉS\n",
            "2 contained for PARTICIPATION AUX BÉNÉFICES/AVANTAGE NON RECURR. LIÉ AUX RÉSULT.-CCT90\n",
            "1 contained for CONGÉ POUR RAISONS IMPÉRIEUSES\n",
            "7 contained for PRIME UNIQUE\n",
            "3 contained for RÉDUCTION DE LA DURÉE DE TRAVAIL\n",
            "2 contained for CONGÉ PARENTAL ET CONGÉ POUR DES RAISONS PERSONNELLES\n",
            "3 contained for PRIME D'ANCIENNETÉ, PRIME DE DÉPART\n",
            "10 contained for FONCTIONNEMENT AU SEIN  DE LA COMMISSION PARITAIRE\n",
            "7 contained for MESURE POUR ENTREPRISE EN DIFFICULTÉ/ RESTRUCTURATION - PAS DE RCC\n",
            "2 contained for CHÈQUES CADEAU, SPORT ET CULTURE\n",
            "4 contained for LICENCIEMENT DES TRAVAILLEURS PROTÉGÉS\n",
            "1 contained for TRANSFERT DU PERSONNEL VERS UNE AUTRE ENTREPRISE\n",
            "2 contained for CHÔMAGE ÉCONOMIQUE DES EMPLOYÉS\n",
            "4 contained for TÉLÉTRAVAIL\n"
          ],
          "name": "stdout"
        }
      ]
    },
    {
      "cell_type": "code",
      "metadata": {
        "id": "33e2Jk09f74p"
      },
      "source": [
        ""
      ],
      "execution_count": 36,
      "outputs": []
    },
    {
      "cell_type": "code",
      "metadata": {
        "id": "pqhn8BJPYocl"
      },
      "source": [
        "themes_keywords.to_csv('/content/drive/My Drive/Becode/Kpmg/labeling.csv')"
      ],
      "execution_count": 37,
      "outputs": []
    },
    {
      "cell_type": "code",
      "metadata": {
        "id": "UJpQLbYqZk74",
        "outputId": "11f79b4a-d2a4-4ec6-c0c4-fbdf5afce4d1",
        "colab": {
          "base_uri": "https://localhost:8080/",
          "height": 1000
        }
      },
      "source": [
        "themes_keywords.loc[:, ['themeFr','frequency_relative']]"
      ],
      "execution_count": 38,
      "outputs": [
        {
          "output_type": "execute_result",
          "data": {
            "text/html": [
              "<div>\n",
              "<style scoped>\n",
              "    .dataframe tbody tr th:only-of-type {\n",
              "        vertical-align: middle;\n",
              "    }\n",
              "\n",
              "    .dataframe tbody tr th {\n",
              "        vertical-align: top;\n",
              "    }\n",
              "\n",
              "    .dataframe thead th {\n",
              "        text-align: right;\n",
              "    }\n",
              "</style>\n",
              "<table border=\"1\" class=\"dataframe\">\n",
              "  <thead>\n",
              "    <tr style=\"text-align: right;\">\n",
              "      <th></th>\n",
              "      <th>themeFr</th>\n",
              "      <th>frequency_relative</th>\n",
              "    </tr>\n",
              "  </thead>\n",
              "  <tbody>\n",
              "    <tr>\n",
              "      <th>0</th>\n",
              "      <td>PENSIONS COMPÉMENTAIRES ET ASSURANCES GROUPES</td>\n",
              "      <td>{'règlement': 1.0, 'régime': 0.9255464480874317, 'solidarité': 0.7650273224043715, 'sectoriel': 0.7452185792349727, 'van': 0.6038251366120219, 'complémentaire': 0.5348360655737705, 'partir': 0.47062841530054644, 'ofp': 0.4603825136612022, 'métal': 0.4...</td>\n",
              "    </tr>\n",
              "    <tr>\n",
              "      <th>1</th>\n",
              "      <td>PRIME SYNDICALE</td>\n",
              "      <td>{'cotisation': 1.0, 'partir': 0.9342560553633218, 'travailleurs': 0.8062283737024222, 'entreprises': 0.6678200692041523, 'janvier': 0.6505190311418685, 'ouvriers': 0.6193771626297578, 'sécurité': 0.5986159169550173, 'formation': 0.5743944636678201, 'p...</td>\n",
              "    </tr>\n",
              "    <tr>\n",
              "      <th>2</th>\n",
              "      <td>TRAVAIL EN ÉQUIPE ET DE NUIT</td>\n",
              "      <td>{'ouvriers': 1.0, 'prime': 0.9102803738317757, 'minimum': 0.8336448598130841, 'salaires': 0.8299065420560747, 'mois': 0.8018691588785046, 'présente': 0.719626168224299, 'paritaire': 0.7046728971962617, 'commission': 0.6654205607476635, 'chapitre': 0.5...</td>\n",
              "    </tr>\n",
              "    <tr>\n",
              "      <th>3</th>\n",
              "      <td>PÉCULE DE VACANCES</td>\n",
              "      <td>{'art': 1.0, 'mois': 0.9375, 'juillet': 0.84375, 'chômage': 0.71875, 'vacances': 0.71875, 'travaux': 0.6875, 'paritaire': 0.59375, 'entreprises': 0.59375, 'commission': 0.5625, 'durée': 0.5625, 'sectoriels': 0.5625, 'pécule': 0.5625, 'période': 0.5312...</td>\n",
              "    </tr>\n",
              "    <tr>\n",
              "      <th>4</th>\n",
              "      <td>PRIME PROPRE AU SECTEUR OU À L'ENTREPRISE</td>\n",
              "      <td>{'art': 1.0, 'salaires': 0.7081081081081081, 'minimum': 0.6432432432432432, 'salaire': 0.572972972972973, 'mois': 0.5351351351351351, 'chapitre': 0.5297297297297298, 'présente': 0.4486486486486487, 'heures': 0.4486486486486487, 'paritaire': 0.43783783...</td>\n",
              "    </tr>\n",
              "    <tr>\n",
              "      <th>5</th>\n",
              "      <td>REMBOURSEMENT DE FRAIS (HORS FRAIS DE DÉPLACEMENT)</td>\n",
              "      <td>{'art': 1.0, 'prime': 0.9, 'entreprises': 0.8, 'partir': 0.7666666666666667, 'ouvriers': 0.7333333333333333, 'service': 0.7066666666666667, 'chauffeur': 0.6866666666666666, 'paritaire': 0.68, 'jours': 0.6733333333333333, 'mois': 0.62, 'chapitre': 0.61...</td>\n",
              "    </tr>\n",
              "    <tr>\n",
              "      <th>6</th>\n",
              "      <td>DÉTACHEMENT</td>\n",
              "      <td>{'fonds': 1.0, 'janvier': 0.6819571865443425, 'paritaire': 0.6085626911314985, 'ouvriers': 0.599388379204893, 'travailleurs': 0.5902140672782875, 'commission': 0.5749235474006116, 'sécurité': 0.5626911314984709, 'van': 0.5596330275229358, 'durée': 0.5...</td>\n",
              "    </tr>\n",
              "    <tr>\n",
              "      <th>7</th>\n",
              "      <td>PRIME DE FIN D'ANNÉE</td>\n",
              "      <td>{'fin': 1.0, 'cct': 0.9055944055944056, 'présente': 0.7622377622377622, 'commission': 0.7447552447552448, 'paritaire': 0.7272727272727273, 'travailleurs': 0.6853146853146853, 'chômage': 0.6398601398601399, 'mois': 0.6293706293706294, 'jours': 0.625874...</td>\n",
              "    </tr>\n",
              "    <tr>\n",
              "      <th>8</th>\n",
              "      <td>SALAIRES</td>\n",
              "      <td>{'van': 1.0, 'ouvriers': 0.9033333333333333, 'paritaire': 0.8344444444444444, 'salaires': 0.82, 'travailleurs': 0.8133333333333334, 'minimum': 0.7855555555555556, 'commission': 0.7666666666666667, 'partir': 0.7644444444444445, 'présente': 0.7166666666...</td>\n",
              "    </tr>\n",
              "    <tr>\n",
              "      <th>9</th>\n",
              "      <td>JEUNES TRAVAILLEURS: SALAIRES</td>\n",
              "      <td>{'minimum': 1.0, 'salaires': 0.986870897155361, 'ouvriers': 0.949671772428884, 'chapitre': 0.687089715536105, 'mois': 0.6214442013129103, 'juillet': 0.6017505470459519, 'ler': 0.6017505470459519, 'euro': 0.5317286652078774, 'heures': 0.525164113785557...</td>\n",
              "    </tr>\n",
              "    <tr>\n",
              "      <th>10</th>\n",
              "      <td>FORMATION (EXCL. FORMATION SYNDICALE)</td>\n",
              "      <td>{'travailleurs': 1.0, 'fonds': 0.9719789842381786, 'partir': 0.9544658493870403, 'paritaire': 0.8739054290718039, 'entreprises': 0.7950963222416813, 'commission': 0.7828371278458844, 'cotisation': 0.7758318739054291, 'janvier': 0.7495621716287215, 'ar...</td>\n",
              "    </tr>\n",
              "    <tr>\n",
              "      <th>11</th>\n",
              "      <td>TRAVAILLEURS AGÉS-EXCL.PENSIONS COMPL, PRÉPENSION(RCC), CRÉDIT-TEMPS</td>\n",
              "      <td>{'ouvriers': 1.0, 'carrière': 0.8038216560509555, 'mois': 0.7898089171974523, 'paritaire': 0.710828025477707, 'partir': 0.6828025477707006, 'travailleurs': 0.6789808917197452, 'commission': 0.6547770700636942, 'minimum': 0.6267515923566879, 'présente'...</td>\n",
              "    </tr>\n",
              "    <tr>\n",
              "      <th>12</th>\n",
              "      <td>MALADIE/ACCIDENT/DÉCÈS</td>\n",
              "      <td>{'fonds': 1.0, 'chômage': 0.8102981029810298, 'ouvriers': 0.7886178861788617, 'complémentaire': 0.7127371273712737, 'art': 0.7018970189701897, 'cotisation': 0.6991869918699187, 'travailleurs': 0.6910569105691057, 'durée': 0.6829268292682927, 'entrepri...</td>\n",
              "    </tr>\n",
              "    <tr>\n",
              "      <th>13</th>\n",
              "      <td>CHÔMAGE (AUTRE QUE LE CHÔMAGE ÉCONOMIQUE DES EMPLOYÉS)</td>\n",
              "      <td>{'travailleurs': 1.0, 'fonds': 0.8975609756097561, 'cct': 0.8951219512195122, 'commission': 0.8439024390243902, 'durée': 0.8365853658536585, 'paritaire': 0.8170731707317073, 'complémentaire': 0.7975609756097561, 'entreprises': 0.7951219512195122, 'ouv...</td>\n",
              "    </tr>\n",
              "    <tr>\n",
              "      <th>14</th>\n",
              "      <td>RÉGIME DE CHÔMAGE AVEC COMPLÉMENT D'ENTREPRISE (RCC)</td>\n",
              "      <td>{'chômage': 1.0, 'régime': 0.8414814814814815, 'van': 0.8088888888888889, 'fonds': 0.7355555555555555, 'art': 0.7281481481481481, 'travailleurs': 0.6866666666666666, 'entreprise': 0.6511111111111111, 'cct': 0.6177777777777778, 'présente': 0.6066666666...</td>\n",
              "    </tr>\n",
              "    <tr>\n",
              "      <th>15</th>\n",
              "      <td>FORMATION SYNDICALE</td>\n",
              "      <td>{'cotisation': 1.0, 'travailleurs': 0.9241706161137441, 'formation': 0.7677725118483413, 'partir': 0.7535545023696683, 'entreprises': 0.6113744075829384, 'janvier': 0.5924170616113744, 'paritaire': 0.5071090047393365, 'commission': 0.5023696682464455,...</td>\n",
              "    </tr>\n",
              "    <tr>\n",
              "      <th>16</th>\n",
              "      <td>FONDS DE SÉCURITÉ D'EXISTENCE</td>\n",
              "      <td>{'régime': 1.0, 'formation': 0.9806678383128296, 'paritaire': 0.968365553602812, 'partir': 0.9349736379613357, 'travailleurs': 0.9138840070298769, 'cct': 0.8822495606326889, 'commission': 0.8576449912126538, 'complémentaire': 0.7873462214411248, 'ouvr...</td>\n",
              "    </tr>\n",
              "    <tr>\n",
              "      <th>17</th>\n",
              "      <td>INDEMNITÉS POUR FRAIS DE DÉPLACEMENT</td>\n",
              "      <td>{'partir': 1.0, 'travailleurs': 0.968299711815562, 'cct': 0.8962536023054755, 'paritaire': 0.8760806916426513, 'commission': 0.829971181556196, 'art': 0.829971181556196, 'présente': 0.8069164265129684, 'serum': 0.7146974063400576, 'mois': 0.7146974063...</td>\n",
              "    </tr>\n",
              "    <tr>\n",
              "      <th>18</th>\n",
              "      <td>CRÉDIT-TEMPS/DIMINUTION DE CARRIÈRE, EMPLOI FIN DE CARRIÈRE</td>\n",
              "      <td>{'fin': 1.0, 'cct': 0.9922480620155039, 'travailleurs': 0.9405684754521964, 'temp': 0.7777777777777778, 'paritaire': 0.7596899224806202, 'art': 0.7545219638242894, 'décembre': 0.7235142118863049, 'partir': 0.6821705426356589, 'présente': 0.67183462532...</td>\n",
              "    </tr>\n",
              "    <tr>\n",
              "      <th>19</th>\n",
              "      <td>RECRUTEMENT</td>\n",
              "      <td>{'travailleurs': 1.0, 'décembre': 0.874251497005988, 'art': 0.7604790419161677, 'paritaire': 0.6946107784431138, 'temp': 0.6107784431137725, 'travailleur': 0.6107784431137725, 'commission': 0.5988023952095808, 'jours': 0.5748502994011976, 'secteur': 0...</td>\n",
              "    </tr>\n",
              "    <tr>\n",
              "      <th>20</th>\n",
              "      <td>GROUPES À RISQUE</td>\n",
              "      <td>{'fonds': 1.0, 'cotisation': 0.967741935483871, 'travailleurs': 0.8914956011730205, 'partir': 0.8475073313782991, 'paritaire': 0.7917888563049853, 'entreprises': 0.7917888563049853, 'commission': 0.6744868035190615, 'janvier': 0.6627565982404692, 'emp...</td>\n",
              "    </tr>\n",
              "    <tr>\n",
              "      <th>21</th>\n",
              "      <td>BIEN-ÊTRE AU TRAVAIL</td>\n",
              "      <td>{'travailleurs': 1.0, 'art': 0.7610619469026548, 'secteur': 0.6371681415929203, 'paritaire': 0.5929203539823009, 'travailleur': 0.5398230088495575, 'chapitre': 0.504424778761062, 'temp': 0.504424778761062, 'jours': 0.4690265486725664, 'ler': 0.4601769...</td>\n",
              "    </tr>\n",
              "    <tr>\n",
              "      <th>22</th>\n",
              "      <td>FONDS SOCIAUX, AUTRE QUE LES FONDS DE SÉCURITÉ D'EXISTENCE</td>\n",
              "      <td>{'art': 1.0, 'travailleurs': 0.803921568627451, 'chapitre': 0.6862745098039216, 'entreprise': 0.6274509803921569, 'ler': 0.5490196078431373, 'entreprises': 0.5098039215686274, 'décembre': 0.49019607843137253, 'employés': 0.49019607843137253, 'faisabil...</td>\n",
              "    </tr>\n",
              "    <tr>\n",
              "      <th>23</th>\n",
              "      <td>TRAVAIL TEMPORAIRE ET TRAVAIL INTÉRIMAIRE</td>\n",
              "      <td>{'partir': 1.0, 'jours': 0.9798657718120806, 'formation': 0.9395973154362416, 'cct': 0.8926174496644296, 'temp': 0.8791946308724832, 'durée': 0.8657718120805369, 'carrière': 0.8657718120805369, 'fin': 0.8523489932885906, 'jour': 0.8322147651006712, 'p...</td>\n",
              "    </tr>\n",
              "    <tr>\n",
              "      <th>24</th>\n",
              "      <td>PRÉAVIS/LICENCIEMENT</td>\n",
              "      <td>{'mois': 1.0, 'jours': 1.0, 'paritaire': 0.9090909090909091, 'durée': 0.9090909090909091, 'syndicale': 0.8899521531100478, 'travailleur': 0.8755980861244019, 'fin': 0.8708133971291866, 'art': 0.8325358851674641, 'partir': 0.8133971291866029, 'commissi...</td>\n",
              "    </tr>\n",
              "    <tr>\n",
              "      <th>25</th>\n",
              "      <td>TEMPS DE TRAVAIL EN HEURES</td>\n",
              "      <td>{'temp': 1.0, 'durée': 0.9420289855072463, 'chapitre': 0.855072463768116, 'salaires': 0.6521739130434783, 'partir': 0.6521739130434783, 'prime': 0.6376811594202898, 'paritaire': 0.6231884057971014, 'travailleurs': 0.6231884057971014, 'entreprises': 0....</td>\n",
              "    </tr>\n",
              "    <tr>\n",
              "      <th>26</th>\n",
              "      <td>MODALITÉS DE LA DURÉE DE TRAVAIL</td>\n",
              "      <td>{'heures': 1.0, 'chapitre': 0.9861111111111112, 'prime': 0.9861111111111112, 'jours': 0.9027777777777778, 'temp': 0.8888888888888888, 'transport': 0.7916666666666666, 'salaire': 0.7777777777777778, 'service': 0.7638888888888888, 'art': 0.7361111111111...</td>\n",
              "    </tr>\n",
              "    <tr>\n",
              "      <th>27</th>\n",
              "      <td>TRAVAIL À TEMPS PARTIEL</td>\n",
              "      <td>{'jours': 1.0, 'travailleurs': 0.9841269841269841, 'durée': 0.8968253968253969, 'partir': 0.8968253968253969, 'chômage': 0.8650793650793651, 'jour': 0.8571428571428571, 'fin': 0.8253968253968254, 'nombre': 0.8174603174603174, 'régime': 0.8095238095238...</td>\n",
              "    </tr>\n",
              "    <tr>\n",
              "      <th>28</th>\n",
              "      <td>CHÈQUES-REPAS</td>\n",
              "      <td>{'eur': 1.0, 'temp': 0.9912280701754386, 'jours': 0.9912280701754386, 'jour': 0.9736842105263158, 'régime': 0.9298245614035088, 'fin': 0.9210526315789473, 'chômage': 0.9210526315789473, 'nombre': 0.9122807017543859, 'carrière': 0.9035087719298246, 'mo...</td>\n",
              "    </tr>\n",
              "    <tr>\n",
              "      <th>29</th>\n",
              "      <td>ECOCHÈQUES</td>\n",
              "      <td>{'paritaire': 1.0, 'prime': 0.9705882352941176, 'partir': 0.9509803921568627, 'entreprise': 0.9411764705882353, 'service': 0.8921568627450981, 'fin': 0.8725490196078431, 'carrière': 0.8627450980392157, 'mois': 0.8431372549019608, 'travailleurs': 0.833...</td>\n",
              "    </tr>\n",
              "    <tr>\n",
              "      <th>30</th>\n",
              "      <td>JOUR DE CONGÉ PAYÉ (PAS DE JOUR RTT OU DE COMPENSATION) ET JOUR FERIÉ</td>\n",
              "      <td>{'jour': 1.0, 'fin': 0.9459459459459459, 'carrière': 0.9351351351351351, 'partir': 0.9243243243243243, 'travailleurs': 0.8162162162162162, 'temp': 0.7675675675675676, 'cct': 0.7567567567567568, 'nombre': 0.7243243243243244, 'art': 0.7189189189189189, ...</td>\n",
              "    </tr>\n",
              "    <tr>\n",
              "      <th>31</th>\n",
              "      <td>PAIX SOCIALE</td>\n",
              "      <td>{'carrière': 1.0, 'travailleurs': 0.9808612440191388, 'fin': 0.9138755980861244, 'régime': 0.861244019138756, 'prime': 0.8564593301435407, 'temp': 0.7942583732057417, 'paritaire': 0.7894736842105263, 'chômage': 0.784688995215311, 'commission': 0.77990...</td>\n",
              "    </tr>\n",
              "    <tr>\n",
              "      <th>32</th>\n",
              "      <td>CLASSIFICATION DES FONCTIONS</td>\n",
              "      <td>{'production': 1.0, 'art': 0.8019169329073482, 'qualité': 0.645367412140575, 'ouvriers': 0.597444089456869, 'salaire': 0.5463258785942492, 'salaires': 0.5239616613418531, 'présente': 0.5047923322683706, 'travailleurs': 0.48562300319488816, 'prime': 0....</td>\n",
              "    </tr>\n",
              "    <tr>\n",
              "      <th>33</th>\n",
              "      <td>AVANTAGE/MÉTHODE DE RÉCOMPENSE ALTERNATIVE (EXCL PRIME, CHÈQUE, BONUS)</td>\n",
              "      <td>{'prime': 1.0, 'entreprises': 0.989010989010989, 'ouvriers': 0.9230769230769231, 'fonds': 0.7032967032967034, 'sociaux': 0.6923076923076923, 'salaires': 0.6263736263736264, 'social': 0.6043956043956044, 'entreprise': 0.6043956043956044, 'carrière': 0....</td>\n",
              "    </tr>\n",
              "    <tr>\n",
              "      <th>34</th>\n",
              "      <td>DISCRIMINATION</td>\n",
              "      <td>{'construction': 1.0, 'présente': 1.0, 'employeurs': 1.0, 'entreprises': 1.0, 'racisme': 1.0, 'conviction': 1.0, 'intolérable': 1.0, 'durée': 1.0, 'metallique': 0.5, 'mecanique': 0.5, 'electrique': 0.5, 'lutte': 0.5, 'champ': 0.5, 'ouvriers': 0.5, 're...</td>\n",
              "    </tr>\n",
              "    <tr>\n",
              "      <th>35</th>\n",
              "      <td>FLEXIBILITÉ DU TEMPS DE TRAVAIL</td>\n",
              "      <td>{'entreprises': 1.0, 'heures': 0.9367088607594937, 'chapitre': 0.9240506329113924, 'partir': 0.8734177215189873, 'prime': 0.8354430379746836, 'ouvriers': 0.8227848101265823, 'paritaire': 0.7721518987341772, 'juillet': 0.7088607594936709, 'sectoriels':...</td>\n",
              "    </tr>\n",
              "    <tr>\n",
              "      <th>36</th>\n",
              "      <td>HEURES SUPPLÉMENTAIRES</td>\n",
              "      <td>{'entreprises': 1.0, 'chapitre': 1.0, 'ouvriers': 0.9682539682539683, 'temp': 0.9365079365079365, 'heures': 0.9365079365079365, 'partir': 0.9047619047619048, 'art': 0.8888888888888888, 'salaires': 0.8095238095238095, 'prime': 0.8095238095238095, 'pari...</td>\n",
              "    </tr>\n",
              "    <tr>\n",
              "      <th>37</th>\n",
              "      <td>HARMONISATION DU STATUT OUVRIER/EMPLOYÉS</td>\n",
              "      <td>{'entreprises': 1.0, 'employés': 0.9074074074074074, 'prime': 0.9074074074074074, 'niveau': 0.8518518518518519, 'sociaux': 0.8333333333333334, 'entreprise': 0.8333333333333334, 'fin': 0.7962962962962963, 'juillet': 0.6944444444444444, 'sectoriels': 0....</td>\n",
              "    </tr>\n",
              "    <tr>\n",
              "      <th>38</th>\n",
              "      <td>DÉLÉGATION SYNDICALE</td>\n",
              "      <td>{'travailleurs': 1.0, 'délégation': 0.9444444444444444, 'organisation': 0.7777777777777778, 'délégué': 0.7407407407407407, 'paritaire': 0.7129629629629629, 'entreprises': 0.6666666666666666, 'syndicales': 0.6574074074074074, 'art': 0.6296296296296297,...</td>\n",
              "    </tr>\n",
              "    <tr>\n",
              "      <th>39</th>\n",
              "      <td>FONCTIONNEMENT AU SEIN DE L'ENTREPRISE/DES ORGANES DE CONCERTATION</td>\n",
              "      <td>{'travailleurs': 1.0, 'délégation': 0.9819819819819819, 'art': 0.7837837837837838, 'organisation': 0.7837837837837838, 'entreprises': 0.7747747747747747, 'paritaire': 0.7567567567567568, 'délégué': 0.7207207207207207, 'syndicales': 0.6576576576576577,...</td>\n",
              "    </tr>\n",
              "    <tr>\n",
              "      <th>40</th>\n",
              "      <td>TRAVAIL PENDANT LE WEEKEND ET LES JOURS FÉRIÉS</td>\n",
              "      <td>{'salaires': 1.0, 'prime': 0.9047619047619048, 'art': 0.8928571428571429, 'jour': 0.8571428571428571, 'travailleurs': 0.8095238095238095, 'mois': 0.75, 'minimum': 0.7380952380952381, 'partir': 0.7142857142857143, 'salaire': 0.6904761904761905, 'cat': ...</td>\n",
              "    </tr>\n",
              "    <tr>\n",
              "      <th>41</th>\n",
              "      <td>PARTICIPATION AUX BÉNÉFICES/AVANTAGE NON RECURR. LIÉ AUX RÉSULT.-CCT90</td>\n",
              "      <td>{'partir': 1.0, 'régime': 0.9069767441860465, 'référence': 0.9069767441860465, 'jours': 0.8837209302325582, 'carrière': 0.8604651162790697, 'eur': 0.8372093023255814, 'mois': 0.8372093023255814, 'repas': 0.7441860465116279, 'salaire': 0.65116279069767...</td>\n",
              "    </tr>\n",
              "    <tr>\n",
              "      <th>42</th>\n",
              "      <td>CONGÉ POUR RAISONS IMPÉRIEUSES</td>\n",
              "      <td>{'régime': 1.0, 'carrière': 0.9736842105263158, 'eur': 0.8421052631578947, 'repas': 0.8421052631578947, 'mois': 0.8157894736842105, 'jours': 0.7631578947368421, 'référence': 0.7368421052631579, 'travailleur': 0.7105263157894737, 'jour': 0.710526315789...</td>\n",
              "    </tr>\n",
              "    <tr>\n",
              "      <th>43</th>\n",
              "      <td>PRIME UNIQUE</td>\n",
              "      <td>{'cct': 1.0, 'temp': 1.0, 'partir': 0.922077922077922, 'serum': 0.8571428571428571, 'prime': 0.8441558441558441, 'formation': 0.8181818181818182, 'jours': 0.8051948051948052, 'fin': 0.8051948051948052, 'art': 0.7922077922077922, 'durée': 0.75324675324...</td>\n",
              "    </tr>\n",
              "    <tr>\n",
              "      <th>44</th>\n",
              "      <td>RÉDUCTION DE LA DURÉE DE TRAVAIL</td>\n",
              "      <td>{'travailleurs': 1.0, 'temp': 0.9649122807017544, 'durée': 0.9649122807017544, 'jour': 0.8596491228070176, 'nombre': 0.8245614035087719, 'chômage': 0.6842105263157895, 'partir': 0.6842105263157895, 'repos': 0.6140350877192983, 'cct': 0.596491228070175...</td>\n",
              "    </tr>\n",
              "    <tr>\n",
              "      <th>45</th>\n",
              "      <td>CONGÉ PARENTAL ET CONGÉ POUR DES RAISONS PERSONNELLES</td>\n",
              "      <td>{'temp': 1.0, 'jours': 0.9272727272727272, 'eur': 0.9090909090909091, 'partir': 0.8545454545454545, 'jour': 0.8363636363636363, 'nombre': 0.8181818181818182, 'fin': 0.7818181818181819, 'cct': 0.7636363636363637, 'serum': 0.7636363636363637, 'présente'...</td>\n",
              "    </tr>\n",
              "    <tr>\n",
              "      <th>46</th>\n",
              "      <td>PRIME D'ANCIENNETÉ, PRIME DE DÉPART</td>\n",
              "      <td>{'formation': 1.0, 'chauffeur': 0.96875, 'fonds': 0.8125, 'prime': 0.78125, 'service': 0.75, 'euro': 0.6875, 'mois': 0.5625, 'accord': 0.5625, 'commission': 0.53125, 'transport': 0.53125, 'social': 0.53125, 'chômage': 0.53125, 'paritaire': 0.5, 'entre...</td>\n",
              "    </tr>\n",
              "    <tr>\n",
              "      <th>47</th>\n",
              "      <td>FONCTIONNEMENT AU SEIN  DE LA COMMISSION PARITAIRE</td>\n",
              "      <td>{'cct': 1.0, 'partir': 0.9661016949152542, 'entreprises': 0.847457627118644, 'travailleurs': 0.8305084745762712, 'durée': 0.7966101694915254, 'partenaires': 0.7796610169491526, 'sociaux': 0.7796610169491526, 'service': 0.7796610169491526, 'carrière': ...</td>\n",
              "    </tr>\n",
              "    <tr>\n",
              "      <th>48</th>\n",
              "      <td>MESURE POUR ENTREPRISE EN DIFFICULTÉ/ RESTRUCTURATION - PAS DE RCC</td>\n",
              "      <td>{'professionnel': 1.0, 'travailleur': 0.9746835443037974, 'travailleurs': 0.7721518987341772, 'service': 0.759493670886076, 'mois': 0.6708860759493671, 'art': 0.620253164556962, 'chapitre': 0.5949367088607594, 'durée': 0.5949367088607594, 'cct': 0.569...</td>\n",
              "    </tr>\n",
              "    <tr>\n",
              "      <th>49</th>\n",
              "      <td>CHÈQUES CADEAU, SPORT ET CULTURE</td>\n",
              "      <td>{'logistique': 1.0, 'paritaire': 0.8888888888888888, 'chapitre': 0.8888888888888888, 'compte': 0.8888888888888888, 'mois': 0.8888888888888888, 'cadeau': 0.8888888888888888, 'travailleurs': 0.7777777777777778, 'décembre': 0.7777777777777778, 'service':...</td>\n",
              "    </tr>\n",
              "    <tr>\n",
              "      <th>50</th>\n",
              "      <td>LICENCIEMENT DES TRAVAILLEURS PROTÉGÉS</td>\n",
              "      <td>{'délégation': 1.0, 'travailleurs': 0.9878048780487805, 'délégué': 0.9634146341463414, 'organisation': 0.8780487804878049, 'syndicales': 0.7560975609756098, 'personnel': 0.6951219512195121, 'délégués': 0.6707317073170732, 'paritaire': 0.62195121951219...</td>\n",
              "    </tr>\n",
              "    <tr>\n",
              "      <th>51</th>\n",
              "      <td>TRANSFERT DU PERSONNEL VERS UNE AUTRE ENTREPRISE</td>\n",
              "      <td>{'roulant': 1.0, 'chapitre': 0.7142857142857143, 'service': 0.5714285714285714, 'réguliers': 0.5714285714285714, 'membres': 0.5714285714285714, 'paritaire': 0.42857142857142855, 'autobus': 0.42857142857142855, 'autocars': 0.42857142857142855, 'transfe...</td>\n",
              "    </tr>\n",
              "    <tr>\n",
              "      <th>52</th>\n",
              "      <td>CHÔMAGE ÉCONOMIQUE DES EMPLOYÉS</td>\n",
              "      <td>{'contrat': 1.0, 'suspension': 0.8709677419354839, 'employés': 0.6774193548387096, 'loi': 0.6129032258064516, 'temp': 0.6129032258064516, 'commission': 0.5806451612903226, 'juillet': 0.5806451612903226, 'paritaire': 0.5483870967741935, 'chômage': 0.51...</td>\n",
              "    </tr>\n",
              "    <tr>\n",
              "      <th>53</th>\n",
              "      <td>TÉLÉTRAVAIL</td>\n",
              "      <td>{'cct': 1.0, 'partenaires': 0.84375, 'sociaux': 0.84375, 'entreprise': 0.75, 'travailleurs': 0.75, 'formation': 0.71875, 'carrière': 0.65625, 'faisabilité': 0.625, 'entreprises': 0.625, 'janvier': 0.625, 'durée': 0.5625, 'présente': 0.53125, 'employés...</td>\n",
              "    </tr>\n",
              "  </tbody>\n",
              "</table>\n",
              "</div>"
            ],
            "text/plain": [
              "                                                                   themeFr                                                                                                                                                                                                                                              frequency_relative\n",
              "0                            PENSIONS COMPÉMENTAIRES ET ASSURANCES GROUPES  {'règlement': 1.0, 'régime': 0.9255464480874317, 'solidarité': 0.7650273224043715, 'sectoriel': 0.7452185792349727, 'van': 0.6038251366120219, 'complémentaire': 0.5348360655737705, 'partir': 0.47062841530054644, 'ofp': 0.4603825136612022, 'métal': 0.4...\n",
              "1                                                          PRIME SYNDICALE  {'cotisation': 1.0, 'partir': 0.9342560553633218, 'travailleurs': 0.8062283737024222, 'entreprises': 0.6678200692041523, 'janvier': 0.6505190311418685, 'ouvriers': 0.6193771626297578, 'sécurité': 0.5986159169550173, 'formation': 0.5743944636678201, 'p...\n",
              "2                                             TRAVAIL EN ÉQUIPE ET DE NUIT  {'ouvriers': 1.0, 'prime': 0.9102803738317757, 'minimum': 0.8336448598130841, 'salaires': 0.8299065420560747, 'mois': 0.8018691588785046, 'présente': 0.719626168224299, 'paritaire': 0.7046728971962617, 'commission': 0.6654205607476635, 'chapitre': 0.5...\n",
              "3                                                       PÉCULE DE VACANCES  {'art': 1.0, 'mois': 0.9375, 'juillet': 0.84375, 'chômage': 0.71875, 'vacances': 0.71875, 'travaux': 0.6875, 'paritaire': 0.59375, 'entreprises': 0.59375, 'commission': 0.5625, 'durée': 0.5625, 'sectoriels': 0.5625, 'pécule': 0.5625, 'période': 0.5312...\n",
              "4                                PRIME PROPRE AU SECTEUR OU À L'ENTREPRISE  {'art': 1.0, 'salaires': 0.7081081081081081, 'minimum': 0.6432432432432432, 'salaire': 0.572972972972973, 'mois': 0.5351351351351351, 'chapitre': 0.5297297297297298, 'présente': 0.4486486486486487, 'heures': 0.4486486486486487, 'paritaire': 0.43783783...\n",
              "5                       REMBOURSEMENT DE FRAIS (HORS FRAIS DE DÉPLACEMENT)  {'art': 1.0, 'prime': 0.9, 'entreprises': 0.8, 'partir': 0.7666666666666667, 'ouvriers': 0.7333333333333333, 'service': 0.7066666666666667, 'chauffeur': 0.6866666666666666, 'paritaire': 0.68, 'jours': 0.6733333333333333, 'mois': 0.62, 'chapitre': 0.61...\n",
              "6                                                              DÉTACHEMENT  {'fonds': 1.0, 'janvier': 0.6819571865443425, 'paritaire': 0.6085626911314985, 'ouvriers': 0.599388379204893, 'travailleurs': 0.5902140672782875, 'commission': 0.5749235474006116, 'sécurité': 0.5626911314984709, 'van': 0.5596330275229358, 'durée': 0.5...\n",
              "7                                                     PRIME DE FIN D'ANNÉE  {'fin': 1.0, 'cct': 0.9055944055944056, 'présente': 0.7622377622377622, 'commission': 0.7447552447552448, 'paritaire': 0.7272727272727273, 'travailleurs': 0.6853146853146853, 'chômage': 0.6398601398601399, 'mois': 0.6293706293706294, 'jours': 0.625874...\n",
              "8                                                                 SALAIRES  {'van': 1.0, 'ouvriers': 0.9033333333333333, 'paritaire': 0.8344444444444444, 'salaires': 0.82, 'travailleurs': 0.8133333333333334, 'minimum': 0.7855555555555556, 'commission': 0.7666666666666667, 'partir': 0.7644444444444445, 'présente': 0.7166666666...\n",
              "9                                            JEUNES TRAVAILLEURS: SALAIRES  {'minimum': 1.0, 'salaires': 0.986870897155361, 'ouvriers': 0.949671772428884, 'chapitre': 0.687089715536105, 'mois': 0.6214442013129103, 'juillet': 0.6017505470459519, 'ler': 0.6017505470459519, 'euro': 0.5317286652078774, 'heures': 0.525164113785557...\n",
              "10                                   FORMATION (EXCL. FORMATION SYNDICALE)  {'travailleurs': 1.0, 'fonds': 0.9719789842381786, 'partir': 0.9544658493870403, 'paritaire': 0.8739054290718039, 'entreprises': 0.7950963222416813, 'commission': 0.7828371278458844, 'cotisation': 0.7758318739054291, 'janvier': 0.7495621716287215, 'ar...\n",
              "11    TRAVAILLEURS AGÉS-EXCL.PENSIONS COMPL, PRÉPENSION(RCC), CRÉDIT-TEMPS  {'ouvriers': 1.0, 'carrière': 0.8038216560509555, 'mois': 0.7898089171974523, 'paritaire': 0.710828025477707, 'partir': 0.6828025477707006, 'travailleurs': 0.6789808917197452, 'commission': 0.6547770700636942, 'minimum': 0.6267515923566879, 'présente'...\n",
              "12                                                  MALADIE/ACCIDENT/DÉCÈS  {'fonds': 1.0, 'chômage': 0.8102981029810298, 'ouvriers': 0.7886178861788617, 'complémentaire': 0.7127371273712737, 'art': 0.7018970189701897, 'cotisation': 0.6991869918699187, 'travailleurs': 0.6910569105691057, 'durée': 0.6829268292682927, 'entrepri...\n",
              "13                  CHÔMAGE (AUTRE QUE LE CHÔMAGE ÉCONOMIQUE DES EMPLOYÉS)  {'travailleurs': 1.0, 'fonds': 0.8975609756097561, 'cct': 0.8951219512195122, 'commission': 0.8439024390243902, 'durée': 0.8365853658536585, 'paritaire': 0.8170731707317073, 'complémentaire': 0.7975609756097561, 'entreprises': 0.7951219512195122, 'ouv...\n",
              "14                    RÉGIME DE CHÔMAGE AVEC COMPLÉMENT D'ENTREPRISE (RCC)  {'chômage': 1.0, 'régime': 0.8414814814814815, 'van': 0.8088888888888889, 'fonds': 0.7355555555555555, 'art': 0.7281481481481481, 'travailleurs': 0.6866666666666666, 'entreprise': 0.6511111111111111, 'cct': 0.6177777777777778, 'présente': 0.6066666666...\n",
              "15                                                     FORMATION SYNDICALE  {'cotisation': 1.0, 'travailleurs': 0.9241706161137441, 'formation': 0.7677725118483413, 'partir': 0.7535545023696683, 'entreprises': 0.6113744075829384, 'janvier': 0.5924170616113744, 'paritaire': 0.5071090047393365, 'commission': 0.5023696682464455,...\n",
              "16                                           FONDS DE SÉCURITÉ D'EXISTENCE  {'régime': 1.0, 'formation': 0.9806678383128296, 'paritaire': 0.968365553602812, 'partir': 0.9349736379613357, 'travailleurs': 0.9138840070298769, 'cct': 0.8822495606326889, 'commission': 0.8576449912126538, 'complémentaire': 0.7873462214411248, 'ouvr...\n",
              "17                                    INDEMNITÉS POUR FRAIS DE DÉPLACEMENT  {'partir': 1.0, 'travailleurs': 0.968299711815562, 'cct': 0.8962536023054755, 'paritaire': 0.8760806916426513, 'commission': 0.829971181556196, 'art': 0.829971181556196, 'présente': 0.8069164265129684, 'serum': 0.7146974063400576, 'mois': 0.7146974063...\n",
              "18             CRÉDIT-TEMPS/DIMINUTION DE CARRIÈRE, EMPLOI FIN DE CARRIÈRE  {'fin': 1.0, 'cct': 0.9922480620155039, 'travailleurs': 0.9405684754521964, 'temp': 0.7777777777777778, 'paritaire': 0.7596899224806202, 'art': 0.7545219638242894, 'décembre': 0.7235142118863049, 'partir': 0.6821705426356589, 'présente': 0.67183462532...\n",
              "19                                                             RECRUTEMENT  {'travailleurs': 1.0, 'décembre': 0.874251497005988, 'art': 0.7604790419161677, 'paritaire': 0.6946107784431138, 'temp': 0.6107784431137725, 'travailleur': 0.6107784431137725, 'commission': 0.5988023952095808, 'jours': 0.5748502994011976, 'secteur': 0...\n",
              "20                                                        GROUPES À RISQUE  {'fonds': 1.0, 'cotisation': 0.967741935483871, 'travailleurs': 0.8914956011730205, 'partir': 0.8475073313782991, 'paritaire': 0.7917888563049853, 'entreprises': 0.7917888563049853, 'commission': 0.6744868035190615, 'janvier': 0.6627565982404692, 'emp...\n",
              "21                                                    BIEN-ÊTRE AU TRAVAIL  {'travailleurs': 1.0, 'art': 0.7610619469026548, 'secteur': 0.6371681415929203, 'paritaire': 0.5929203539823009, 'travailleur': 0.5398230088495575, 'chapitre': 0.504424778761062, 'temp': 0.504424778761062, 'jours': 0.4690265486725664, 'ler': 0.4601769...\n",
              "22              FONDS SOCIAUX, AUTRE QUE LES FONDS DE SÉCURITÉ D'EXISTENCE  {'art': 1.0, 'travailleurs': 0.803921568627451, 'chapitre': 0.6862745098039216, 'entreprise': 0.6274509803921569, 'ler': 0.5490196078431373, 'entreprises': 0.5098039215686274, 'décembre': 0.49019607843137253, 'employés': 0.49019607843137253, 'faisabil...\n",
              "23                               TRAVAIL TEMPORAIRE ET TRAVAIL INTÉRIMAIRE  {'partir': 1.0, 'jours': 0.9798657718120806, 'formation': 0.9395973154362416, 'cct': 0.8926174496644296, 'temp': 0.8791946308724832, 'durée': 0.8657718120805369, 'carrière': 0.8657718120805369, 'fin': 0.8523489932885906, 'jour': 0.8322147651006712, 'p...\n",
              "24                                                    PRÉAVIS/LICENCIEMENT  {'mois': 1.0, 'jours': 1.0, 'paritaire': 0.9090909090909091, 'durée': 0.9090909090909091, 'syndicale': 0.8899521531100478, 'travailleur': 0.8755980861244019, 'fin': 0.8708133971291866, 'art': 0.8325358851674641, 'partir': 0.8133971291866029, 'commissi...\n",
              "25                                              TEMPS DE TRAVAIL EN HEURES  {'temp': 1.0, 'durée': 0.9420289855072463, 'chapitre': 0.855072463768116, 'salaires': 0.6521739130434783, 'partir': 0.6521739130434783, 'prime': 0.6376811594202898, 'paritaire': 0.6231884057971014, 'travailleurs': 0.6231884057971014, 'entreprises': 0....\n",
              "26                                        MODALITÉS DE LA DURÉE DE TRAVAIL  {'heures': 1.0, 'chapitre': 0.9861111111111112, 'prime': 0.9861111111111112, 'jours': 0.9027777777777778, 'temp': 0.8888888888888888, 'transport': 0.7916666666666666, 'salaire': 0.7777777777777778, 'service': 0.7638888888888888, 'art': 0.7361111111111...\n",
              "27                                                 TRAVAIL À TEMPS PARTIEL  {'jours': 1.0, 'travailleurs': 0.9841269841269841, 'durée': 0.8968253968253969, 'partir': 0.8968253968253969, 'chômage': 0.8650793650793651, 'jour': 0.8571428571428571, 'fin': 0.8253968253968254, 'nombre': 0.8174603174603174, 'régime': 0.8095238095238...\n",
              "28                                                           CHÈQUES-REPAS  {'eur': 1.0, 'temp': 0.9912280701754386, 'jours': 0.9912280701754386, 'jour': 0.9736842105263158, 'régime': 0.9298245614035088, 'fin': 0.9210526315789473, 'chômage': 0.9210526315789473, 'nombre': 0.9122807017543859, 'carrière': 0.9035087719298246, 'mo...\n",
              "29                                                              ECOCHÈQUES  {'paritaire': 1.0, 'prime': 0.9705882352941176, 'partir': 0.9509803921568627, 'entreprise': 0.9411764705882353, 'service': 0.8921568627450981, 'fin': 0.8725490196078431, 'carrière': 0.8627450980392157, 'mois': 0.8431372549019608, 'travailleurs': 0.833...\n",
              "30   JOUR DE CONGÉ PAYÉ (PAS DE JOUR RTT OU DE COMPENSATION) ET JOUR FERIÉ  {'jour': 1.0, 'fin': 0.9459459459459459, 'carrière': 0.9351351351351351, 'partir': 0.9243243243243243, 'travailleurs': 0.8162162162162162, 'temp': 0.7675675675675676, 'cct': 0.7567567567567568, 'nombre': 0.7243243243243244, 'art': 0.7189189189189189, ...\n",
              "31                                                            PAIX SOCIALE  {'carrière': 1.0, 'travailleurs': 0.9808612440191388, 'fin': 0.9138755980861244, 'régime': 0.861244019138756, 'prime': 0.8564593301435407, 'temp': 0.7942583732057417, 'paritaire': 0.7894736842105263, 'chômage': 0.784688995215311, 'commission': 0.77990...\n",
              "32                                            CLASSIFICATION DES FONCTIONS  {'production': 1.0, 'art': 0.8019169329073482, 'qualité': 0.645367412140575, 'ouvriers': 0.597444089456869, 'salaire': 0.5463258785942492, 'salaires': 0.5239616613418531, 'présente': 0.5047923322683706, 'travailleurs': 0.48562300319488816, 'prime': 0....\n",
              "33  AVANTAGE/MÉTHODE DE RÉCOMPENSE ALTERNATIVE (EXCL PRIME, CHÈQUE, BONUS)  {'prime': 1.0, 'entreprises': 0.989010989010989, 'ouvriers': 0.9230769230769231, 'fonds': 0.7032967032967034, 'sociaux': 0.6923076923076923, 'salaires': 0.6263736263736264, 'social': 0.6043956043956044, 'entreprise': 0.6043956043956044, 'carrière': 0....\n",
              "34                                                          DISCRIMINATION  {'construction': 1.0, 'présente': 1.0, 'employeurs': 1.0, 'entreprises': 1.0, 'racisme': 1.0, 'conviction': 1.0, 'intolérable': 1.0, 'durée': 1.0, 'metallique': 0.5, 'mecanique': 0.5, 'electrique': 0.5, 'lutte': 0.5, 'champ': 0.5, 'ouvriers': 0.5, 're...\n",
              "35                                         FLEXIBILITÉ DU TEMPS DE TRAVAIL  {'entreprises': 1.0, 'heures': 0.9367088607594937, 'chapitre': 0.9240506329113924, 'partir': 0.8734177215189873, 'prime': 0.8354430379746836, 'ouvriers': 0.8227848101265823, 'paritaire': 0.7721518987341772, 'juillet': 0.7088607594936709, 'sectoriels':...\n",
              "36                                                  HEURES SUPPLÉMENTAIRES  {'entreprises': 1.0, 'chapitre': 1.0, 'ouvriers': 0.9682539682539683, 'temp': 0.9365079365079365, 'heures': 0.9365079365079365, 'partir': 0.9047619047619048, 'art': 0.8888888888888888, 'salaires': 0.8095238095238095, 'prime': 0.8095238095238095, 'pari...\n",
              "37                                HARMONISATION DU STATUT OUVRIER/EMPLOYÉS  {'entreprises': 1.0, 'employés': 0.9074074074074074, 'prime': 0.9074074074074074, 'niveau': 0.8518518518518519, 'sociaux': 0.8333333333333334, 'entreprise': 0.8333333333333334, 'fin': 0.7962962962962963, 'juillet': 0.6944444444444444, 'sectoriels': 0....\n",
              "38                                                    DÉLÉGATION SYNDICALE  {'travailleurs': 1.0, 'délégation': 0.9444444444444444, 'organisation': 0.7777777777777778, 'délégué': 0.7407407407407407, 'paritaire': 0.7129629629629629, 'entreprises': 0.6666666666666666, 'syndicales': 0.6574074074074074, 'art': 0.6296296296296297,...\n",
              "39      FONCTIONNEMENT AU SEIN DE L'ENTREPRISE/DES ORGANES DE CONCERTATION  {'travailleurs': 1.0, 'délégation': 0.9819819819819819, 'art': 0.7837837837837838, 'organisation': 0.7837837837837838, 'entreprises': 0.7747747747747747, 'paritaire': 0.7567567567567568, 'délégué': 0.7207207207207207, 'syndicales': 0.6576576576576577,...\n",
              "40                          TRAVAIL PENDANT LE WEEKEND ET LES JOURS FÉRIÉS  {'salaires': 1.0, 'prime': 0.9047619047619048, 'art': 0.8928571428571429, 'jour': 0.8571428571428571, 'travailleurs': 0.8095238095238095, 'mois': 0.75, 'minimum': 0.7380952380952381, 'partir': 0.7142857142857143, 'salaire': 0.6904761904761905, 'cat': ...\n",
              "41  PARTICIPATION AUX BÉNÉFICES/AVANTAGE NON RECURR. LIÉ AUX RÉSULT.-CCT90  {'partir': 1.0, 'régime': 0.9069767441860465, 'référence': 0.9069767441860465, 'jours': 0.8837209302325582, 'carrière': 0.8604651162790697, 'eur': 0.8372093023255814, 'mois': 0.8372093023255814, 'repas': 0.7441860465116279, 'salaire': 0.65116279069767...\n",
              "42                                          CONGÉ POUR RAISONS IMPÉRIEUSES  {'régime': 1.0, 'carrière': 0.9736842105263158, 'eur': 0.8421052631578947, 'repas': 0.8421052631578947, 'mois': 0.8157894736842105, 'jours': 0.7631578947368421, 'référence': 0.7368421052631579, 'travailleur': 0.7105263157894737, 'jour': 0.710526315789...\n",
              "43                                                            PRIME UNIQUE  {'cct': 1.0, 'temp': 1.0, 'partir': 0.922077922077922, 'serum': 0.8571428571428571, 'prime': 0.8441558441558441, 'formation': 0.8181818181818182, 'jours': 0.8051948051948052, 'fin': 0.8051948051948052, 'art': 0.7922077922077922, 'durée': 0.75324675324...\n",
              "44                                        RÉDUCTION DE LA DURÉE DE TRAVAIL  {'travailleurs': 1.0, 'temp': 0.9649122807017544, 'durée': 0.9649122807017544, 'jour': 0.8596491228070176, 'nombre': 0.8245614035087719, 'chômage': 0.6842105263157895, 'partir': 0.6842105263157895, 'repos': 0.6140350877192983, 'cct': 0.596491228070175...\n",
              "45                   CONGÉ PARENTAL ET CONGÉ POUR DES RAISONS PERSONNELLES  {'temp': 1.0, 'jours': 0.9272727272727272, 'eur': 0.9090909090909091, 'partir': 0.8545454545454545, 'jour': 0.8363636363636363, 'nombre': 0.8181818181818182, 'fin': 0.7818181818181819, 'cct': 0.7636363636363637, 'serum': 0.7636363636363637, 'présente'...\n",
              "46                                     PRIME D'ANCIENNETÉ, PRIME DE DÉPART  {'formation': 1.0, 'chauffeur': 0.96875, 'fonds': 0.8125, 'prime': 0.78125, 'service': 0.75, 'euro': 0.6875, 'mois': 0.5625, 'accord': 0.5625, 'commission': 0.53125, 'transport': 0.53125, 'social': 0.53125, 'chômage': 0.53125, 'paritaire': 0.5, 'entre...\n",
              "47                      FONCTIONNEMENT AU SEIN  DE LA COMMISSION PARITAIRE  {'cct': 1.0, 'partir': 0.9661016949152542, 'entreprises': 0.847457627118644, 'travailleurs': 0.8305084745762712, 'durée': 0.7966101694915254, 'partenaires': 0.7796610169491526, 'sociaux': 0.7796610169491526, 'service': 0.7796610169491526, 'carrière': ...\n",
              "48      MESURE POUR ENTREPRISE EN DIFFICULTÉ/ RESTRUCTURATION - PAS DE RCC  {'professionnel': 1.0, 'travailleur': 0.9746835443037974, 'travailleurs': 0.7721518987341772, 'service': 0.759493670886076, 'mois': 0.6708860759493671, 'art': 0.620253164556962, 'chapitre': 0.5949367088607594, 'durée': 0.5949367088607594, 'cct': 0.569...\n",
              "49                                        CHÈQUES CADEAU, SPORT ET CULTURE  {'logistique': 1.0, 'paritaire': 0.8888888888888888, 'chapitre': 0.8888888888888888, 'compte': 0.8888888888888888, 'mois': 0.8888888888888888, 'cadeau': 0.8888888888888888, 'travailleurs': 0.7777777777777778, 'décembre': 0.7777777777777778, 'service':...\n",
              "50                                  LICENCIEMENT DES TRAVAILLEURS PROTÉGÉS  {'délégation': 1.0, 'travailleurs': 0.9878048780487805, 'délégué': 0.9634146341463414, 'organisation': 0.8780487804878049, 'syndicales': 0.7560975609756098, 'personnel': 0.6951219512195121, 'délégués': 0.6707317073170732, 'paritaire': 0.62195121951219...\n",
              "51                        TRANSFERT DU PERSONNEL VERS UNE AUTRE ENTREPRISE  {'roulant': 1.0, 'chapitre': 0.7142857142857143, 'service': 0.5714285714285714, 'réguliers': 0.5714285714285714, 'membres': 0.5714285714285714, 'paritaire': 0.42857142857142855, 'autobus': 0.42857142857142855, 'autocars': 0.42857142857142855, 'transfe...\n",
              "52                                         CHÔMAGE ÉCONOMIQUE DES EMPLOYÉS  {'contrat': 1.0, 'suspension': 0.8709677419354839, 'employés': 0.6774193548387096, 'loi': 0.6129032258064516, 'temp': 0.6129032258064516, 'commission': 0.5806451612903226, 'juillet': 0.5806451612903226, 'paritaire': 0.5483870967741935, 'chômage': 0.51...\n",
              "53                                                             TÉLÉTRAVAIL  {'cct': 1.0, 'partenaires': 0.84375, 'sociaux': 0.84375, 'entreprise': 0.75, 'travailleurs': 0.75, 'formation': 0.71875, 'carrière': 0.65625, 'faisabilité': 0.625, 'entreprises': 0.625, 'janvier': 0.625, 'durée': 0.5625, 'présente': 0.53125, 'employés..."
            ]
          },
          "metadata": {
            "tags": []
          },
          "execution_count": 38
        }
      ]
    },
    {
      "cell_type": "markdown",
      "metadata": {
        "id": "SpotjOgBmLpS"
      },
      "source": [
        "# Classification model"
      ]
    },
    {
      "cell_type": "code",
      "metadata": {
        "id": "xGZ0nUEXmd2j"
      },
      "source": [
        "from pickle import load\r\n",
        "\r\n",
        "with open(os.path.join(KPMG_PATH, \"clas_new.pkl\"), 'rb') as f:\r\n",
        "  df = load(f)"
      ],
      "execution_count": 39,
      "outputs": []
    },
    {
      "cell_type": "code",
      "metadata": {
        "id": "n62CpQau9j-Y",
        "outputId": "974c0451-fb4e-45c8-d20b-de7fbb031967",
        "colab": {
          "base_uri": "https://localhost:8080/"
        }
      },
      "source": [
        "df.columns"
      ],
      "execution_count": 40,
      "outputs": [
        {
          "output_type": "execute_result",
          "data": {
            "text/plain": [
              "Index(['depositNumber', 'displayJcId', 'titleFr', 'themesFr',\n",
              "       'publicationDate', 'scopeFr', 'endDate', 'enforced', 'docBodyFr'],\n",
              "      dtype='object')"
            ]
          },
          "metadata": {
            "tags": []
          },
          "execution_count": 40
        }
      ]
    },
    {
      "cell_type": "code",
      "metadata": {
        "id": "8zKReQwv9xc9"
      },
      "source": [
        "df[\"body_cleaned\"] = df[\"docBodyFr\"].apply(preprocess.clean_text)"
      ],
      "execution_count": 41,
      "outputs": []
    },
    {
      "cell_type": "code",
      "metadata": {
        "id": "SF6EgPpW-cGJ",
        "outputId": "34f7edcb-5a8a-4390-9184-cf67349cddd8",
        "colab": {
          "base_uri": "https://localhost:8080/"
        }
      },
      "source": [
        "#generating all possible FR themes (replacing previous list of 53 items)\r\n",
        "themes_fr = []\r\n",
        "for r in  df.themesFr:\r\n",
        "    if r is not None:\r\n",
        "        for t in r:\r\n",
        "            if t not in themes_fr:\r\n",
        "                themes_fr += [t]\r\n",
        "len(themes_fr)"
      ],
      "execution_count": 42,
      "outputs": [
        {
          "output_type": "execute_result",
          "data": {
            "text/plain": [
              "54"
            ]
          },
          "metadata": {
            "tags": []
          },
          "execution_count": 42
        }
      ]
    },
    {
      "cell_type": "code",
      "metadata": {
        "id": "-IrpIu9a_IbD",
        "outputId": "ea04e135-717c-4ff3-8f8c-e3ddc600053b",
        "colab": {
          "base_uri": "https://localhost:8080/"
        }
      },
      "source": [
        "# showing only 27 unique themes against 54 available\r\n",
        "df.dropna(axis=0, subset=['themesFr'], inplace=True)\r\n",
        "df['theme'] = df['themesFr'].apply(lambda x: x[0] if len(x) == 1 else None)\r\n",
        "len(df.theme.unique())"
      ],
      "execution_count": 43,
      "outputs": [
        {
          "output_type": "execute_result",
          "data": {
            "text/plain": [
              "27"
            ]
          },
          "metadata": {
            "tags": []
          },
          "execution_count": 43
        }
      ]
    },
    {
      "cell_type": "code",
      "metadata": {
        "id": "WMO4woG9JDnc",
        "outputId": "4bb0e547-5832-463c-ee78-f64ab5466abc",
        "colab": {
          "base_uri": "https://localhost:8080/"
        }
      },
      "source": [
        "for t in themes_fr:\r\n",
        "\tdf.dropna(axis=0, subset=['themesFr'], inplace=True)\r\n",
        "\tdf[t] = df['themesFr'].apply(lambda x: 1 if t in x else 0)\r\n",
        "df.columns"
      ],
      "execution_count": 44,
      "outputs": [
        {
          "output_type": "execute_result",
          "data": {
            "text/plain": [
              "Index(['depositNumber', 'displayJcId', 'titleFr', 'themesFr',\n",
              "       'publicationDate', 'scopeFr', 'endDate', 'enforced', 'docBodyFr',\n",
              "       'body_cleaned', 'theme',\n",
              "       'PENSIONS COMPÉMENTAIRES ET ASSURANCES GROUPES', 'PRIME SYNDICALE',\n",
              "       'TRAVAIL EN ÉQUIPE ET DE NUIT', 'PÉCULE DE VACANCES',\n",
              "       'PRIME PROPRE AU SECTEUR OU À L'ENTREPRISE',\n",
              "       'REMBOURSEMENT DE FRAIS (HORS FRAIS DE DÉPLACEMENT)', 'DÉTACHEMENT',\n",
              "       'PRIME DE FIN D'ANNÉE', 'SALAIRES', 'JEUNES TRAVAILLEURS: SALAIRES',\n",
              "       'FORMATION (EXCL. FORMATION SYNDICALE)',\n",
              "       'TRAVAILLEURS AGÉS-EXCL.PENSIONS COMPL, PRÉPENSION(RCC), CRÉDIT-TEMPS',\n",
              "       'MALADIE/ACCIDENT/DÉCÈS',\n",
              "       'CHÔMAGE (AUTRE QUE LE CHÔMAGE ÉCONOMIQUE DES EMPLOYÉS)',\n",
              "       'RÉGIME DE CHÔMAGE AVEC COMPLÉMENT D'ENTREPRISE (RCC)',\n",
              "       'FORMATION SYNDICALE', 'FONDS DE SÉCURITÉ D'EXISTENCE',\n",
              "       'INDEMNITÉS POUR FRAIS DE DÉPLACEMENT',\n",
              "       'CRÉDIT-TEMPS/DIMINUTION DE CARRIÈRE, EMPLOI FIN DE CARRIÈRE',\n",
              "       'RECRUTEMENT', 'GROUPES À RISQUE', 'BIEN-ÊTRE AU TRAVAIL',\n",
              "       'FONDS SOCIAUX, AUTRE QUE LES FONDS DE SÉCURITÉ D'EXISTENCE',\n",
              "       'TRAVAIL TEMPORAIRE ET TRAVAIL INTÉRIMAIRE', 'PRÉAVIS/LICENCIEMENT',\n",
              "       'TEMPS DE TRAVAIL EN HEURES', 'MODALITÉS DE LA DURÉE DE TRAVAIL',\n",
              "       'TRAVAIL À TEMPS PARTIEL', 'CHÈQUES-REPAS', 'ECOCHÈQUES',\n",
              "       'JOUR DE CONGÉ PAYÉ (PAS DE JOUR RTT OU DE COMPENSATION) ET JOUR FERIÉ',\n",
              "       'PAIX SOCIALE', 'CLASSIFICATION DES FONCTIONS',\n",
              "       'AVANTAGE/MÉTHODE DE RÉCOMPENSE ALTERNATIVE (EXCL PRIME, CHÈQUE, BONUS)',\n",
              "       'DISCRIMINATION', 'FLEXIBILITÉ DU TEMPS DE TRAVAIL',\n",
              "       'HEURES SUPPLÉMENTAIRES', 'HARMONISATION DU STATUT OUVRIER/EMPLOYÉS',\n",
              "       'DÉLÉGATION SYNDICALE',\n",
              "       'FONCTIONNEMENT AU SEIN DE L'ENTREPRISE/DES ORGANES DE CONCERTATION',\n",
              "       'TRAVAIL PENDANT LE WEEKEND ET LES JOURS FÉRIÉS',\n",
              "       'PARTICIPATION AUX BÉNÉFICES/AVANTAGE NON RECURR. LIÉ AUX RÉSULT.-CCT90',\n",
              "       'CONGÉ POUR RAISONS IMPÉRIEUSES', 'PRIME UNIQUE',\n",
              "       'RÉDUCTION DE LA DURÉE DE TRAVAIL',\n",
              "       'CONGÉ PARENTAL ET CONGÉ POUR DES RAISONS PERSONNELLES',\n",
              "       'PRIME D'ANCIENNETÉ, PRIME DE DÉPART',\n",
              "       'FONCTIONNEMENT AU SEIN  DE LA COMMISSION PARITAIRE',\n",
              "       'MESURE POUR ENTREPRISE EN DIFFICULTÉ/ RESTRUCTURATION - PAS DE RCC',\n",
              "       'CHÈQUES CADEAU, SPORT ET CULTURE',\n",
              "       'LICENCIEMENT DES TRAVAILLEURS PROTÉGÉS',\n",
              "       'TRANSFERT DU PERSONNEL VERS UNE AUTRE ENTREPRISE',\n",
              "       'CHÔMAGE ÉCONOMIQUE DES EMPLOYÉS', 'TÉLÉTRAVAIL'],\n",
              "      dtype='object')"
            ]
          },
          "metadata": {
            "tags": []
          },
          "execution_count": 44
        }
      ]
    }
  ]
}