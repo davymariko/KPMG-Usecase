{
  "nbformat": 4,
  "nbformat_minor": 0,
  "metadata": {
    "colab": {
      "name": "docs_labeling_fr.ipynb",
      "provenance": [],
      "authorship_tag": "ABX9TyMmcfsy5mag8kdzv1UBU0pa"
    },
    "kernelspec": {
      "name": "python3",
      "display_name": "Python 3"
    }
  },
  "cells": [
    {
      "cell_type": "markdown",
      "metadata": {
        "id": "kuKWsJV27Xe2"
      },
      "source": [
        "# Importing and preprocessing of data"
      ]
    },
    {
      "cell_type": "code",
      "metadata": {
        "id": "OHoCSdHswimk",
        "colab": {
          "base_uri": "https://localhost:8080/"
        },
        "outputId": "df0cfdb2-659b-4827-9cf9-656865738bbd"
      },
      "source": [
        "from google.colab import drive\r\n",
        "\r\n",
        "drive.mount('/content/drive/')\r\n"
      ],
      "execution_count": 1,
      "outputs": [
        {
          "output_type": "stream",
          "text": [
            "Drive already mounted at /content/drive/; to attempt to forcibly remount, call drive.mount(\"/content/drive/\", force_remount=True).\n"
          ],
          "name": "stdout"
        }
      ]
    },
    {
      "cell_type": "code",
      "metadata": {
        "id": "NMVNjvlExvOf"
      },
      "source": [
        "TXTS_PATH = '/content/drive/My Drive/Becode/Kpmg/selection_fr'"
      ],
      "execution_count": 2,
      "outputs": []
    },
    {
      "cell_type": "code",
      "metadata": {
        "id": "AxwxF21YxnUj"
      },
      "source": [
        "import os"
      ],
      "execution_count": 3,
      "outputs": []
    },
    {
      "cell_type": "code",
      "metadata": {
        "id": "JZx91aOoyi1d"
      },
      "source": [
        "import pandas as pd"
      ],
      "execution_count": 4,
      "outputs": []
    },
    {
      "cell_type": "code",
      "metadata": {
        "id": "J_t3pBX-xF7U"
      },
      "source": [
        "KPMG_PATH = '/content/drive/My Drive/Becode/Kpmg'\r\n",
        "RESPONSES_PATH = '/content/drive/My Drive/Becode/Kpmg/responses_2018_now.json'"
      ],
      "execution_count": 5,
      "outputs": []
    },
    {
      "cell_type": "code",
      "metadata": {
        "id": "DkiARh2Oxg4o"
      },
      "source": [
        "txt_filenames = [f for f in os.listdir(TXTS_PATH) if f.endswith(\".txt\")]"
      ],
      "execution_count": 6,
      "outputs": []
    },
    {
      "cell_type": "code",
      "metadata": {
        "id": "ZddQl2FVydlE"
      },
      "source": [
        "#reading json file to retrieve tags\r\n",
        "responses = pd.read_json(RESPONSES_PATH)"
      ],
      "execution_count": 7,
      "outputs": []
    },
    {
      "cell_type": "code",
      "metadata": {
        "colab": {
          "base_uri": "https://localhost:8080/",
          "height": 110
        },
        "id": "ycPxUepwyxtL",
        "outputId": "7c120a5c-cebd-4101-b520-0ad5e5522d58"
      },
      "source": [
        "#filtering only relevant columns\r\n",
        "columns = ['jcId', 'jcFr', 'titleFr', 'themesFr', 'scopeFr', 'noScopeFr', 'documentLink']\r\n",
        "responses2 = responses.copy(deep=True).loc[:,columns]\r\n",
        "#getting txt_name from original pdf name\r\n",
        "responses2[\"txt_name\"] = responses2[\"documentLink\"]\r\n",
        "responses2[\"txt_name\"] = responses2[\"txt_name\"].str.replace(\"/\",\"-\")\r\n",
        "responses2[\"txt_name\"] = responses2[\"txt_name\"].str.replace(\".pdf\",\"_FR.txt\")\r\n",
        "#filtering json only for selected files and columns\r\n",
        "columns += ['txt_name']\r\n",
        "responses2 = responses2.loc[responses2.txt_name.isin(txt_filenames), columns]\r\n",
        "responses2.head(2)"
      ],
      "execution_count": 8,
      "outputs": [
        {
          "output_type": "execute_result",
          "data": {
            "text/html": [
              "<div>\n",
              "<style scoped>\n",
              "    .dataframe tbody tr th:only-of-type {\n",
              "        vertical-align: middle;\n",
              "    }\n",
              "\n",
              "    .dataframe tbody tr th {\n",
              "        vertical-align: top;\n",
              "    }\n",
              "\n",
              "    .dataframe thead th {\n",
              "        text-align: right;\n",
              "    }\n",
              "</style>\n",
              "<table border=\"1\" class=\"dataframe\">\n",
              "  <thead>\n",
              "    <tr style=\"text-align: right;\">\n",
              "      <th></th>\n",
              "      <th>jcId</th>\n",
              "      <th>jcFr</th>\n",
              "      <th>titleFr</th>\n",
              "      <th>themesFr</th>\n",
              "      <th>scopeFr</th>\n",
              "      <th>noScopeFr</th>\n",
              "      <th>documentLink</th>\n",
              "      <th>txt_name</th>\n",
              "    </tr>\n",
              "  </thead>\n",
              "  <tbody>\n",
              "    <tr>\n",
              "      <th>34</th>\n",
              "      <td>1110000</td>\n",
              "      <td>COMMISSION PARITAIRE DES CONSTRUCTIONS METALLI...</td>\n",
              "      <td>modification du régime de pension sectoriel so...</td>\n",
              "      <td>[PENSIONS COMPÉMENTAIRES ET ASSURANCES GROUPES]</td>\n",
              "      <td>None</td>\n",
              "      <td>[les employeurs et ouvriers des entreprises ex...</td>\n",
              "      <td>111/111-2018-013525.pdf</td>\n",
              "      <td>111-111-2018-013525_FR.txt</td>\n",
              "    </tr>\n",
              "    <tr>\n",
              "      <th>35</th>\n",
              "      <td>1110000</td>\n",
              "      <td>COMMISSION PARITAIRE DES CONSTRUCTIONS METALLI...</td>\n",
              "      <td>allocation spéciale compensatoire</td>\n",
              "      <td>[PRIME SYNDICALE]</td>\n",
              "      <td>None</td>\n",
              "      <td>None</td>\n",
              "      <td>111/111-2018-012196.pdf</td>\n",
              "      <td>111-111-2018-012196_FR.txt</td>\n",
              "    </tr>\n",
              "  </tbody>\n",
              "</table>\n",
              "</div>"
            ],
            "text/plain": [
              "       jcId  ...                    txt_name\n",
              "34  1110000  ...  111-111-2018-013525_FR.txt\n",
              "35  1110000  ...  111-111-2018-012196_FR.txt\n",
              "\n",
              "[2 rows x 8 columns]"
            ]
          },
          "metadata": {
            "tags": []
          },
          "execution_count": 8
        }
      ]
    },
    {
      "cell_type": "code",
      "metadata": {
        "colab": {
          "base_uri": "https://localhost:8080/"
        },
        "id": "XlXwURIgy2uP",
        "outputId": "801123c6-4ec5-4e8f-e79c-a5994a905204"
      },
      "source": [
        "#generating all possible FR themes\r\n",
        "themes_fr = []\r\n",
        "for r in  responses2.themesFr:\r\n",
        "    if r is not None:\r\n",
        "        for t in r:\r\n",
        "            if t not in themes_fr:\r\n",
        "                themes_fr += [t]\r\n",
        "len(themes_fr)\r\n"
      ],
      "execution_count": 9,
      "outputs": [
        {
          "output_type": "execute_result",
          "data": {
            "text/plain": [
              "53"
            ]
          },
          "metadata": {
            "tags": []
          },
          "execution_count": 9
        }
      ]
    },
    {
      "cell_type": "code",
      "metadata": {
        "id": "r2kAiO8Uy9Eu"
      },
      "source": [
        "#code to retrieve the entire body\r\n",
        "#%%\r\n",
        "for filename in responses2.txt_name.to_list():\r\n",
        "    # filename = responses2.txt_name.to_list()[10] #test\r\n",
        "    file_path = os.path.join(TXTS_PATH, filename)\r\n",
        "    with open(file_path, 'r', encoding=\"utf8\") as f:\r\n",
        "        #to retrieve entire body not necessary\r\n",
        "        responses2.loc[responses2.txt_name == filename, \"doc_bodies\"] = f.read()\r\n",
        "        f.close()"
      ],
      "execution_count": 10,
      "outputs": []
    },
    {
      "cell_type": "code",
      "metadata": {
        "id": "iox0MB-33HOD"
      },
      "source": [
        "t = themes_fr[0]\r\n",
        "mask = responses2.dropna(axis=0, subset=['themesFr']).themesFr.map(lambda x: t in x)"
      ],
      "execution_count": 11,
      "outputs": []
    },
    {
      "cell_type": "code",
      "metadata": {
        "colab": {
          "base_uri": "https://localhost:8080/"
        },
        "id": "NUAfSmIf16p-",
        "outputId": "854369e6-4283-447c-dfa0-3f6b8ae4936c"
      },
      "source": [
        "len(responses2)"
      ],
      "execution_count": 12,
      "outputs": [
        {
          "output_type": "execute_result",
          "data": {
            "text/plain": [
              "549"
            ]
          },
          "metadata": {
            "tags": []
          },
          "execution_count": 12
        }
      ]
    },
    {
      "cell_type": "code",
      "metadata": {
        "id": "0kHR6RAx2OK0"
      },
      "source": [
        " #len(responses2.dropna(axis=0, subset=['themesFr'])[map])"
      ],
      "execution_count": 13,
      "outputs": []
    },
    {
      "cell_type": "markdown",
      "metadata": {
        "id": "H2PzphfD67lX"
      },
      "source": [
        "# Preprocessing for NLP"
      ]
    },
    {
      "cell_type": "code",
      "metadata": {
        "id": "R1EBJ4N3TaKL"
      },
      "source": [
        "from pandas import Series\r\n",
        "\r\n",
        "from nltk.corpus import wordnet\r\n",
        "from nltk.tokenize import word_tokenize\r\n",
        "from nltk.tag import pos_tag\r\n",
        "from nltk.stem import WordNetLemmatizer\r\n",
        "\r\n",
        "# import entirely spacy to create Doc objects through nlp\r\n",
        "import spacy\r\n",
        "from spacy import load, lang\r\n",
        "\r\n",
        "from wordcloud import WordCloud\r\n",
        "\r\n",
        "from collections import Counter\r\n",
        "\r\n",
        "from typing import List\r\n",
        "from typing import Dict\r\n",
        "\r\n",
        "# WARNINGS\r\n",
        "# W tensorflow/stream_executor/platform/default/dso_loader.cc:60] Could not load dynamic library 'cudart64_110.dll'; dlerror: cudart64_110.dll not found\r\n",
        "# I tensorflow/stream_executor/cuda/cudart_stub.cc:29] Ignore above cudart dlerror if you do not have a GPU set up on your machine\r\n",
        "\r\n",
        "# GLOBAL VARIABLES\r\n",
        "NAMED_ENTITIES = ['microsoft']\r\n",
        "\r\n",
        "#testing\r\n",
        "from os import getcwd as cwd\r\n",
        "from os.path import dirname as dir\r\n",
        "from os.path import join\r\n",
        "import pandas as pd"
      ],
      "execution_count": 14,
      "outputs": []
    },
    {
      "cell_type": "code",
      "metadata": {
        "id": "nC6sZ-BPTcUs"
      },
      "source": [
        "def lemmatize(text_tokens: List[str]) -> List[str]:\r\n",
        "    def get_wordnet_pos(word):\r\n",
        "        \"\"\"Map POS tag to first character lemmatize() accepts\"\"\"\r\n",
        "        tag = pos_tag([word])[0][1][0].upper()\r\n",
        "        tag_dict = {\"J\": wordnet.ADJ,\r\n",
        "                    \"N\": wordnet.NOUN,\r\n",
        "                    \"V\": wordnet.VERB,\r\n",
        "                    \"R\": wordnet.ADV}\r\n",
        "        return tag_dict.get(tag, wordnet.NOUN)\r\n",
        "\r\n",
        "    # Instantiate the WordNetLemmatizer\r\n",
        "    wordnet_lemmatizer = WordNetLemmatizer()\r\n",
        "    # Lemmatize all tokens into a new list: lemmatized\r\n",
        "    texts_lemmatized = [wordnet_lemmatizer.lemmatize(t, get_wordnet_pos(t)) for t in text_tokens]\r\n",
        "    return texts_lemmatized\r\n",
        "\r\n",
        "\r\n",
        "def filter_words(texts_lemmatized: List[List[str]], freq_min=None, freq_max=None):\r\n",
        "    frequency_absolute = Counter([item for elem in texts_lemmatized for item in elem])\r\n",
        "    wordcloud = WordCloud(width=1000, height=500).generate_from_frequencies(frequency_absolute)\r\n",
        "    frequency_relative = wordcloud.words_\r\n",
        "    if freq_min is not None and freq_min > 0 and freq_min < 1:\r\n",
        "        rel_freq_filtered = {k: v for k, v in frequency_relative.items() if v > freq_min}\r\n",
        "    if freq_max is not None and freq_max > 0 and freq_max < 1:\r\n",
        "        rel_freq_filtered = {k: v for k, v in frequency_relative.items() if v < freq_max}\r\n",
        "    texts_filtered = [[t for t in pub_lem if t in rel_freq_filtered.keys()] for pub_lem in texts_lemmatized]\r\n",
        "    # testing part\r\n",
        "    f_abs_updated =Counter([ item for elem in texts_filtered for item in elem])   \r\n",
        "    wordcloud_updated = WordCloud(width=1000, height=500).generate_from_frequencies(f_abs_updated)\r\n",
        "    f_rel_updated = wordcloud_updated.words_\r\n",
        "    return texts_filtered, f_abs_updated, f_rel_updated, wordcloud_updated\r\n"
      ],
      "execution_count": 15,
      "outputs": []
    },
    {
      "cell_type": "code",
      "metadata": {
        "id": "ib8xc7-F5tGY"
      },
      "source": [
        "class Preprocess:\r\n",
        "    def __init__(self, nlp_model='en_core_web_md'):\r\n",
        "        self.nlp = load(nlp_model)\r\n",
        "        if 'en_' in nlp_model:\r\n",
        "          self.stop_words = lang.en.stop_words.STOP_WORDS\r\n",
        "        elif 'fr_' in nlp_model:\r\n",
        "          self.stop_words = lang.fr.stop_words.STOP_WORDS\r\n",
        "        self.named_entities = set(NAMED_ENTITIES)\r\n",
        "\r\n",
        "    def get_named_entities(self, texts: Series, inplace=True) -> set:\r\n",
        "        # creating a single ner set\r\n",
        "        nes = set()\r\n",
        "        # function to extract NER from text\r\n",
        "        def get_named_entities(text) -> set:\r\n",
        "            doc = self.nlp(text)\r\n",
        "            named_entities = set([ent.text for ent in doc.ents])\r\n",
        "            return named_entities\r\n",
        "        [[nes.add(n) for n in get_named_entities(text)] for text in texts]\r\n",
        "        # adding predefined NER\r\n",
        "        [nes.add(n) for n in self.named_entities]\r\n",
        "        if inplace:\r\n",
        "            self.named_entities = nes\r\n",
        "        return nes\r\n",
        "\r\n",
        "    def tokenize_text(self, text:str, stop_words: List[str] = None, named_entities: List[str] = None,\r\n",
        "                   lenght_min: int=2) -> List[str]:\r\n",
        "        if stop_words is None:\r\n",
        "            stop_words = self.stop_words\r\n",
        "        if named_entities is None:\r\n",
        "            named_entities = self.named_entities\r\n",
        "        text = text.replace(\"\\n\", \" \")\r\n",
        "        # split string into words (tokens)\r\n",
        "        tokens = word_tokenize(text.lower())\r\n",
        "        # keep strings with only alphabets\r\n",
        "        tokens = [t for t in tokens if t.isalpha()]\r\n",
        "        tokens = lemmatize(tokens)\r\n",
        "        # remove short words, they're probably not useful\r\n",
        "        tokens = [t for t in tokens if len(t) > lenght_min]\r\n",
        "        # remove stopwords\r\n",
        "        tokens = [t for t in tokens if t not in stop_words]\r\n",
        "        # remove\r\n",
        "        tokens = [t for t in tokens if t not in named_entities]\r\n",
        "        return tokens\r\n",
        "\r\n",
        "    def clean_text(self, text:str, stop_words: List[str] = None, named_entities: List[str] = None,\r\n",
        "                   lenght_min: int=2) -> str:\r\n",
        "        tokens = self.tokenize_text(text, stop_words, named_entities, lenght_min)\r\n",
        "        text_cleaned = \" \".join(tokens)\r\n",
        "        return text_cleaned\r\n",
        "\r\n",
        "    def tokenize_texts(self, texts:Series, stop_words: List[str] = None, named_entities: List[str] = None,\r\n",
        "                   lenght_min: int=2) -> List[List[str]]:\r\n",
        "        texts_tokens = []\r\n",
        "        for text in texts:\r\n",
        "            texts_tokens += [self.tokenize_text(text, stop_words, named_entities, lenght_min)]\r\n",
        "        return texts_tokens"
      ],
      "execution_count": 16,
      "outputs": []
    },
    {
      "cell_type": "code",
      "metadata": {
        "colab": {
          "base_uri": "https://localhost:8080/"
        },
        "id": "UzM0CO3T7Jp5",
        "outputId": "3e5d8985-483a-473b-83e4-383fb04b929d"
      },
      "source": [
        "! python -m spacy download fr_core_news_md"
      ],
      "execution_count": 17,
      "outputs": [
        {
          "output_type": "stream",
          "text": [
            "Requirement already satisfied: fr_core_news_md==2.2.5 from https://github.com/explosion/spacy-models/releases/download/fr_core_news_md-2.2.5/fr_core_news_md-2.2.5.tar.gz#egg=fr_core_news_md==2.2.5 in /usr/local/lib/python3.7/dist-packages (2.2.5)\n",
            "Requirement already satisfied: spacy>=2.2.2 in /usr/local/lib/python3.7/dist-packages (from fr_core_news_md==2.2.5) (2.2.4)\n",
            "Requirement already satisfied: numpy>=1.15.0 in /usr/local/lib/python3.7/dist-packages (from spacy>=2.2.2->fr_core_news_md==2.2.5) (1.19.5)\n",
            "Requirement already satisfied: plac<1.2.0,>=0.9.6 in /usr/local/lib/python3.7/dist-packages (from spacy>=2.2.2->fr_core_news_md==2.2.5) (1.1.3)\n",
            "Requirement already satisfied: thinc==7.4.0 in /usr/local/lib/python3.7/dist-packages (from spacy>=2.2.2->fr_core_news_md==2.2.5) (7.4.0)\n",
            "Requirement already satisfied: srsly<1.1.0,>=1.0.2 in /usr/local/lib/python3.7/dist-packages (from spacy>=2.2.2->fr_core_news_md==2.2.5) (1.0.5)\n",
            "Requirement already satisfied: murmurhash<1.1.0,>=0.28.0 in /usr/local/lib/python3.7/dist-packages (from spacy>=2.2.2->fr_core_news_md==2.2.5) (1.0.5)\n",
            "Requirement already satisfied: wasabi<1.1.0,>=0.4.0 in /usr/local/lib/python3.7/dist-packages (from spacy>=2.2.2->fr_core_news_md==2.2.5) (0.8.2)\n",
            "Requirement already satisfied: catalogue<1.1.0,>=0.0.7 in /usr/local/lib/python3.7/dist-packages (from spacy>=2.2.2->fr_core_news_md==2.2.5) (1.0.0)\n",
            "Requirement already satisfied: tqdm<5.0.0,>=4.38.0 in /usr/local/lib/python3.7/dist-packages (from spacy>=2.2.2->fr_core_news_md==2.2.5) (4.41.1)\n",
            "Requirement already satisfied: setuptools in /usr/local/lib/python3.7/dist-packages (from spacy>=2.2.2->fr_core_news_md==2.2.5) (54.0.0)\n",
            "Requirement already satisfied: blis<0.5.0,>=0.4.0 in /usr/local/lib/python3.7/dist-packages (from spacy>=2.2.2->fr_core_news_md==2.2.5) (0.4.1)\n",
            "Requirement already satisfied: preshed<3.1.0,>=3.0.2 in /usr/local/lib/python3.7/dist-packages (from spacy>=2.2.2->fr_core_news_md==2.2.5) (3.0.5)\n",
            "Requirement already satisfied: cymem<2.1.0,>=2.0.2 in /usr/local/lib/python3.7/dist-packages (from spacy>=2.2.2->fr_core_news_md==2.2.5) (2.0.5)\n",
            "Requirement already satisfied: requests<3.0.0,>=2.13.0 in /usr/local/lib/python3.7/dist-packages (from spacy>=2.2.2->fr_core_news_md==2.2.5) (2.23.0)\n",
            "Requirement already satisfied: importlib-metadata>=0.20; python_version < \"3.8\" in /usr/local/lib/python3.7/dist-packages (from catalogue<1.1.0,>=0.0.7->spacy>=2.2.2->fr_core_news_md==2.2.5) (3.7.0)\n",
            "Requirement already satisfied: urllib3!=1.25.0,!=1.25.1,<1.26,>=1.21.1 in /usr/local/lib/python3.7/dist-packages (from requests<3.0.0,>=2.13.0->spacy>=2.2.2->fr_core_news_md==2.2.5) (1.24.3)\n",
            "Requirement already satisfied: certifi>=2017.4.17 in /usr/local/lib/python3.7/dist-packages (from requests<3.0.0,>=2.13.0->spacy>=2.2.2->fr_core_news_md==2.2.5) (2020.12.5)\n",
            "Requirement already satisfied: idna<3,>=2.5 in /usr/local/lib/python3.7/dist-packages (from requests<3.0.0,>=2.13.0->spacy>=2.2.2->fr_core_news_md==2.2.5) (2.10)\n",
            "Requirement already satisfied: chardet<4,>=3.0.2 in /usr/local/lib/python3.7/dist-packages (from requests<3.0.0,>=2.13.0->spacy>=2.2.2->fr_core_news_md==2.2.5) (3.0.4)\n",
            "Requirement already satisfied: typing-extensions>=3.6.4; python_version < \"3.8\" in /usr/local/lib/python3.7/dist-packages (from importlib-metadata>=0.20; python_version < \"3.8\"->catalogue<1.1.0,>=0.0.7->spacy>=2.2.2->fr_core_news_md==2.2.5) (3.7.4.3)\n",
            "Requirement already satisfied: zipp>=0.5 in /usr/local/lib/python3.7/dist-packages (from importlib-metadata>=0.20; python_version < \"3.8\"->catalogue<1.1.0,>=0.0.7->spacy>=2.2.2->fr_core_news_md==2.2.5) (3.4.1)\n",
            "\u001b[38;5;2m✔ Download and installation successful\u001b[0m\n",
            "You can now load the model via spacy.load('fr_core_news_md')\n"
          ],
          "name": "stdout"
        }
      ]
    },
    {
      "cell_type": "code",
      "metadata": {
        "id": "-gSiOJ547ivj"
      },
      "source": [
        "import spacy\r\n",
        "nlp = spacy.load('fr_core_news_md')"
      ],
      "execution_count": 18,
      "outputs": []
    },
    {
      "cell_type": "code",
      "metadata": {
        "id": "m7pS6KZYHixh"
      },
      "source": [
        "preprocess = Preprocess(nlp_model='fr_core_news_md')"
      ],
      "execution_count": 19,
      "outputs": []
    },
    {
      "cell_type": "code",
      "metadata": {
        "id": "dZ1u8dKqIOi2",
        "colab": {
          "base_uri": "https://localhost:8080/"
        },
        "outputId": "5f344dae-367b-468e-fd24-dc7d279a5d64"
      },
      "source": [
        "# example of FR stopwords from the set\r\n",
        "list(preprocess.stop_words)[:10]"
      ],
      "execution_count": 20,
      "outputs": [
        {
          "output_type": "execute_result",
          "data": {
            "text/plain": [
              "['aussi',\n",
              " 'o',\n",
              " 'ils',\n",
              " 'gens',\n",
              " 'elles-mêmes',\n",
              " 'celui-ci',\n",
              " 'sans',\n",
              " 'était',\n",
              " 'parce',\n",
              " 'quel']"
            ]
          },
          "metadata": {
            "tags": []
          },
          "execution_count": 20
        }
      ]
    },
    {
      "cell_type": "code",
      "metadata": {
        "colab": {
          "base_uri": "https://localhost:8080/"
        },
        "id": "-ZKK_K-6O8Dh",
        "outputId": "087e5e71-73ed-491a-c860-ce99a7897013"
      },
      "source": [
        "# importing nltk and downloading additional required packages\r\n",
        "import nltk\r\n",
        "nltk.download('punkt')\r\n",
        "nltk.download('averaged_perceptron_tagger')\r\n",
        "nltk.download('wordnet')"
      ],
      "execution_count": 21,
      "outputs": [
        {
          "output_type": "stream",
          "text": [
            "[nltk_data] Downloading package punkt to /root/nltk_data...\n",
            "[nltk_data]   Unzipping tokenizers/punkt.zip.\n",
            "[nltk_data] Downloading package averaged_perceptron_tagger to\n",
            "[nltk_data]     /root/nltk_data...\n",
            "[nltk_data]   Unzipping taggers/averaged_perceptron_tagger.zip.\n",
            "[nltk_data] Downloading package wordnet to /root/nltk_data...\n",
            "[nltk_data]   Unzipping corpora/wordnet.zip.\n"
          ],
          "name": "stdout"
        },
        {
          "output_type": "execute_result",
          "data": {
            "text/plain": [
              "True"
            ]
          },
          "metadata": {
            "tags": []
          },
          "execution_count": 21
        }
      ]
    },
    {
      "cell_type": "code",
      "metadata": {
        "id": "nlVBC4-mOu4K"
      },
      "source": [
        "#cleaning text before extracting word clouds\r\n",
        "responses2[\"bodies_cleaned\"] = responses2[\"doc_bodies\"].apply(preprocess.clean_text)"
      ],
      "execution_count": 22,
      "outputs": []
    },
    {
      "cell_type": "markdown",
      "metadata": {
        "id": "gfpoq2YLL4na"
      },
      "source": [
        "# Word cloud labelling"
      ]
    },
    {
      "cell_type": "code",
      "metadata": {
        "id": "qsmt70TiL7FV"
      },
      "source": [
        "#extracting all words with relative frequency > 0.5\r\n",
        "all_ts = preprocess.tokenize_texts(responses2.bodies_cleaned)"
      ],
      "execution_count": 23,
      "outputs": []
    },
    {
      "cell_type": "code",
      "metadata": {
        "id": "dQ4gk4WKTHMO"
      },
      "source": [
        "texts, f_abs, f_rel, wordcloud = filter_words(all_ts, freq_min=0.5)"
      ],
      "execution_count": 24,
      "outputs": []
    },
    {
      "cell_type": "code",
      "metadata": {
        "colab": {
          "base_uri": "https://localhost:8080/",
          "height": 517
        },
        "id": "0tNIVnCaTmVs",
        "outputId": "1c6f08cf-f796-4159-dbf4-aa84fd90cac8"
      },
      "source": [
        "wordcloud.to_image()"
      ],
      "execution_count": 25,
      "outputs": [
        {
          "output_type": "execute_result",
          "data": {
            "image/png": "[encoded data removed]",
            "text/plain": [
              "<PIL.Image.Image image mode=RGB size=1000x500 at 0x7FB052A1A750>"
            ]
          },
          "metadata": {
            "tags": []
          },
          "execution_count": 25
        }
      ]
    },
    {
      "cell_type": "code",
      "metadata": {
        "colab": {
          "base_uri": "https://localhost:8080/"
        },
        "id": "EilnPDhRTs9z",
        "outputId": "18def623-ebfe-402f-c559-c975c368a96c"
      },
      "source": [
        "# adding most frequent words as stop words\r\n",
        "[preprocess.stop_words.add(w) for w in list(f_rel.keys())]\r\n",
        "[w for w in list(preprocess.stop_words) if w in list(f_rel.keys())]"
      ],
      "execution_count": 26,
      "outputs": [
        {
          "output_type": "execute_result",
          "data": {
            "text/plain": [
              "['convention', 'article', 'travail', 'collective', 'pension']"
            ]
          },
          "metadata": {
            "tags": []
          },
          "execution_count": 26
        }
      ]
    },
    {
      "cell_type": "code",
      "metadata": {
        "colab": {
          "base_uri": "https://localhost:8080/"
        },
        "id": "hiB25mXkUjIG",
        "outputId": "84aeb4a9-719a-48d5-86c4-4b65a15ccd0c"
      },
      "source": [
        "[w for w in list(preprocess.stop_words) if w in list(f_rel.keys())]"
      ],
      "execution_count": 27,
      "outputs": [
        {
          "output_type": "execute_result",
          "data": {
            "text/plain": [
              "['convention', 'article', 'travail', 'collective', 'pension']"
            ]
          },
          "metadata": {
            "tags": []
          },
          "execution_count": 27
        }
      ]
    },
    {
      "cell_type": "code",
      "metadata": {
        "colab": {
          "base_uri": "https://localhost:8080/"
        },
        "id": "XtLYJqkRXJOm",
        "outputId": "df8fe2e0-705f-49f6-805a-0037ab3bd85e"
      },
      "source": [
        "themes_keywords = pd.DataFrame(columns=['themeFr', 'frequency_absolute', 'frequency_relative'])\r\n",
        "for t in themes_fr:\r\n",
        "  mask = responses2.dropna(axis=0, subset=['themesFr']).themesFr.map(lambda x: t in x)\r\n",
        "  r_t = responses2.dropna(axis=0, subset=['themesFr'])[mask]\r\n",
        "  t_ts = preprocess.tokenize_texts(r_t[\"bodies_cleaned\"])\r\n",
        "  t_texts, t_f_abs, t_f_rel, t_wordcloud = filter_words(t_ts, freq_min=0.05, freq_max=0.95)\r\n",
        "  themes_keywords = themes_keywords.append({'themeFr':t, 'frequency_absolute':t_f_abs, 'frequency_relative':t_f_rel}, ignore_index=True)\r\n",
        "  print(f'Kewyords for {t} added, {len(r_t)} documents found')"
      ],
      "execution_count": 28,
      "outputs": [
        {
          "output_type": "stream",
          "text": [
            "Kewyords for PENSIONS COMPÉMENTAIRES ET ASSURANCES GROUPES added\n",
            "Kewyords for PRIME SYNDICALE added\n",
            "Kewyords for TRAVAIL EN ÉQUIPE ET DE NUIT added\n",
            "Kewyords for PÉCULE DE VACANCES added\n",
            "Kewyords for PRIME PROPRE AU SECTEUR OU À L'ENTREPRISE added\n",
            "Kewyords for REMBOURSEMENT DE FRAIS (HORS FRAIS DE DÉPLACEMENT) added\n",
            "Kewyords for DÉTACHEMENT added\n",
            "Kewyords for PRIME DE FIN D'ANNÉE added\n",
            "Kewyords for SALAIRES added\n",
            "Kewyords for JEUNES TRAVAILLEURS: SALAIRES added\n",
            "Kewyords for FORMATION (EXCL. FORMATION SYNDICALE) added\n",
            "Kewyords for TRAVAILLEURS AGÉS-EXCL.PENSIONS COMPL, PRÉPENSION(RCC), CRÉDIT-TEMPS added\n",
            "Kewyords for MALADIE/ACCIDENT/DÉCÈS added\n",
            "Kewyords for CHÔMAGE (AUTRE QUE LE CHÔMAGE ÉCONOMIQUE DES EMPLOYÉS) added\n",
            "Kewyords for RÉGIME DE CHÔMAGE AVEC COMPLÉMENT D'ENTREPRISE (RCC) added\n",
            "Kewyords for FORMATION SYNDICALE added\n",
            "Kewyords for FONDS DE SÉCURITÉ D'EXISTENCE added\n",
            "Kewyords for INDEMNITÉS POUR FRAIS DE DÉPLACEMENT added\n",
            "Kewyords for CRÉDIT-TEMPS/DIMINUTION DE CARRIÈRE, EMPLOI FIN DE CARRIÈRE added\n",
            "Kewyords for RECRUTEMENT added\n",
            "Kewyords for GROUPES À RISQUE added\n",
            "Kewyords for BIEN-ÊTRE AU TRAVAIL added\n",
            "Kewyords for FONDS SOCIAUX, AUTRE QUE LES FONDS DE SÉCURITÉ D'EXISTENCE added\n",
            "Kewyords for TRAVAIL TEMPORAIRE ET TRAVAIL INTÉRIMAIRE added\n",
            "Kewyords for PRÉAVIS/LICENCIEMENT added\n",
            "Kewyords for TEMPS DE TRAVAIL EN HEURES added\n",
            "Kewyords for CHÈQUES-REPAS added\n",
            "Kewyords for ECOCHÈQUES added\n",
            "Kewyords for JOUR DE CONGÉ PAYÉ (PAS DE JOUR RTT OU DE COMPENSATION) ET JOUR FERIÉ added\n",
            "Kewyords for PAIX SOCIALE added\n",
            "Kewyords for CLASSIFICATION DES FONCTIONS added\n",
            "Kewyords for AVANTAGE/MÉTHODE DE RÉCOMPENSE ALTERNATIVE (EXCL PRIME, CHÈQUE, BONUS) added\n",
            "Kewyords for DISCRIMINATION added\n",
            "Kewyords for FLEXIBILITÉ DU TEMPS DE TRAVAIL added\n",
            "Kewyords for HEURES SUPPLÉMENTAIRES added\n",
            "Kewyords for HARMONISATION DU STATUT OUVRIER/EMPLOYÉS added\n",
            "Kewyords for DÉLÉGATION SYNDICALE added\n",
            "Kewyords for FONCTIONNEMENT AU SEIN DE L'ENTREPRISE/DES ORGANES DE CONCERTATION added\n",
            "Kewyords for TRAVAIL PENDANT LE WEEKEND ET LES JOURS FÉRIÉS added\n",
            "Kewyords for PARTICIPATION AUX BÉNÉFICES/AVANTAGE NON RECURR. LIÉ AUX RÉSULT.-CCT90 added\n",
            "Kewyords for TRAVAIL À TEMPS PARTIEL added\n",
            "Kewyords for CONGÉ POUR RAISONS IMPÉRIEUSES added\n",
            "Kewyords for PRIME UNIQUE added\n",
            "Kewyords for RÉDUCTION DE LA DURÉE DE TRAVAIL added\n",
            "Kewyords for CONGÉ PARENTAL ET CONGÉ POUR DES RAISONS PERSONNELLES added\n",
            "Kewyords for PRIME D'ANCIENNETÉ, PRIME DE DÉPART added\n",
            "Kewyords for MODALITÉS DE LA DURÉE DE TRAVAIL added\n",
            "Kewyords for FONCTIONNEMENT AU SEIN  DE LA COMMISSION PARITAIRE added\n",
            "Kewyords for MESURE POUR ENTREPRISE EN DIFFICULTÉ/ RESTRUCTURATION - PAS DE RCC added\n",
            "Kewyords for CHÈQUES CADEAU, SPORT ET CULTURE added\n",
            "Kewyords for LICENCIEMENT DES TRAVAILLEURS PROTÉGÉS added\n",
            "Kewyords for CHÔMAGE ÉCONOMIQUE DES EMPLOYÉS added\n",
            "Kewyords for TÉLÉTRAVAIL added\n"
          ],
          "name": "stdout"
        }
      ]
    },
    {
      "cell_type": "code",
      "metadata": {
        "colab": {
          "base_uri": "https://localhost:8080/"
        },
        "id": "dLtvqXPWgKgH",
        "outputId": "25c1905d-f610-4af7-ba9c-0fc51c22b00c"
      },
      "source": [
        "for t in themes_fr:\r\n",
        "  mask = responses2.dropna(axis=0, subset=['themesFr']).themesFr.map(lambda x: t in x)\r\n",
        "  r_t = responses2.dropna(axis=0, subset=['themesFr'])[mask]\r\n",
        "  print(f'{len(r_t)} contained for {t}')"
      ],
      "execution_count": 41,
      "outputs": [
        {
          "output_type": "stream",
          "text": [
            "35 contained for PENSIONS COMPÉMENTAIRES ET ASSURANCES GROUPES\n",
            "18 contained for PRIME SYNDICALE\n",
            "60 contained for TRAVAIL EN ÉQUIPE ET DE NUIT\n",
            "6 contained for PÉCULE DE VACANCES\n",
            "19 contained for PRIME PROPRE AU SECTEUR OU À L'ENTREPRISE\n",
            "19 contained for REMBOURSEMENT DE FRAIS (HORS FRAIS DE DÉPLACEMENT)\n",
            "18 contained for DÉTACHEMENT\n",
            "36 contained for PRIME DE FIN D'ANNÉE\n",
            "119 contained for SALAIRES\n",
            "46 contained for JEUNES TRAVAILLEURS: SALAIRES\n",
            "65 contained for FORMATION (EXCL. FORMATION SYNDICALE)\n",
            "97 contained for TRAVAILLEURS AGÉS-EXCL.PENSIONS COMPL, PRÉPENSION(RCC), CRÉDIT-TEMPS\n",
            "26 contained for MALADIE/ACCIDENT/DÉCÈS\n",
            "50 contained for CHÔMAGE (AUTRE QUE LE CHÔMAGE ÉCONOMIQUE DES EMPLOYÉS)\n",
            "110 contained for RÉGIME DE CHÔMAGE AVEC COMPLÉMENT D'ENTREPRISE (RCC)\n",
            "16 contained for FORMATION SYNDICALE\n",
            "66 contained for FONDS DE SÉCURITÉ D'EXISTENCE\n",
            "55 contained for INDEMNITÉS POUR FRAIS DE DÉPLACEMENT\n",
            "54 contained for CRÉDIT-TEMPS/DIMINUTION DE CARRIÈRE, EMPLOI FIN DE CARRIÈRE\n",
            "16 contained for RECRUTEMENT\n",
            "33 contained for GROUPES À RISQUE\n",
            "9 contained for BIEN-ÊTRE AU TRAVAIL\n",
            "7 contained for FONDS SOCIAUX, AUTRE QUE LES FONDS DE SÉCURITÉ D'EXISTENCE\n",
            "14 contained for TRAVAIL TEMPORAIRE ET TRAVAIL INTÉRIMAIRE\n",
            "22 contained for PRÉAVIS/LICENCIEMENT\n",
            "7 contained for TEMPS DE TRAVAIL EN HEURES\n",
            "10 contained for MODALITÉS DE LA DURÉE DE TRAVAIL\n",
            "9 contained for TRAVAIL À TEMPS PARTIEL\n",
            "5 contained for CHÈQUES-REPAS\n",
            "9 contained for ECOCHÈQUES\n",
            "16 contained for JOUR DE CONGÉ PAYÉ (PAS DE JOUR RTT OU DE COMPENSATION) ET JOUR FERIÉ\n",
            "19 contained for PAIX SOCIALE\n",
            "26 contained for CLASSIFICATION DES FONCTIONS\n",
            "10 contained for AVANTAGE/MÉTHODE DE RÉCOMPENSE ALTERNATIVE (EXCL PRIME, CHÈQUE, BONUS)\n",
            "1 contained for DISCRIMINATION\n",
            "10 contained for FLEXIBILITÉ DU TEMPS DE TRAVAIL\n",
            "8 contained for HEURES SUPPLÉMENTAIRES\n",
            "8 contained for HARMONISATION DU STATUT OUVRIER/EMPLOYÉS\n",
            "9 contained for DÉLÉGATION SYNDICALE\n",
            "10 contained for FONCTIONNEMENT AU SEIN DE L'ENTREPRISE/DES ORGANES DE CONCERTATION\n",
            "6 contained for TRAVAIL PENDANT LE WEEKEND ET LES JOURS FÉRIÉS\n",
            "2 contained for PARTICIPATION AUX BÉNÉFICES/AVANTAGE NON RECURR. LIÉ AUX RÉSULT.-CCT90\n",
            "1 contained for CONGÉ POUR RAISONS IMPÉRIEUSES\n",
            "7 contained for PRIME UNIQUE\n",
            "3 contained for RÉDUCTION DE LA DURÉE DE TRAVAIL\n",
            "2 contained for CONGÉ PARENTAL ET CONGÉ POUR DES RAISONS PERSONNELLES\n",
            "3 contained for PRIME D'ANCIENNETÉ, PRIME DE DÉPART\n",
            "6 contained for FONCTIONNEMENT AU SEIN  DE LA COMMISSION PARITAIRE\n",
            "7 contained for MESURE POUR ENTREPRISE EN DIFFICULTÉ/ RESTRUCTURATION - PAS DE RCC\n",
            "1 contained for CHÈQUES CADEAU, SPORT ET CULTURE\n",
            "3 contained for LICENCIEMENT DES TRAVAILLEURS PROTÉGÉS\n",
            "0 contained for TRANSFERT DU PERSONNEL VERS UNE AUTRE ENTREPRISE\n",
            "2 contained for CHÔMAGE ÉCONOMIQUE DES EMPLOYÉS\n",
            "4 contained for TÉLÉTRAVAIL\n"
          ],
          "name": "stdout"
        }
      ]
    },
    {
      "cell_type": "code",
      "metadata": {
        "id": "33e2Jk09f74p"
      },
      "source": [
        ""
      ],
      "execution_count": null,
      "outputs": []
    },
    {
      "cell_type": "code",
      "metadata": {
        "id": "pqhn8BJPYocl"
      },
      "source": [
        "themes_keywords.to_csv('/content/drive/My Drive/Becode/Kpmg/labeling.csv')"
      ],
      "execution_count": 29,
      "outputs": []
    },
    {
      "cell_type": "code",
      "metadata": {
        "colab": {
          "base_uri": "https://localhost:8080/",
          "height": 1000
        },
        "id": "UJpQLbYqZk74",
        "outputId": "d58f1521-d296-45a6-c1fe-c8934ecdd122"
      },
      "source": [
        "pd.set_option('display.max_colwidth', 255)\r\n",
        "themes_keywords.loc[:, ['themeFr','frequency_relative']]"
      ],
      "execution_count": 30,
      "outputs": [
        {
          "output_type": "execute_result",
          "data": {
            "text/html": [
              "<div>\n",
              "<style scoped>\n",
              "    .dataframe tbody tr th:only-of-type {\n",
              "        vertical-align: middle;\n",
              "    }\n",
              "\n",
              "    .dataframe tbody tr th {\n",
              "        vertical-align: top;\n",
              "    }\n",
              "\n",
              "    .dataframe thead th {\n",
              "        text-align: right;\n",
              "    }\n",
              "</style>\n",
              "<table border=\"1\" class=\"dataframe\">\n",
              "  <thead>\n",
              "    <tr style=\"text-align: right;\">\n",
              "      <th></th>\n",
              "      <th>themeFr</th>\n",
              "      <th>frequency_relative</th>\n",
              "    </tr>\n",
              "  </thead>\n",
              "  <tbody>\n",
              "    <tr>\n",
              "      <th>0</th>\n",
              "      <td>PENSIONS COMPÉMENTAIRES ET ASSURANCES GROUPES</td>\n",
              "      <td>{'règlement': 1.0, 'régime': 0.9294037011651817, 'solidarité': 0.7655928718300206, 'sectoriel': 0.746401644962303, 'van': 0.7326936257710761, 'complémentaire': 0.5359835503769705, 'ofp': 0.4736120630568883, 'partir': 0.4715558601782042, 'affilié': 0.4...</td>\n",
              "    </tr>\n",
              "    <tr>\n",
              "      <th>1</th>\n",
              "      <td>PRIME SYNDICALE</td>\n",
              "      <td>{'cotisation': 1.0, 'partir': 0.9273356401384083, 'travailleurs': 0.7923875432525952, 'entreprises': 0.643598615916955, 'janvier': 0.6401384083044983, 'ouvriers': 0.6055363321799307, 'sécurité': 0.5847750865051903, 'formation': 0.5778546712802768, 'co...</td>\n",
              "    </tr>\n",
              "    <tr>\n",
              "      <th>2</th>\n",
              "      <td>TRAVAIL EN ÉQUIPE ET DE NUIT</td>\n",
              "      <td>{'ouvriers': 1.0, 'prime': 0.9321705426356589, 'minimum': 0.8585271317829457, 'salaires': 0.8430232558139535, 'mois': 0.8003875968992248, 'présente': 0.7306201550387597, 'paritaire': 0.7034883720930233, 'commission': 0.686046511627907, 'juillet': 0.61...</td>\n",
              "    </tr>\n",
              "    <tr>\n",
              "      <th>3</th>\n",
              "      <td>PÉCULE DE VACANCES</td>\n",
              "      <td>{'mois': 1.0, 'art': 0.9333333333333333, 'juillet': 0.9, 'chômage': 0.7666666666666667, 'vacances': 0.7666666666666667, 'travaux': 0.7333333333333333, 'paritaire': 0.6333333333333333, 'entreprises': 0.6333333333333333, 'commission': 0.6, 'sectoriels':...</td>\n",
              "    </tr>\n",
              "    <tr>\n",
              "      <th>4</th>\n",
              "      <td>PRIME PROPRE AU SECTEUR OU À L'ENTREPRISE</td>\n",
              "      <td>{'salaires': 1.0, 'minimum': 0.9291338582677166, 'salaire': 0.8110236220472441, 'chapitre': 0.7401574803149606, 'mois': 0.7244094488188977, 'heures': 0.6299212598425197, 'présente': 0.6220472440944882, 'paritaire': 0.6062992125984252, 'ler': 0.6062992...</td>\n",
              "    </tr>\n",
              "    <tr>\n",
              "      <th>5</th>\n",
              "      <td>REMBOURSEMENT DE FRAIS (HORS FRAIS DE DÉPLACEMENT)</td>\n",
              "      <td>{'art': 1.0, 'prime': 0.9014084507042254, 'entreprises': 0.823943661971831, 'ouvriers': 0.6267605633802817, 'paritaire': 0.5985915492957746, 'jours': 0.5985915492957746, 'chauffeur': 0.5774647887323944, 'commission': 0.5563380281690141, 'partir': 0.54...</td>\n",
              "    </tr>\n",
              "    <tr>\n",
              "      <th>6</th>\n",
              "      <td>DÉTACHEMENT</td>\n",
              "      <td>{'fonds': 1.0, 'van': 0.772189349112426, 'janvier': 0.6627218934911243, 'paritaire': 0.5887573964497042, 'ouvriers': 0.5798816568047337, 'travailleurs': 0.5710059171597633, 'commission': 0.5532544378698225, 'sécurité': 0.5384615384615384, 'durée': 0.5...</td>\n",
              "    </tr>\n",
              "    <tr>\n",
              "      <th>7</th>\n",
              "      <td>PRIME DE FIN D'ANNÉE</td>\n",
              "      <td>{'fin': 1.0, 'cct': 0.9087719298245615, 'présente': 0.7543859649122807, 'commission': 0.7473684210526316, 'paritaire': 0.7192982456140351, 'travailleurs': 0.6877192982456141, 'chômage': 0.6421052631578947, 'jours': 0.6280701754385964, 'employés': 0.62...</td>\n",
              "    </tr>\n",
              "    <tr>\n",
              "      <th>8</th>\n",
              "      <td>SALAIRES</td>\n",
              "      <td>{'ouvriers': 1.0, 'salaires': 0.920410783055199, 'paritaire': 0.9114249037227214, 'travailleurs': 0.9101412066752247, 'minimum': 0.9024390243902439, 'commission': 0.8818998716302953, 'partir': 0.8177150192554558, 'présente': 0.7843388960205392, 'mois'...</td>\n",
              "    </tr>\n",
              "    <tr>\n",
              "      <th>9</th>\n",
              "      <td>JEUNES TRAVAILLEURS: SALAIRES</td>\n",
              "      <td>{'minimum': 1.0, 'salaires': 0.9933920704845814, 'ouvriers': 0.9559471365638766, 'chapitre': 0.6850220264317181, 'mois': 0.6233480176211453, 'juillet': 0.6057268722466961, 'ler': 0.6035242290748899, 'euro': 0.5352422907488987, 'heures': 0.528634361233...</td>\n",
              "    </tr>\n",
              "    <tr>\n",
              "      <th>10</th>\n",
              "      <td>FORMATION (EXCL. FORMATION SYNDICALE)</td>\n",
              "      <td>{'travailleurs': 1.0, 'fonds': 0.9964788732394366, 'partir': 0.9559859154929577, 'paritaire': 0.8732394366197183, 'entreprises': 0.795774647887324, 'commission': 0.7852112676056338, 'cotisation': 0.7816901408450704, 'janvier': 0.7517605633802817, 'art...</td>\n",
              "    </tr>\n",
              "    <tr>\n",
              "      <th>11</th>\n",
              "      <td>TRAVAILLEURS AGÉS-EXCL.PENSIONS COMPL, PRÉPENSION(RCC), CRÉDIT-TEMPS</td>\n",
              "      <td>{'ouvriers': 1.0, 'mois': 0.7898832684824902, 'carrière': 0.7730220492866408, 'paritaire': 0.7068741893644618, 'partir': 0.6913099870298314, 'travailleurs': 0.669260700389105, 'commission': 0.6666666666666666, 'minimum': 0.6381322957198443, 'présente'...</td>\n",
              "    </tr>\n",
              "    <tr>\n",
              "      <th>12</th>\n",
              "      <td>MALADIE/ACCIDENT/DÉCÈS</td>\n",
              "      <td>{'fonds': 1.0, 'chômage': 0.7973333333333333, 'ouvriers': 0.744, 'complémentaire': 0.696, 'cotisation': 0.688, 'art': 0.6826666666666666, 'travailleurs': 0.664, 'durée': 0.6613333333333333, 'entreprises': 0.6213333333333333, 'sécurité': 0.618666666666...</td>\n",
              "    </tr>\n",
              "    <tr>\n",
              "      <th>13</th>\n",
              "      <td>CHÔMAGE (AUTRE QUE LE CHÔMAGE ÉCONOMIQUE DES EMPLOYÉS)</td>\n",
              "      <td>{'travailleurs': 1.0, 'fonds': 0.928921568627451, 'cct': 0.8995098039215687, 'commission': 0.8455882352941176, 'durée': 0.8333333333333334, 'paritaire': 0.8137254901960784, 'complémentaire': 0.8014705882352942, 'entreprises': 0.7941176470588235, 'ouvr...</td>\n",
              "    </tr>\n",
              "    <tr>\n",
              "      <th>14</th>\n",
              "      <td>RÉGIME DE CHÔMAGE AVEC COMPLÉMENT D'ENTREPRISE (RCC)</td>\n",
              "      <td>{'chômage': 1.0, 'van': 0.8837209302325582, 'régime': 0.8469617404351087, 'fonds': 0.7531882970742686, 'art': 0.7366841710427607, 'travailleurs': 0.6804201050262566, 'entreprise': 0.6586646661665416, 'présente': 0.6016504126031508, 'cct': 0.5963990997...</td>\n",
              "    </tr>\n",
              "    <tr>\n",
              "      <th>15</th>\n",
              "      <td>FORMATION SYNDICALE</td>\n",
              "      <td>{'cotisation': 1.0, 'travailleurs': 0.9198113207547169, 'formation': 0.7688679245283019, 'partir': 0.7547169811320755, 'van': 0.6462264150943396, 'entreprises': 0.5990566037735849, 'janvier': 0.5943396226415094, 'paritaire': 0.5047169811320755, 'commi...</td>\n",
              "    </tr>\n",
              "    <tr>\n",
              "      <th>16</th>\n",
              "      <td>FONDS DE SÉCURITÉ D'EXISTENCE</td>\n",
              "      <td>{'régime': 1.0, 'formation': 0.9824253075571178, 'paritaire': 0.968365553602812, 'partir': 0.9367311072056239, 'travailleurs': 0.9138840070298769, 'cct': 0.8822495606326889, 'commission': 0.8558875219683656, 'complémentaire': 0.7873462214411248, 'ouvr...</td>\n",
              "    </tr>\n",
              "    <tr>\n",
              "      <th>17</th>\n",
              "      <td>INDEMNITÉS POUR FRAIS DE DÉPLACEMENT</td>\n",
              "      <td>{'partir': 1.0, 'travailleurs': 0.967930029154519, 'cct': 0.9037900874635568, 'paritaire': 0.8717201166180758, 'commission': 0.8396501457725948, 'art': 0.8396501457725948, 'présente': 0.8017492711370262, 'serum': 0.7259475218658892, 'mois': 0.71137026...</td>\n",
              "    </tr>\n",
              "    <tr>\n",
              "      <th>18</th>\n",
              "      <td>CRÉDIT-TEMPS/DIMINUTION DE CARRIÈRE, EMPLOI FIN DE CARRIÈRE</td>\n",
              "      <td>{'fin': 1.0, 'cct': 0.9702702702702702, 'travailleurs': 0.9432432432432433, 'art': 0.7891891891891892, 'temp': 0.7864864864864864, 'paritaire': 0.7648648648648648, 'décembre': 0.7216216216216216, 'partir': 0.7081081081081081, 'commission': 0.683783783...</td>\n",
              "    </tr>\n",
              "    <tr>\n",
              "      <th>19</th>\n",
              "      <td>RECRUTEMENT</td>\n",
              "      <td>{'travailleurs': 1.0, 'décembre': 0.874251497005988, 'art': 0.7604790419161677, 'paritaire': 0.6946107784431138, 'temp': 0.6107784431137725, 'travailleur': 0.6107784431137725, 'commission': 0.5988023952095808, 'jours': 0.5748502994011976, 'secteur': 0...</td>\n",
              "    </tr>\n",
              "    <tr>\n",
              "      <th>20</th>\n",
              "      <td>GROUPES À RISQUE</td>\n",
              "      <td>{'fonds': 1.0, 'cotisation': 0.967741935483871, 'travailleurs': 0.8914956011730205, 'partir': 0.8475073313782991, 'paritaire': 0.7917888563049853, 'entreprises': 0.7917888563049853, 'commission': 0.6715542521994134, 'janvier': 0.6627565982404692, 'emp...</td>\n",
              "    </tr>\n",
              "    <tr>\n",
              "      <th>21</th>\n",
              "      <td>BIEN-ÊTRE AU TRAVAIL</td>\n",
              "      <td>{'travailleurs': 1.0, 'art': 0.7747747747747747, 'secteur': 0.6216216216216216, 'paritaire': 0.5855855855855856, 'travailleur': 0.5225225225225225, 'temp': 0.5135135135135135, 'ler': 0.46846846846846846, 'chapitre': 0.4594594594594595, 'jours': 0.4504...</td>\n",
              "    </tr>\n",
              "    <tr>\n",
              "      <th>22</th>\n",
              "      <td>FONDS SOCIAUX, AUTRE QUE LES FONDS DE SÉCURITÉ D'EXISTENCE</td>\n",
              "      <td>{'art': 1.0, 'travailleurs': 0.803921568627451, 'chapitre': 0.6862745098039216, 'entreprise': 0.6274509803921569, 'ler': 0.5490196078431373, 'entreprises': 0.5098039215686274, 'décembre': 0.49019607843137253, 'employés': 0.49019607843137253, 'faisabil...</td>\n",
              "    </tr>\n",
              "    <tr>\n",
              "      <th>23</th>\n",
              "      <td>TRAVAIL TEMPORAIRE ET TRAVAIL INTÉRIMAIRE</td>\n",
              "      <td>{'jours': 1.0, 'formation': 0.958904109589041, 'cct': 0.8972602739726028, 'temp': 0.8972602739726028, 'carrière': 0.8835616438356164, 'fin': 0.863013698630137, 'jour': 0.8493150684931506, 'présente': 0.8287671232876712, 'travailleur': 0.82191780821917...</td>\n",
              "    </tr>\n",
              "    <tr>\n",
              "      <th>24</th>\n",
              "      <td>PRÉAVIS/LICENCIEMENT</td>\n",
              "      <td>{'jours': 1.0, 'durée': 0.9533678756476683, 'fin': 0.9015544041450777, 'paritaire': 0.8756476683937824, 'partir': 0.8652849740932642, 'travailleur': 0.8549222797927462, 'commission': 0.8290155440414507, 'temp': 0.7823834196891192, 'reclassement': 0.77...</td>\n",
              "    </tr>\n",
              "    <tr>\n",
              "      <th>25</th>\n",
              "      <td>TEMPS DE TRAVAIL EN HEURES</td>\n",
              "      <td>{'temp': 1.0, 'durée': 0.9420289855072463, 'chapitre': 0.855072463768116, 'salaires': 0.6521739130434783, 'partir': 0.6521739130434783, 'prime': 0.6376811594202898, 'paritaire': 0.6231884057971014, 'travailleurs': 0.6231884057971014, 'entreprises': 0....</td>\n",
              "    </tr>\n",
              "    <tr>\n",
              "      <th>26</th>\n",
              "      <td>CHÈQUES-REPAS</td>\n",
              "      <td>{'eur': 1.0, 'temp': 0.9912280701754386, 'jours': 0.9912280701754386, 'jour': 0.9736842105263158, 'régime': 0.9298245614035088, 'fin': 0.9210526315789473, 'chômage': 0.9210526315789473, 'nombre': 0.9122807017543859, 'carrière': 0.9035087719298246, 'mo...</td>\n",
              "    </tr>\n",
              "    <tr>\n",
              "      <th>27</th>\n",
              "      <td>ECOCHÈQUES</td>\n",
              "      <td>{'prime': 1.0, 'entreprise': 0.9896907216494846, 'carrière': 0.9072164948453608, 'fin': 0.8762886597938144, 'travailleurs': 0.8762886597938144, 'paritaire': 0.8556701030927835, 'partir': 0.845360824742268, 'niveau': 0.8041237113402062, 'commission': 0...</td>\n",
              "    </tr>\n",
              "    <tr>\n",
              "      <th>28</th>\n",
              "      <td>JOUR DE CONGÉ PAYÉ (PAS DE JOUR RTT OU DE COMPENSATION) ET JOUR FERIÉ</td>\n",
              "      <td>{'jour': 1.0, 'fin': 0.9942528735632183, 'carrière': 0.9885057471264368, 'partir': 0.9597701149425287, 'travailleurs': 0.8448275862068966, 'temp': 0.8160919540229885, 'cct': 0.7931034482758621, 'art': 0.764367816091954, 'nombre': 0.7586206896551724, '...</td>\n",
              "    </tr>\n",
              "    <tr>\n",
              "      <th>29</th>\n",
              "      <td>PAIX SOCIALE</td>\n",
              "      <td>{'carrière': 1.0, 'travailleurs': 0.9808612440191388, 'fin': 0.9138755980861244, 'régime': 0.861244019138756, 'prime': 0.8564593301435407, 'temp': 0.7942583732057417, 'paritaire': 0.7894736842105263, 'chômage': 0.784688995215311, 'commission': 0.77990...</td>\n",
              "    </tr>\n",
              "    <tr>\n",
              "      <th>30</th>\n",
              "      <td>CLASSIFICATION DES FONCTIONS</td>\n",
              "      <td>{'production': 1.0, 'art': 0.8019169329073482, 'qualité': 0.645367412140575, 'ouvriers': 0.5942492012779552, 'salaire': 0.5463258785942492, 'salaires': 0.5239616613418531, 'présente': 0.4952076677316294, 'prime': 0.48562300319488816, 'travailleurs': 0...</td>\n",
              "    </tr>\n",
              "    <tr>\n",
              "      <th>31</th>\n",
              "      <td>AVANTAGE/MÉTHODE DE RÉCOMPENSE ALTERNATIVE (EXCL PRIME, CHÈQUE, BONUS)</td>\n",
              "      <td>{'entreprises': 1.0, 'prime': 1.0, 'ouvriers': 0.9333333333333333, 'fonds': 0.7111111111111111, 'sociaux': 0.7, 'salaires': 0.6333333333333333, 'entreprise': 0.6222222222222222, 'social': 0.6111111111111112, 'carrière': 0.5888888888888889, 'travailleu...</td>\n",
              "    </tr>\n",
              "    <tr>\n",
              "      <th>32</th>\n",
              "      <td>DISCRIMINATION</td>\n",
              "      <td>{'construction': 1.0, 'présente': 1.0, 'employeurs': 1.0, 'entreprises': 1.0, 'racisme': 1.0, 'conviction': 1.0, 'durée': 1.0, 'metallique': 0.5, 'mecanique': 0.5, 'electrique': 0.5, 'lutte': 0.5, 'champ': 0.5, 'ouvriers': 0.5, 'ressortissent': 0.5, '...</td>\n",
              "    </tr>\n",
              "    <tr>\n",
              "      <th>33</th>\n",
              "      <td>FLEXIBILITÉ DU TEMPS DE TRAVAIL</td>\n",
              "      <td>{'durée': 1.0, 'entreprises': 0.9873417721518988, 'heures': 0.9367088607594937, 'chapitre': 0.8481012658227848, 'partir': 0.8481012658227848, 'prime': 0.8354430379746836, 'ouvriers': 0.7848101265822784, 'paritaire': 0.7215189873417721, 'juillet': 0.70...</td>\n",
              "    </tr>\n",
              "    <tr>\n",
              "      <th>34</th>\n",
              "      <td>HEURES SUPPLÉMENTAIRES</td>\n",
              "      <td>{'entreprises': 1.0, 'heures': 0.9516129032258065, 'ouvriers': 0.9354838709677419, 'temp': 0.9354838709677419, 'chapitre': 0.9193548387096774, 'art': 0.9032258064516129, 'partir': 0.8870967741935484, 'salaires': 0.8225806451612904, 'prime': 0.82258064...</td>\n",
              "    </tr>\n",
              "    <tr>\n",
              "      <th>35</th>\n",
              "      <td>HARMONISATION DU STATUT OUVRIER/EMPLOYÉS</td>\n",
              "      <td>{'entreprises': 1.0, 'employés': 0.9074074074074074, 'prime': 0.9074074074074074, 'niveau': 0.8518518518518519, 'sociaux': 0.8333333333333334, 'entreprise': 0.8333333333333334, 'fin': 0.7962962962962963, 'juillet': 0.6944444444444444, 'sectoriels': 0....</td>\n",
              "    </tr>\n",
              "    <tr>\n",
              "      <th>36</th>\n",
              "      <td>DÉLÉGATION SYNDICALE</td>\n",
              "      <td>{'travailleurs': 1.0, 'délégation': 0.9863013698630136, 'entreprises': 0.8904109589041096, 'syndicales': 0.8904109589041096, 'paritaire': 0.7808219178082192, 'organisation': 0.7671232876712328, 'commission': 0.7397260273972602, 'délégué': 0.7260273972...</td>\n",
              "    </tr>\n",
              "    <tr>\n",
              "      <th>37</th>\n",
              "      <td>FONCTIONNEMENT AU SEIN DE L'ENTREPRISE/DES ORGANES DE CONCERTATION</td>\n",
              "      <td>{'entreprises': 1.0, 'délégation': 1.0, 'travailleurs': 0.9620253164556962, 'formation': 0.8860759493670886, 'syndicales': 0.8481012658227848, 'paritaire': 0.810126582278481, 'commission': 0.759493670886076, 'organisation': 0.7468354430379747, 'délégu...</td>\n",
              "    </tr>\n",
              "    <tr>\n",
              "      <th>38</th>\n",
              "      <td>TRAVAIL PENDANT LE WEEKEND ET LES JOURS FÉRIÉS</td>\n",
              "      <td>{'salaires': 1.0, 'prime': 0.9047619047619048, 'art': 0.8928571428571429, 'jour': 0.8571428571428571, 'travailleurs': 0.8095238095238095, 'mois': 0.75, 'minimum': 0.7380952380952381, 'partir': 0.7142857142857143, 'salaire': 0.6904761904761905, 'cat': ...</td>\n",
              "    </tr>\n",
              "    <tr>\n",
              "      <th>39</th>\n",
              "      <td>PARTICIPATION AUX BÉNÉFICES/AVANTAGE NON RECURR. LIÉ AUX RÉSULT.-CCT90</td>\n",
              "      <td>{'partir': 1.0, 'régime': 0.9069767441860465, 'référence': 0.9069767441860465, 'jours': 0.8837209302325582, 'carrière': 0.8604651162790697, 'eur': 0.8372093023255814, 'mois': 0.8372093023255814, 'repas': 0.7441860465116279, 'salaire': 0.65116279069767...</td>\n",
              "    </tr>\n",
              "    <tr>\n",
              "      <th>40</th>\n",
              "      <td>TRAVAIL À TEMPS PARTIEL</td>\n",
              "      <td>{'jours': 1.0, 'travailleurs': 0.9603174603174603, 'partir': 0.8968253968253969, 'chômage': 0.8650793650793651, 'jour': 0.8571428571428571, 'nombre': 0.8174603174603174, 'fin': 0.8174603174603174, 'régime': 0.8095238095238095, 'durée': 0.7936507936507...</td>\n",
              "    </tr>\n",
              "    <tr>\n",
              "      <th>41</th>\n",
              "      <td>CONGÉ POUR RAISONS IMPÉRIEUSES</td>\n",
              "      <td>{'régime': 1.0, 'carrière': 0.9736842105263158, 'eur': 0.8421052631578947, 'repas': 0.8421052631578947, 'mois': 0.8157894736842105, 'jours': 0.7631578947368421, 'référence': 0.7368421052631579, 'travailleur': 0.7105263157894737, 'jour': 0.710526315789...</td>\n",
              "    </tr>\n",
              "    <tr>\n",
              "      <th>42</th>\n",
              "      <td>PRIME UNIQUE</td>\n",
              "      <td>{'cct': 1.0, 'temp': 1.0, 'partir': 0.922077922077922, 'serum': 0.8571428571428571, 'prime': 0.8441558441558441, 'formation': 0.8181818181818182, 'jours': 0.8051948051948052, 'fin': 0.8051948051948052, 'art': 0.7922077922077922, 'durée': 0.75324675324...</td>\n",
              "    </tr>\n",
              "    <tr>\n",
              "      <th>43</th>\n",
              "      <td>RÉDUCTION DE LA DURÉE DE TRAVAIL</td>\n",
              "      <td>{'travailleurs': 1.0, 'temp': 0.9649122807017544, 'durée': 0.9649122807017544, 'jour': 0.8596491228070176, 'nombre': 0.8245614035087719, 'chômage': 0.6842105263157895, 'partir': 0.6842105263157895, 'repos': 0.6140350877192983, 'cct': 0.596491228070175...</td>\n",
              "    </tr>\n",
              "    <tr>\n",
              "      <th>44</th>\n",
              "      <td>CONGÉ PARENTAL ET CONGÉ POUR DES RAISONS PERSONNELLES</td>\n",
              "      <td>{'temp': 1.0, 'jours': 0.9272727272727272, 'eur': 0.9090909090909091, 'partir': 0.8545454545454545, 'jour': 0.8363636363636363, 'nombre': 0.8181818181818182, 'fin': 0.7818181818181819, 'cct': 0.7636363636363637, 'serum': 0.7636363636363637, 'présente'...</td>\n",
              "    </tr>\n",
              "    <tr>\n",
              "      <th>45</th>\n",
              "      <td>PRIME D'ANCIENNETÉ, PRIME DE DÉPART</td>\n",
              "      <td>{'formation': 1.0, 'chauffeur': 0.96875, 'fonds': 0.8125, 'prime': 0.78125, 'service': 0.75, 'euro': 0.6875, 'mois': 0.5625, 'accord': 0.5625, 'commission': 0.53125, 'transport': 0.53125, 'social': 0.53125, 'chômage': 0.53125, 'paritaire': 0.5, 'entre...</td>\n",
              "    </tr>\n",
              "    <tr>\n",
              "      <th>46</th>\n",
              "      <td>MODALITÉS DE LA DURÉE DE TRAVAIL</td>\n",
              "      <td>{'jours': 1.0, 'temp': 0.9846153846153847, 'salaire': 0.8615384615384616, 'art': 0.8153846153846154, 'service': 0.8153846153846154, 'ouvriers': 0.8, 'jour': 0.7538461538461538, 'minimum': 0.7076923076923077, 'période': 0.7076923076923077, 'salaires': ...</td>\n",
              "    </tr>\n",
              "    <tr>\n",
              "      <th>47</th>\n",
              "      <td>FONCTIONNEMENT AU SEIN  DE LA COMMISSION PARITAIRE</td>\n",
              "      <td>{'cct': 1.0, 'travailleurs': 0.9074074074074074, 'partenaires': 0.8518518518518519, 'sociaux': 0.8518518518518519, 'partir': 0.8518518518518519, 'carrière': 0.8148148148148148, 'entreprise': 0.7592592592592593, 'entreprises': 0.7592592592592593, 'empl...</td>\n",
              "    </tr>\n",
              "    <tr>\n",
              "      <th>48</th>\n",
              "      <td>MESURE POUR ENTREPRISE EN DIFFICULTÉ/ RESTRUCTURATION - PAS DE RCC</td>\n",
              "      <td>{'professionnel': 1.0, 'travailleur': 0.9746835443037974, 'travailleurs': 0.7721518987341772, 'service': 0.759493670886076, 'mois': 0.6708860759493671, 'art': 0.620253164556962, 'chapitre': 0.5949367088607594, 'durée': 0.5949367088607594, 'cct': 0.569...</td>\n",
              "    </tr>\n",
              "    <tr>\n",
              "      <th>49</th>\n",
              "      <td>CHÈQUES CADEAU, SPORT ET CULTURE</td>\n",
              "      <td>{'service': 1.0, 'chauffeur': 1.0, 'travailleurs': 0.75, 'taxi': 0.75, 'location': 0.75, 'chapitre': 0.75, 'décembre': 0.75, 'chèque': 0.75, 'commission': 0.5, 'paritaire': 0.5, 'logistique': 0.5, 'voitures': 0.5, 'présente': 0.5, 'véhicules': 0.5, 'p...</td>\n",
              "    </tr>\n",
              "    <tr>\n",
              "      <th>50</th>\n",
              "      <td>LICENCIEMENT DES TRAVAILLEURS PROTÉGÉS</td>\n",
              "      <td>{'syndicales': 1.0, 'délégation': 0.9285714285714286, 'personnel': 0.9285714285714286, 'délégué': 0.9285714285714286, 'travailleurs': 0.8571428571428571, 'organisation': 0.8214285714285714, 'statut': 0.7857142857142857, 'delegation': 0.732142857142857...</td>\n",
              "    </tr>\n",
              "    <tr>\n",
              "      <th>51</th>\n",
              "      <td>CHÔMAGE ÉCONOMIQUE DES EMPLOYÉS</td>\n",
              "      <td>{'contrat': 1.0, 'suspension': 0.8709677419354839, 'employés': 0.6774193548387096, 'loi': 0.6129032258064516, 'temp': 0.6129032258064516, 'commission': 0.5806451612903226, 'juillet': 0.5806451612903226, 'paritaire': 0.5483870967741935, 'chômage': 0.51...</td>\n",
              "    </tr>\n",
              "    <tr>\n",
              "      <th>52</th>\n",
              "      <td>TÉLÉTRAVAIL</td>\n",
              "      <td>{'cct': 1.0, 'partenaires': 0.84375, 'sociaux': 0.84375, 'entreprise': 0.75, 'travailleurs': 0.75, 'formation': 0.71875, 'carrière': 0.65625, 'faisabilité': 0.625, 'entreprises': 0.625, 'janvier': 0.625, 'durée': 0.5625, 'présente': 0.53125, 'employés...</td>\n",
              "    </tr>\n",
              "  </tbody>\n",
              "</table>\n",
              "</div>"
            ],
            "text/plain": [
              "                                                                   themeFr                                                                                                                                                                                                                                              frequency_relative\n",
              "0                            PENSIONS COMPÉMENTAIRES ET ASSURANCES GROUPES  {'règlement': 1.0, 'régime': 0.9294037011651817, 'solidarité': 0.7655928718300206, 'sectoriel': 0.746401644962303, 'van': 0.7326936257710761, 'complémentaire': 0.5359835503769705, 'ofp': 0.4736120630568883, 'partir': 0.4715558601782042, 'affilié': 0.4...\n",
              "1                                                          PRIME SYNDICALE  {'cotisation': 1.0, 'partir': 0.9273356401384083, 'travailleurs': 0.7923875432525952, 'entreprises': 0.643598615916955, 'janvier': 0.6401384083044983, 'ouvriers': 0.6055363321799307, 'sécurité': 0.5847750865051903, 'formation': 0.5778546712802768, 'co...\n",
              "2                                             TRAVAIL EN ÉQUIPE ET DE NUIT  {'ouvriers': 1.0, 'prime': 0.9321705426356589, 'minimum': 0.8585271317829457, 'salaires': 0.8430232558139535, 'mois': 0.8003875968992248, 'présente': 0.7306201550387597, 'paritaire': 0.7034883720930233, 'commission': 0.686046511627907, 'juillet': 0.61...\n",
              "3                                                       PÉCULE DE VACANCES  {'mois': 1.0, 'art': 0.9333333333333333, 'juillet': 0.9, 'chômage': 0.7666666666666667, 'vacances': 0.7666666666666667, 'travaux': 0.7333333333333333, 'paritaire': 0.6333333333333333, 'entreprises': 0.6333333333333333, 'commission': 0.6, 'sectoriels':...\n",
              "4                                PRIME PROPRE AU SECTEUR OU À L'ENTREPRISE  {'salaires': 1.0, 'minimum': 0.9291338582677166, 'salaire': 0.8110236220472441, 'chapitre': 0.7401574803149606, 'mois': 0.7244094488188977, 'heures': 0.6299212598425197, 'présente': 0.6220472440944882, 'paritaire': 0.6062992125984252, 'ler': 0.6062992...\n",
              "5                       REMBOURSEMENT DE FRAIS (HORS FRAIS DE DÉPLACEMENT)  {'art': 1.0, 'prime': 0.9014084507042254, 'entreprises': 0.823943661971831, 'ouvriers': 0.6267605633802817, 'paritaire': 0.5985915492957746, 'jours': 0.5985915492957746, 'chauffeur': 0.5774647887323944, 'commission': 0.5563380281690141, 'partir': 0.54...\n",
              "6                                                              DÉTACHEMENT  {'fonds': 1.0, 'van': 0.772189349112426, 'janvier': 0.6627218934911243, 'paritaire': 0.5887573964497042, 'ouvriers': 0.5798816568047337, 'travailleurs': 0.5710059171597633, 'commission': 0.5532544378698225, 'sécurité': 0.5384615384615384, 'durée': 0.5...\n",
              "7                                                     PRIME DE FIN D'ANNÉE  {'fin': 1.0, 'cct': 0.9087719298245615, 'présente': 0.7543859649122807, 'commission': 0.7473684210526316, 'paritaire': 0.7192982456140351, 'travailleurs': 0.6877192982456141, 'chômage': 0.6421052631578947, 'jours': 0.6280701754385964, 'employés': 0.62...\n",
              "8                                                                 SALAIRES  {'ouvriers': 1.0, 'salaires': 0.920410783055199, 'paritaire': 0.9114249037227214, 'travailleurs': 0.9101412066752247, 'minimum': 0.9024390243902439, 'commission': 0.8818998716302953, 'partir': 0.8177150192554558, 'présente': 0.7843388960205392, 'mois'...\n",
              "9                                            JEUNES TRAVAILLEURS: SALAIRES  {'minimum': 1.0, 'salaires': 0.9933920704845814, 'ouvriers': 0.9559471365638766, 'chapitre': 0.6850220264317181, 'mois': 0.6233480176211453, 'juillet': 0.6057268722466961, 'ler': 0.6035242290748899, 'euro': 0.5352422907488987, 'heures': 0.528634361233...\n",
              "10                                   FORMATION (EXCL. FORMATION SYNDICALE)  {'travailleurs': 1.0, 'fonds': 0.9964788732394366, 'partir': 0.9559859154929577, 'paritaire': 0.8732394366197183, 'entreprises': 0.795774647887324, 'commission': 0.7852112676056338, 'cotisation': 0.7816901408450704, 'janvier': 0.7517605633802817, 'art...\n",
              "11    TRAVAILLEURS AGÉS-EXCL.PENSIONS COMPL, PRÉPENSION(RCC), CRÉDIT-TEMPS  {'ouvriers': 1.0, 'mois': 0.7898832684824902, 'carrière': 0.7730220492866408, 'paritaire': 0.7068741893644618, 'partir': 0.6913099870298314, 'travailleurs': 0.669260700389105, 'commission': 0.6666666666666666, 'minimum': 0.6381322957198443, 'présente'...\n",
              "12                                                  MALADIE/ACCIDENT/DÉCÈS  {'fonds': 1.0, 'chômage': 0.7973333333333333, 'ouvriers': 0.744, 'complémentaire': 0.696, 'cotisation': 0.688, 'art': 0.6826666666666666, 'travailleurs': 0.664, 'durée': 0.6613333333333333, 'entreprises': 0.6213333333333333, 'sécurité': 0.618666666666...\n",
              "13                  CHÔMAGE (AUTRE QUE LE CHÔMAGE ÉCONOMIQUE DES EMPLOYÉS)  {'travailleurs': 1.0, 'fonds': 0.928921568627451, 'cct': 0.8995098039215687, 'commission': 0.8455882352941176, 'durée': 0.8333333333333334, 'paritaire': 0.8137254901960784, 'complémentaire': 0.8014705882352942, 'entreprises': 0.7941176470588235, 'ouvr...\n",
              "14                    RÉGIME DE CHÔMAGE AVEC COMPLÉMENT D'ENTREPRISE (RCC)  {'chômage': 1.0, 'van': 0.8837209302325582, 'régime': 0.8469617404351087, 'fonds': 0.7531882970742686, 'art': 0.7366841710427607, 'travailleurs': 0.6804201050262566, 'entreprise': 0.6586646661665416, 'présente': 0.6016504126031508, 'cct': 0.5963990997...\n",
              "15                                                     FORMATION SYNDICALE  {'cotisation': 1.0, 'travailleurs': 0.9198113207547169, 'formation': 0.7688679245283019, 'partir': 0.7547169811320755, 'van': 0.6462264150943396, 'entreprises': 0.5990566037735849, 'janvier': 0.5943396226415094, 'paritaire': 0.5047169811320755, 'commi...\n",
              "16                                           FONDS DE SÉCURITÉ D'EXISTENCE  {'régime': 1.0, 'formation': 0.9824253075571178, 'paritaire': 0.968365553602812, 'partir': 0.9367311072056239, 'travailleurs': 0.9138840070298769, 'cct': 0.8822495606326889, 'commission': 0.8558875219683656, 'complémentaire': 0.7873462214411248, 'ouvr...\n",
              "17                                    INDEMNITÉS POUR FRAIS DE DÉPLACEMENT  {'partir': 1.0, 'travailleurs': 0.967930029154519, 'cct': 0.9037900874635568, 'paritaire': 0.8717201166180758, 'commission': 0.8396501457725948, 'art': 0.8396501457725948, 'présente': 0.8017492711370262, 'serum': 0.7259475218658892, 'mois': 0.71137026...\n",
              "18             CRÉDIT-TEMPS/DIMINUTION DE CARRIÈRE, EMPLOI FIN DE CARRIÈRE  {'fin': 1.0, 'cct': 0.9702702702702702, 'travailleurs': 0.9432432432432433, 'art': 0.7891891891891892, 'temp': 0.7864864864864864, 'paritaire': 0.7648648648648648, 'décembre': 0.7216216216216216, 'partir': 0.7081081081081081, 'commission': 0.683783783...\n",
              "19                                                             RECRUTEMENT  {'travailleurs': 1.0, 'décembre': 0.874251497005988, 'art': 0.7604790419161677, 'paritaire': 0.6946107784431138, 'temp': 0.6107784431137725, 'travailleur': 0.6107784431137725, 'commission': 0.5988023952095808, 'jours': 0.5748502994011976, 'secteur': 0...\n",
              "20                                                        GROUPES À RISQUE  {'fonds': 1.0, 'cotisation': 0.967741935483871, 'travailleurs': 0.8914956011730205, 'partir': 0.8475073313782991, 'paritaire': 0.7917888563049853, 'entreprises': 0.7917888563049853, 'commission': 0.6715542521994134, 'janvier': 0.6627565982404692, 'emp...\n",
              "21                                                    BIEN-ÊTRE AU TRAVAIL  {'travailleurs': 1.0, 'art': 0.7747747747747747, 'secteur': 0.6216216216216216, 'paritaire': 0.5855855855855856, 'travailleur': 0.5225225225225225, 'temp': 0.5135135135135135, 'ler': 0.46846846846846846, 'chapitre': 0.4594594594594595, 'jours': 0.4504...\n",
              "22              FONDS SOCIAUX, AUTRE QUE LES FONDS DE SÉCURITÉ D'EXISTENCE  {'art': 1.0, 'travailleurs': 0.803921568627451, 'chapitre': 0.6862745098039216, 'entreprise': 0.6274509803921569, 'ler': 0.5490196078431373, 'entreprises': 0.5098039215686274, 'décembre': 0.49019607843137253, 'employés': 0.49019607843137253, 'faisabil...\n",
              "23                               TRAVAIL TEMPORAIRE ET TRAVAIL INTÉRIMAIRE  {'jours': 1.0, 'formation': 0.958904109589041, 'cct': 0.8972602739726028, 'temp': 0.8972602739726028, 'carrière': 0.8835616438356164, 'fin': 0.863013698630137, 'jour': 0.8493150684931506, 'présente': 0.8287671232876712, 'travailleur': 0.82191780821917...\n",
              "24                                                    PRÉAVIS/LICENCIEMENT  {'jours': 1.0, 'durée': 0.9533678756476683, 'fin': 0.9015544041450777, 'paritaire': 0.8756476683937824, 'partir': 0.8652849740932642, 'travailleur': 0.8549222797927462, 'commission': 0.8290155440414507, 'temp': 0.7823834196891192, 'reclassement': 0.77...\n",
              "25                                              TEMPS DE TRAVAIL EN HEURES  {'temp': 1.0, 'durée': 0.9420289855072463, 'chapitre': 0.855072463768116, 'salaires': 0.6521739130434783, 'partir': 0.6521739130434783, 'prime': 0.6376811594202898, 'paritaire': 0.6231884057971014, 'travailleurs': 0.6231884057971014, 'entreprises': 0....\n",
              "26                                                           CHÈQUES-REPAS  {'eur': 1.0, 'temp': 0.9912280701754386, 'jours': 0.9912280701754386, 'jour': 0.9736842105263158, 'régime': 0.9298245614035088, 'fin': 0.9210526315789473, 'chômage': 0.9210526315789473, 'nombre': 0.9122807017543859, 'carrière': 0.9035087719298246, 'mo...\n",
              "27                                                              ECOCHÈQUES  {'prime': 1.0, 'entreprise': 0.9896907216494846, 'carrière': 0.9072164948453608, 'fin': 0.8762886597938144, 'travailleurs': 0.8762886597938144, 'paritaire': 0.8556701030927835, 'partir': 0.845360824742268, 'niveau': 0.8041237113402062, 'commission': 0...\n",
              "28   JOUR DE CONGÉ PAYÉ (PAS DE JOUR RTT OU DE COMPENSATION) ET JOUR FERIÉ  {'jour': 1.0, 'fin': 0.9942528735632183, 'carrière': 0.9885057471264368, 'partir': 0.9597701149425287, 'travailleurs': 0.8448275862068966, 'temp': 0.8160919540229885, 'cct': 0.7931034482758621, 'art': 0.764367816091954, 'nombre': 0.7586206896551724, '...\n",
              "29                                                            PAIX SOCIALE  {'carrière': 1.0, 'travailleurs': 0.9808612440191388, 'fin': 0.9138755980861244, 'régime': 0.861244019138756, 'prime': 0.8564593301435407, 'temp': 0.7942583732057417, 'paritaire': 0.7894736842105263, 'chômage': 0.784688995215311, 'commission': 0.77990...\n",
              "30                                            CLASSIFICATION DES FONCTIONS  {'production': 1.0, 'art': 0.8019169329073482, 'qualité': 0.645367412140575, 'ouvriers': 0.5942492012779552, 'salaire': 0.5463258785942492, 'salaires': 0.5239616613418531, 'présente': 0.4952076677316294, 'prime': 0.48562300319488816, 'travailleurs': 0...\n",
              "31  AVANTAGE/MÉTHODE DE RÉCOMPENSE ALTERNATIVE (EXCL PRIME, CHÈQUE, BONUS)  {'entreprises': 1.0, 'prime': 1.0, 'ouvriers': 0.9333333333333333, 'fonds': 0.7111111111111111, 'sociaux': 0.7, 'salaires': 0.6333333333333333, 'entreprise': 0.6222222222222222, 'social': 0.6111111111111112, 'carrière': 0.5888888888888889, 'travailleu...\n",
              "32                                                          DISCRIMINATION  {'construction': 1.0, 'présente': 1.0, 'employeurs': 1.0, 'entreprises': 1.0, 'racisme': 1.0, 'conviction': 1.0, 'durée': 1.0, 'metallique': 0.5, 'mecanique': 0.5, 'electrique': 0.5, 'lutte': 0.5, 'champ': 0.5, 'ouvriers': 0.5, 'ressortissent': 0.5, '...\n",
              "33                                         FLEXIBILITÉ DU TEMPS DE TRAVAIL  {'durée': 1.0, 'entreprises': 0.9873417721518988, 'heures': 0.9367088607594937, 'chapitre': 0.8481012658227848, 'partir': 0.8481012658227848, 'prime': 0.8354430379746836, 'ouvriers': 0.7848101265822784, 'paritaire': 0.7215189873417721, 'juillet': 0.70...\n",
              "34                                                  HEURES SUPPLÉMENTAIRES  {'entreprises': 1.0, 'heures': 0.9516129032258065, 'ouvriers': 0.9354838709677419, 'temp': 0.9354838709677419, 'chapitre': 0.9193548387096774, 'art': 0.9032258064516129, 'partir': 0.8870967741935484, 'salaires': 0.8225806451612904, 'prime': 0.82258064...\n",
              "35                                HARMONISATION DU STATUT OUVRIER/EMPLOYÉS  {'entreprises': 1.0, 'employés': 0.9074074074074074, 'prime': 0.9074074074074074, 'niveau': 0.8518518518518519, 'sociaux': 0.8333333333333334, 'entreprise': 0.8333333333333334, 'fin': 0.7962962962962963, 'juillet': 0.6944444444444444, 'sectoriels': 0....\n",
              "36                                                    DÉLÉGATION SYNDICALE  {'travailleurs': 1.0, 'délégation': 0.9863013698630136, 'entreprises': 0.8904109589041096, 'syndicales': 0.8904109589041096, 'paritaire': 0.7808219178082192, 'organisation': 0.7671232876712328, 'commission': 0.7397260273972602, 'délégué': 0.7260273972...\n",
              "37      FONCTIONNEMENT AU SEIN DE L'ENTREPRISE/DES ORGANES DE CONCERTATION  {'entreprises': 1.0, 'délégation': 1.0, 'travailleurs': 0.9620253164556962, 'formation': 0.8860759493670886, 'syndicales': 0.8481012658227848, 'paritaire': 0.810126582278481, 'commission': 0.759493670886076, 'organisation': 0.7468354430379747, 'délégu...\n",
              "38                          TRAVAIL PENDANT LE WEEKEND ET LES JOURS FÉRIÉS  {'salaires': 1.0, 'prime': 0.9047619047619048, 'art': 0.8928571428571429, 'jour': 0.8571428571428571, 'travailleurs': 0.8095238095238095, 'mois': 0.75, 'minimum': 0.7380952380952381, 'partir': 0.7142857142857143, 'salaire': 0.6904761904761905, 'cat': ...\n",
              "39  PARTICIPATION AUX BÉNÉFICES/AVANTAGE NON RECURR. LIÉ AUX RÉSULT.-CCT90  {'partir': 1.0, 'régime': 0.9069767441860465, 'référence': 0.9069767441860465, 'jours': 0.8837209302325582, 'carrière': 0.8604651162790697, 'eur': 0.8372093023255814, 'mois': 0.8372093023255814, 'repas': 0.7441860465116279, 'salaire': 0.65116279069767...\n",
              "40                                                 TRAVAIL À TEMPS PARTIEL  {'jours': 1.0, 'travailleurs': 0.9603174603174603, 'partir': 0.8968253968253969, 'chômage': 0.8650793650793651, 'jour': 0.8571428571428571, 'nombre': 0.8174603174603174, 'fin': 0.8174603174603174, 'régime': 0.8095238095238095, 'durée': 0.7936507936507...\n",
              "41                                          CONGÉ POUR RAISONS IMPÉRIEUSES  {'régime': 1.0, 'carrière': 0.9736842105263158, 'eur': 0.8421052631578947, 'repas': 0.8421052631578947, 'mois': 0.8157894736842105, 'jours': 0.7631578947368421, 'référence': 0.7368421052631579, 'travailleur': 0.7105263157894737, 'jour': 0.710526315789...\n",
              "42                                                            PRIME UNIQUE  {'cct': 1.0, 'temp': 1.0, 'partir': 0.922077922077922, 'serum': 0.8571428571428571, 'prime': 0.8441558441558441, 'formation': 0.8181818181818182, 'jours': 0.8051948051948052, 'fin': 0.8051948051948052, 'art': 0.7922077922077922, 'durée': 0.75324675324...\n",
              "43                                        RÉDUCTION DE LA DURÉE DE TRAVAIL  {'travailleurs': 1.0, 'temp': 0.9649122807017544, 'durée': 0.9649122807017544, 'jour': 0.8596491228070176, 'nombre': 0.8245614035087719, 'chômage': 0.6842105263157895, 'partir': 0.6842105263157895, 'repos': 0.6140350877192983, 'cct': 0.596491228070175...\n",
              "44                   CONGÉ PARENTAL ET CONGÉ POUR DES RAISONS PERSONNELLES  {'temp': 1.0, 'jours': 0.9272727272727272, 'eur': 0.9090909090909091, 'partir': 0.8545454545454545, 'jour': 0.8363636363636363, 'nombre': 0.8181818181818182, 'fin': 0.7818181818181819, 'cct': 0.7636363636363637, 'serum': 0.7636363636363637, 'présente'...\n",
              "45                                     PRIME D'ANCIENNETÉ, PRIME DE DÉPART  {'formation': 1.0, 'chauffeur': 0.96875, 'fonds': 0.8125, 'prime': 0.78125, 'service': 0.75, 'euro': 0.6875, 'mois': 0.5625, 'accord': 0.5625, 'commission': 0.53125, 'transport': 0.53125, 'social': 0.53125, 'chômage': 0.53125, 'paritaire': 0.5, 'entre...\n",
              "46                                        MODALITÉS DE LA DURÉE DE TRAVAIL  {'jours': 1.0, 'temp': 0.9846153846153847, 'salaire': 0.8615384615384616, 'art': 0.8153846153846154, 'service': 0.8153846153846154, 'ouvriers': 0.8, 'jour': 0.7538461538461538, 'minimum': 0.7076923076923077, 'période': 0.7076923076923077, 'salaires': ...\n",
              "47                      FONCTIONNEMENT AU SEIN  DE LA COMMISSION PARITAIRE  {'cct': 1.0, 'travailleurs': 0.9074074074074074, 'partenaires': 0.8518518518518519, 'sociaux': 0.8518518518518519, 'partir': 0.8518518518518519, 'carrière': 0.8148148148148148, 'entreprise': 0.7592592592592593, 'entreprises': 0.7592592592592593, 'empl...\n",
              "48      MESURE POUR ENTREPRISE EN DIFFICULTÉ/ RESTRUCTURATION - PAS DE RCC  {'professionnel': 1.0, 'travailleur': 0.9746835443037974, 'travailleurs': 0.7721518987341772, 'service': 0.759493670886076, 'mois': 0.6708860759493671, 'art': 0.620253164556962, 'chapitre': 0.5949367088607594, 'durée': 0.5949367088607594, 'cct': 0.569...\n",
              "49                                        CHÈQUES CADEAU, SPORT ET CULTURE  {'service': 1.0, 'chauffeur': 1.0, 'travailleurs': 0.75, 'taxi': 0.75, 'location': 0.75, 'chapitre': 0.75, 'décembre': 0.75, 'chèque': 0.75, 'commission': 0.5, 'paritaire': 0.5, 'logistique': 0.5, 'voitures': 0.5, 'présente': 0.5, 'véhicules': 0.5, 'p...\n",
              "50                                  LICENCIEMENT DES TRAVAILLEURS PROTÉGÉS  {'syndicales': 1.0, 'délégation': 0.9285714285714286, 'personnel': 0.9285714285714286, 'délégué': 0.9285714285714286, 'travailleurs': 0.8571428571428571, 'organisation': 0.8214285714285714, 'statut': 0.7857142857142857, 'delegation': 0.732142857142857...\n",
              "51                                         CHÔMAGE ÉCONOMIQUE DES EMPLOYÉS  {'contrat': 1.0, 'suspension': 0.8709677419354839, 'employés': 0.6774193548387096, 'loi': 0.6129032258064516, 'temp': 0.6129032258064516, 'commission': 0.5806451612903226, 'juillet': 0.5806451612903226, 'paritaire': 0.5483870967741935, 'chômage': 0.51...\n",
              "52                                                             TÉLÉTRAVAIL  {'cct': 1.0, 'partenaires': 0.84375, 'sociaux': 0.84375, 'entreprise': 0.75, 'travailleurs': 0.75, 'formation': 0.71875, 'carrière': 0.65625, 'faisabilité': 0.625, 'entreprises': 0.625, 'janvier': 0.625, 'durée': 0.5625, 'présente': 0.53125, 'employés..."
            ]
          },
          "metadata": {
            "tags": []
          },
          "execution_count": 30
        }
      ]
    },
    {
      "cell_type": "markdown",
      "metadata": {
        "id": "SpotjOgBmLpS"
      },
      "source": [
        "# Classification model"
      ]
    },
    {
      "cell_type": "code",
      "metadata": {
        "id": "xGZ0nUEXmd2j"
      },
      "source": [
        "from pickle import load\r\n",
        "\r\n",
        "with open(os.path.join(KPMG_PATH, \"clas_new.pkl\"), 'rb') as f:\r\n",
        "  df = load(f)"
      ],
      "execution_count": 31,
      "outputs": []
    },
    {
      "cell_type": "code",
      "metadata": {
        "colab": {
          "base_uri": "https://localhost:8080/"
        },
        "id": "n62CpQau9j-Y",
        "outputId": "b20422ab-01e1-4510-9b2f-d48bbfa1d54a"
      },
      "source": [
        "df.columns"
      ],
      "execution_count": 32,
      "outputs": [
        {
          "output_type": "execute_result",
          "data": {
            "text/plain": [
              "Index(['depositNumber', 'displayJcId', 'titleFr', 'themesFr',\n",
              "       'publicationDate', 'scopeFr', 'endDate', 'enforced', 'docBodyFr'],\n",
              "      dtype='object')"
            ]
          },
          "metadata": {
            "tags": []
          },
          "execution_count": 32
        }
      ]
    },
    {
      "cell_type": "code",
      "metadata": {
        "id": "8zKReQwv9xc9"
      },
      "source": [
        "df[\"body_cleaned\"] = df[\"docBodyFr\"].apply(preprocess.clean_text)"
      ],
      "execution_count": 33,
      "outputs": []
    },
    {
      "cell_type": "code",
      "metadata": {
        "colab": {
          "base_uri": "https://localhost:8080/"
        },
        "id": "SF6EgPpW-cGJ",
        "outputId": "ce227526-90d6-4574-e104-2e6adeb4ac2a"
      },
      "source": [
        "#generating all possible FR themes (replacing previous list of 53 items)\r\n",
        "themes_fr = []\r\n",
        "for r in  df.themesFr:\r\n",
        "    if r is not None:\r\n",
        "        for t in r:\r\n",
        "            if t not in themes_fr:\r\n",
        "                themes_fr += [t]\r\n",
        "len(themes_fr)"
      ],
      "execution_count": 34,
      "outputs": [
        {
          "output_type": "execute_result",
          "data": {
            "text/plain": [
              "54"
            ]
          },
          "metadata": {
            "tags": []
          },
          "execution_count": 34
        }
      ]
    },
    {
      "cell_type": "code",
      "metadata": {
        "colab": {
          "base_uri": "https://localhost:8080/"
        },
        "id": "-IrpIu9a_IbD",
        "outputId": "789288f1-e8b8-4ba0-8741-8914919931a5"
      },
      "source": [
        "# showing only 27 unique themes against 54 available\r\n",
        "df.dropna(axis=0, subset=['themesFr'], inplace=True)\r\n",
        "df['theme'] = df['themesFr'].apply(lambda x: x[0] if len(x) == 1 else None)\r\n",
        "len(df.theme.unique())"
      ],
      "execution_count": 35,
      "outputs": [
        {
          "output_type": "execute_result",
          "data": {
            "text/plain": [
              "27"
            ]
          },
          "metadata": {
            "tags": []
          },
          "execution_count": 35
        }
      ]
    },
    {
      "cell_type": "code",
      "metadata": {
        "colab": {
          "base_uri": "https://localhost:8080/"
        },
        "id": "WMO4woG9JDnc",
        "outputId": "e1fa7f87-4cf6-45c9-80f7-278674980f78"
      },
      "source": [
        "for t in themes_fr:\r\n",
        "\tdf.dropna(axis=0, subset=['themesFr'], inplace=True)\r\n",
        "\tdf[t] = df['themesFr'].apply(lambda x: 1 if t in x else 0)\r\n",
        "df.columns"
      ],
      "execution_count": 36,
      "outputs": [
        {
          "output_type": "execute_result",
          "data": {
            "text/plain": [
              "Index(['depositNumber', 'displayJcId', 'titleFr', 'themesFr',\n",
              "       'publicationDate', 'scopeFr', 'endDate', 'enforced', 'docBodyFr',\n",
              "       'body_cleaned', 'theme',\n",
              "       'PENSIONS COMPÉMENTAIRES ET ASSURANCES GROUPES', 'PRIME SYNDICALE',\n",
              "       'TRAVAIL EN ÉQUIPE ET DE NUIT', 'PÉCULE DE VACANCES',\n",
              "       'PRIME PROPRE AU SECTEUR OU À L'ENTREPRISE',\n",
              "       'REMBOURSEMENT DE FRAIS (HORS FRAIS DE DÉPLACEMENT)', 'DÉTACHEMENT',\n",
              "       'PRIME DE FIN D'ANNÉE', 'SALAIRES', 'JEUNES TRAVAILLEURS: SALAIRES',\n",
              "       'FORMATION (EXCL. FORMATION SYNDICALE)',\n",
              "       'TRAVAILLEURS AGÉS-EXCL.PENSIONS COMPL, PRÉPENSION(RCC), CRÉDIT-TEMPS',\n",
              "       'MALADIE/ACCIDENT/DÉCÈS',\n",
              "       'CHÔMAGE (AUTRE QUE LE CHÔMAGE ÉCONOMIQUE DES EMPLOYÉS)',\n",
              "       'RÉGIME DE CHÔMAGE AVEC COMPLÉMENT D'ENTREPRISE (RCC)',\n",
              "       'FORMATION SYNDICALE', 'FONDS DE SÉCURITÉ D'EXISTENCE',\n",
              "       'INDEMNITÉS POUR FRAIS DE DÉPLACEMENT',\n",
              "       'CRÉDIT-TEMPS/DIMINUTION DE CARRIÈRE, EMPLOI FIN DE CARRIÈRE',\n",
              "       'RECRUTEMENT', 'GROUPES À RISQUE', 'BIEN-ÊTRE AU TRAVAIL',\n",
              "       'FONDS SOCIAUX, AUTRE QUE LES FONDS DE SÉCURITÉ D'EXISTENCE',\n",
              "       'TRAVAIL TEMPORAIRE ET TRAVAIL INTÉRIMAIRE', 'PRÉAVIS/LICENCIEMENT',\n",
              "       'TEMPS DE TRAVAIL EN HEURES', 'MODALITÉS DE LA DURÉE DE TRAVAIL',\n",
              "       'TRAVAIL À TEMPS PARTIEL', 'CHÈQUES-REPAS', 'ECOCHÈQUES',\n",
              "       'JOUR DE CONGÉ PAYÉ (PAS DE JOUR RTT OU DE COMPENSATION) ET JOUR FERIÉ',\n",
              "       'PAIX SOCIALE', 'CLASSIFICATION DES FONCTIONS',\n",
              "       'AVANTAGE/MÉTHODE DE RÉCOMPENSE ALTERNATIVE (EXCL PRIME, CHÈQUE, BONUS)',\n",
              "       'DISCRIMINATION', 'FLEXIBILITÉ DU TEMPS DE TRAVAIL',\n",
              "       'HEURES SUPPLÉMENTAIRES', 'HARMONISATION DU STATUT OUVRIER/EMPLOYÉS',\n",
              "       'DÉLÉGATION SYNDICALE',\n",
              "       'FONCTIONNEMENT AU SEIN DE L'ENTREPRISE/DES ORGANES DE CONCERTATION',\n",
              "       'TRAVAIL PENDANT LE WEEKEND ET LES JOURS FÉRIÉS',\n",
              "       'PARTICIPATION AUX BÉNÉFICES/AVANTAGE NON RECURR. LIÉ AUX RÉSULT.-CCT90',\n",
              "       'CONGÉ POUR RAISONS IMPÉRIEUSES', 'PRIME UNIQUE',\n",
              "       'RÉDUCTION DE LA DURÉE DE TRAVAIL',\n",
              "       'CONGÉ PARENTAL ET CONGÉ POUR DES RAISONS PERSONNELLES',\n",
              "       'PRIME D'ANCIENNETÉ, PRIME DE DÉPART',\n",
              "       'FONCTIONNEMENT AU SEIN  DE LA COMMISSION PARITAIRE',\n",
              "       'MESURE POUR ENTREPRISE EN DIFFICULTÉ/ RESTRUCTURATION - PAS DE RCC',\n",
              "       'CHÈQUES CADEAU, SPORT ET CULTURE',\n",
              "       'LICENCIEMENT DES TRAVAILLEURS PROTÉGÉS',\n",
              "       'TRANSFERT DU PERSONNEL VERS UNE AUTRE ENTREPRISE',\n",
              "       'CHÔMAGE ÉCONOMIQUE DES EMPLOYÉS', 'TÉLÉTRAVAIL'],\n",
              "      dtype='object')"
            ]
          },
          "metadata": {
            "tags": []
          },
          "execution_count": 36
        }
      ]
    },
    {
      "cell_type": "markdown",
      "metadata": {
        "id": "wxfTNN5DUFEp"
      },
      "source": [
        "# Bert classification with Pytorch [[towardsdatascience](https://towardsdatascience.com/bert-text-classification-using-pytorch-723dfb8b6b5b)]\r\n",
        "\r\n",
        "To be checked\r\n",
        "[tensorflow tutorial](https://www.tensorflow.org/tutorials/text/classify_text_with_bert)\r\n"
      ]
    },
    {
      "cell_type": "code",
      "metadata": {
        "colab": {
          "base_uri": "https://localhost:8080/"
        },
        "id": "kZd-M92UULe4",
        "outputId": "a59ec86d-749b-4e75-fe77-91a6e3e88a0d"
      },
      "source": [
        "! pip install transformers"
      ],
      "execution_count": 37,
      "outputs": [
        {
          "output_type": "stream",
          "text": [
            "Collecting transformers\n",
            "\u001b[?25l  Downloading https://files.pythonhosted.org/packages/f9/54/5ca07ec9569d2f232f3166de5457b63943882f7950ddfcc887732fc7fb23/transformers-4.3.3-py3-none-any.whl (1.9MB)\n",
            "\u001b[K     |████████████████████████████████| 1.9MB 7.4MB/s \n",
            "\u001b[?25hRequirement already satisfied: packaging in /usr/local/lib/python3.7/dist-packages (from transformers) (20.9)\n",
            "Requirement already satisfied: tqdm>=4.27 in /usr/local/lib/python3.7/dist-packages (from transformers) (4.41.1)\n",
            "Requirement already satisfied: importlib-metadata; python_version < \"3.8\" in /usr/local/lib/python3.7/dist-packages (from transformers) (3.7.0)\n",
            "Collecting sacremoses\n",
            "\u001b[?25l  Downloading https://files.pythonhosted.org/packages/7d/34/09d19aff26edcc8eb2a01bed8e98f13a1537005d31e95233fd48216eed10/sacremoses-0.0.43.tar.gz (883kB)\n",
            "\u001b[K     |████████████████████████████████| 890kB 32.2MB/s \n",
            "\u001b[?25hRequirement already satisfied: numpy>=1.17 in /usr/local/lib/python3.7/dist-packages (from transformers) (1.19.5)\n",
            "Requirement already satisfied: filelock in /usr/local/lib/python3.7/dist-packages (from transformers) (3.0.12)\n",
            "Requirement already satisfied: regex!=2019.12.17 in /usr/local/lib/python3.7/dist-packages (from transformers) (2019.12.20)\n",
            "Requirement already satisfied: requests in /usr/local/lib/python3.7/dist-packages (from transformers) (2.23.0)\n",
            "Collecting tokenizers<0.11,>=0.10.1\n",
            "\u001b[?25l  Downloading https://files.pythonhosted.org/packages/71/23/2ddc317b2121117bf34dd00f5b0de194158f2a44ee2bf5e47c7166878a97/tokenizers-0.10.1-cp37-cp37m-manylinux2010_x86_64.whl (3.2MB)\n",
            "\u001b[K     |████████████████████████████████| 3.2MB 51.2MB/s \n",
            "\u001b[?25hRequirement already satisfied: pyparsing>=2.0.2 in /usr/local/lib/python3.7/dist-packages (from packaging->transformers) (2.4.7)\n",
            "Requirement already satisfied: typing-extensions>=3.6.4; python_version < \"3.8\" in /usr/local/lib/python3.7/dist-packages (from importlib-metadata; python_version < \"3.8\"->transformers) (3.7.4.3)\n",
            "Requirement already satisfied: zipp>=0.5 in /usr/local/lib/python3.7/dist-packages (from importlib-metadata; python_version < \"3.8\"->transformers) (3.4.1)\n",
            "Requirement already satisfied: six in /usr/local/lib/python3.7/dist-packages (from sacremoses->transformers) (1.15.0)\n",
            "Requirement already satisfied: click in /usr/local/lib/python3.7/dist-packages (from sacremoses->transformers) (7.1.2)\n",
            "Requirement already satisfied: joblib in /usr/local/lib/python3.7/dist-packages (from sacremoses->transformers) (1.0.1)\n",
            "Requirement already satisfied: urllib3!=1.25.0,!=1.25.1,<1.26,>=1.21.1 in /usr/local/lib/python3.7/dist-packages (from requests->transformers) (1.24.3)\n",
            "Requirement already satisfied: idna<3,>=2.5 in /usr/local/lib/python3.7/dist-packages (from requests->transformers) (2.10)\n",
            "Requirement already satisfied: chardet<4,>=3.0.2 in /usr/local/lib/python3.7/dist-packages (from requests->transformers) (3.0.4)\n",
            "Requirement already satisfied: certifi>=2017.4.17 in /usr/local/lib/python3.7/dist-packages (from requests->transformers) (2020.12.5)\n",
            "Building wheels for collected packages: sacremoses\n",
            "  Building wheel for sacremoses (setup.py) ... \u001b[?25l\u001b[?25hdone\n",
            "  Created wheel for sacremoses: filename=sacremoses-0.0.43-cp37-none-any.whl size=893262 sha256=cb8e6b9289010c044712204a666d9f49a4a139c85979d8c45a1fddd83833cebf\n",
            "  Stored in directory: /root/.cache/pip/wheels/29/3c/fd/7ce5c3f0666dab31a50123635e6fb5e19ceb42ce38d4e58f45\n",
            "Successfully built sacremoses\n",
            "Installing collected packages: sacremoses, tokenizers, transformers\n",
            "Successfully installed sacremoses-0.0.43 tokenizers-0.10.1 transformers-4.3.3\n"
          ],
          "name": "stdout"
        }
      ]
    },
    {
      "cell_type": "code",
      "metadata": {
        "colab": {
          "base_uri": "https://localhost:8080/",
          "height": 362
        },
        "id": "fYcBFcjHUY_D",
        "outputId": "ecef3076-8b6f-4fb1-f170-bd8e86846ffa"
      },
      "source": [
        "# FM overlaps\r\n",
        "# Libraries\r\n",
        "import matplotlib.pyplot as plt\r\n",
        "import pandas as pd\r\n",
        "import torch\r\n",
        "\r\n",
        "# Preliminaries\r\n",
        "\r\n",
        "from torchtext.data import Field, TabularDataset, BucketIterator, Iterator\r\n",
        "\r\n",
        "# Models\r\n",
        "\r\n",
        "import torch.nn as nn\r\n",
        "from transformers import BertTokenizer, BertForSequenceClassification\r\n",
        "\r\n",
        "# Training\r\n",
        "\r\n",
        "import torch.optim as optim\r\n",
        "\r\n",
        "# Evaluation\r\n",
        "\r\n",
        "from sklearn.metrics import accuracy_score, classification_report, confusion_matrix\r\n",
        "import seaborn as sns"
      ],
      "execution_count": 38,
      "outputs": [
        {
          "output_type": "error",
          "ename": "ImportError",
          "evalue": "ignored",
          "traceback": [
            "\u001b[0;31m---------------------------------------------------------------------------\u001b[0m",
            "\u001b[0;31mImportError\u001b[0m                               Traceback (most recent call last)",
            "\u001b[0;32m<ipython-input-38-433d684fd143>\u001b[0m in \u001b[0;36m<module>\u001b[0;34m()\u001b[0m\n\u001b[1;32m      7\u001b[0m \u001b[0;31m# Preliminaries\u001b[0m\u001b[0;34m\u001b[0m\u001b[0;34m\u001b[0m\u001b[0;34m\u001b[0m\u001b[0m\n\u001b[1;32m      8\u001b[0m \u001b[0;34m\u001b[0m\u001b[0m\n\u001b[0;32m----> 9\u001b[0;31m \u001b[0;32mfrom\u001b[0m \u001b[0mtorchtext\u001b[0m\u001b[0;34m.\u001b[0m\u001b[0mdata\u001b[0m \u001b[0;32mimport\u001b[0m \u001b[0mField\u001b[0m\u001b[0;34m,\u001b[0m \u001b[0mTabularDataset\u001b[0m\u001b[0;34m,\u001b[0m \u001b[0mBucketIterator\u001b[0m\u001b[0;34m,\u001b[0m \u001b[0mIterator\u001b[0m\u001b[0;34m\u001b[0m\u001b[0;34m\u001b[0m\u001b[0m\n\u001b[0m\u001b[1;32m     10\u001b[0m \u001b[0;34m\u001b[0m\u001b[0m\n\u001b[1;32m     11\u001b[0m \u001b[0;31m# Models\u001b[0m\u001b[0;34m\u001b[0m\u001b[0;34m\u001b[0m\u001b[0;34m\u001b[0m\u001b[0m\n",
            "\u001b[0;31mImportError\u001b[0m: cannot import name 'Field' from 'torchtext.data' (/usr/local/lib/python3.7/dist-packages/torchtext/data/__init__.py)",
            "",
            "\u001b[0;31m---------------------------------------------------------------------------\u001b[0;32m\nNOTE: If your import is failing due to a missing package, you can\nmanually install dependencies using either !pip or !apt.\n\nTo view examples of installing some common dependencies, click the\n\"Open Examples\" button below.\n\u001b[0;31m---------------------------------------------------------------------------\u001b[0m\n"
          ]
        }
      ]
    },
    {
      "cell_type": "code",
      "metadata": {
        "id": "ZIav9JHOVB_h"
      },
      "source": [
        "#testing for first theme only\r\n",
        "t = themes_fr[0]\r\n",
        "X_train, X_test, y_train, y_test = train_test_split(df[['body_cleaned',t ]],df[t], test_size = 0.2, random_state=42)"
      ],
      "execution_count": null,
      "outputs": []
    },
    {
      "cell_type": "code",
      "metadata": {
        "id": "1TJRWb4uVy3i"
      },
      "source": [
        "X_train[X_train['PENSIONS COMPÉMENTAIRES ET ASSURANCES GROUPES']==1]"
      ],
      "execution_count": null,
      "outputs": []
    },
    {
      "cell_type": "code",
      "metadata": {
        "id": "CluWpW7TUjs7"
      },
      "source": [
        "tokenizer = BertTokenizer.from_pretrained('bert-base-uncased')\r\n",
        "\r\n",
        "# Model parameter\r\n",
        "MAX_SEQ_LEN = 128\r\n",
        "PAD_INDEX = tokenizer.convert_tokens_to_ids(tokenizer.pad_token)\r\n",
        "UNK_INDEX = tokenizer.convert_tokens_to_ids(tokenizer.unk_token)\r\n",
        "\r\n",
        "# Fields\r\n",
        "\r\n",
        "label_field = Field(sequential=False, use_vocab=False, batch_first=True, dtype=torch.float)\r\n",
        "text_field = Field(use_vocab=False, tokenize=tokenizer.encode, lower=False, include_lengths=False, batch_first=True,\r\n",
        "                   fix_length=MAX_SEQ_LEN, pad_token=PAD_INDEX, unk_token=UNK_INDEX)\r\n",
        "fields = [('label', label_field), ('title', text_field), ('text', text_field), ('titletext', text_field)]\r\n",
        "\r\n",
        "# TabularDataset\r\n",
        "\r\n",
        "#train, valid, test = TabularDataset.splits(path=source_folder, train='train.csv', validation='valid.csv',\r\n",
        "#                                           test='test.csv', format='CSV', fields=fields, skip_header=True)\r\n",
        "\r\n",
        "# Iterators\r\n",
        "\r\n",
        "train_iter = BucketIterator(train, batch_size=16, sort_key=lambda x: len(x.text),\r\n",
        "                            device=device, train=True, sort=True, sort_within_batch=True)\r\n",
        "valid_iter = BucketIterator(valid, batch_size=16, sort_key=lambda x: len(x.text),\r\n",
        "                            device=device, train=True, sort=True, sort_within_batch=True)\r\n",
        "test_iter = Iterator(test, batch_size=16, device=device, train=False, shuffle=False, sort=False)"
      ],
      "execution_count": null,
      "outputs": []
    },
    {
      "cell_type": "markdown",
      "metadata": {
        "id": "a0RUOfoDStvN"
      },
      "source": [
        "# Classification model [Philippe's]"
      ]
    },
    {
      "cell_type": "code",
      "metadata": {
        "id": "8hKlrNwuJIQ0"
      },
      "source": [
        "# split the dataset in train and validation\r\n",
        "from sklearn.model_selection import train_test_split"
      ],
      "execution_count": null,
      "outputs": []
    },
    {
      "cell_type": "code",
      "metadata": {
        "id": "iDBMCKGKKBft"
      },
      "source": [
        "#testing for first theme only\r\n",
        "t = themes_fr[0]\r\n",
        "train0, val0 = train_test_split(df[['body_cleaned',t ]],\r\n",
        "                              test_size = 0.2)"
      ],
      "execution_count": null,
      "outputs": []
    },
    {
      "cell_type": "code",
      "metadata": {
        "id": "2DmL5t4qKqHa"
      },
      "source": [
        "! pip install transformers"
      ],
      "execution_count": null,
      "outputs": []
    },
    {
      "cell_type": "code",
      "metadata": {
        "id": "dK3dSyF5KCzp"
      },
      "source": [
        "# load the tokenizer\r\n",
        "from transformers import BertTokenizer, BertConfig\r\n",
        "\r\n",
        "config = BertConfig.from_pretrained('bert-base-uncased')\r\n",
        "config.output_hidden_states = False\r\n",
        "tokenizer = BertTokenizer.from_pretrained('bert-base-uncased', config = config)"
      ],
      "execution_count": null,
      "outputs": []
    },
    {
      "cell_type": "code",
      "metadata": {
        "id": "Y-1q5wJ5Koxr"
      },
      "source": [
        "# tokenize the sentences\r\n",
        "# we don't truncate any sentence in the dataset by selecting max_length 40\r\n",
        "max_length = 40\r\n",
        "\r\n",
        "encoded_data_train0 = tokenizer(list(train0['body_cleaned']),\r\n",
        "                               max_length = max_length,\r\n",
        "                               truncation = True,\r\n",
        "                               add_special_tokens = True,\r\n",
        "                               return_tensors = 'tf',\r\n",
        "                               padding = 'max_length',\r\n",
        "                               return_attention_mask = True,\r\n",
        "                               return_token_type_ids = False,\r\n",
        "                               verbose = True)\r\n",
        "\r\n",
        "encoded_data_val0 = tokenizer(list(val0['body_cleaned']),\r\n",
        "                               max_length = max_length,\r\n",
        "                               truncation = True,\r\n",
        "                               add_special_tokens = True,\r\n",
        "                               return_tensors = 'tf',\r\n",
        "                               padding = 'max_length',\r\n",
        "                               return_attention_mask = True,\r\n",
        "                               return_token_type_ids = False,\r\n",
        "                               verbose = True)\r\n",
        "\r\n",
        "print(encoded_data_train0)\r\n",
        "print(encoded_data_val0)"
      ],
      "execution_count": null,
      "outputs": []
    },
    {
      "cell_type": "code",
      "metadata": {
        "id": "ifNskwbILayW"
      },
      "source": [
        "# one-hot label creation for type\r\n",
        "# @FM: overkilling since already only 1 or 0\r\n",
        "from tensorflow.keras.utils import to_categorical\r\n",
        "\r\n",
        "\r\n",
        "type_vec_train0 = to_categorical(train0[t])\r\n",
        "print(type_vec_train0[0])\r\n",
        "print(type_vec_train0.shape)\r\n",
        "\r\n",
        "type_vec_val0 = to_categorical(val0[t])\r\n",
        "print(type_vec_val0[0])\r\n",
        "print(type_vec_val0.shape)"
      ],
      "execution_count": null,
      "outputs": []
    },
    {
      "cell_type": "code",
      "metadata": {
        "id": "Rj3JgefUMUet"
      },
      "source": [
        "# load a BERT model\r\n",
        "from transformers import TFBertModel\r\n",
        "\r\n",
        "model = TFBertModel.from_pretrained('bert-base-uncased', config = config)\r\n",
        "display(model.summary())"
      ],
      "execution_count": null,
      "outputs": []
    },
    {
      "cell_type": "code",
      "metadata": {
        "id": "oIkwJOOdNpTA"
      },
      "source": [
        "! pip install tensorflow_addons"
      ],
      "execution_count": null,
      "outputs": []
    },
    {
      "cell_type": "code",
      "metadata": {
        "id": "hDbsXEMOMktz"
      },
      "source": [
        "from tensorflow.keras.optimizers import Adam\r\n",
        "from tensorflow.keras.callbacks import EarlyStopping\r\n",
        "from tensorflow.keras.losses import CategoricalCrossentropy, BinaryCrossentropy\r\n",
        "from tensorflow.keras.metrics import CategoricalAccuracy\r\n",
        "import tensorflow_addons as tfa\r\n",
        "\r\n",
        "batch_size = 64\r\n",
        "\r\n",
        "#######################################\r\n",
        "### ------- Train the model ------- ###\r\n",
        "# Set an optimizer\r\n",
        "optimizer = Adam(   \r\n",
        "    learning_rate=1e-05,   \r\n",
        "    epsilon=1e-08,   \r\n",
        "    decay=0.01,   \r\n",
        "    clipnorm=1.0)\r\n",
        "# Set loss and metrics\r\n",
        "loss = {t: BinaryCrossentropy(from_logits = True)}\r\n",
        "metric = {t: ['accuracy',\r\n",
        "                      tfa.metrics.F1Score(num_classes = 1,\r\n",
        "                                          threshold = 0.5,\r\n",
        "                                          average = 'macro')]}\r\n",
        "# metric = {'usecase': ['accuracy'],\r\n",
        "#           'type': [CategoricalAccuracy('accuracy')]}\r\n",
        "# Compile the model\r\n",
        "model.compile(\r\n",
        "    optimizer = optimizer,\r\n",
        "    loss = loss,\r\n",
        "    metrics = metric)\r\n",
        "# Ready output data for the model\r\n",
        "y_usecase = train0[t].to_numpy()\r\n",
        "# Tokenize the input (takes some time)\r\n",
        "x = encoded_data_train\r\n",
        "# Fit the model\r\n",
        "history = model.fit(   \r\n",
        "    x={'input_ids': x['input_ids'], 'attention_mask': x['attention_mask']},   \r\n",
        "    y={t: y_usecase},\r\n",
        "    batch_size=batch_size,\r\n",
        "    epochs=10)"
      ],
      "execution_count": null,
      "outputs": []
    }
  ]
}