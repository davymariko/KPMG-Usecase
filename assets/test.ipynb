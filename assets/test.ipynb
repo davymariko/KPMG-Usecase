{
 "cells": [
  {
   "cell_type": "code",
   "execution_count": 9,
   "metadata": {
    "collapsed": true
   },
   "outputs": [
    {
     "name": "stderr",
     "output_type": "stream",
     "text": [
      "ERROR: Could not find a version that satisfies the requirement PIL\n",
      "ERROR: No matching distribution found for PIL\n",
      "'sudo' is not recognized as an internal or external command,\n",
      "operable program or batch file.\n"
     ]
    },
    {
     "name": "stdout",
     "output_type": "stream",
     "text": [
      "Requirement already satisfied: pytesseract in t:\\users\\fra\\appdata\\local\\programs\\python\\python37\\lib\\site-packages (0.3.7)\n",
      "Requirement already satisfied: Pillow in t:\\users\\fra\\appdata\\local\\programs\\python\\python37\\lib\\site-packages (from pytesseract) (7.2.0)\n",
      "Requirement already satisfied: pdf2image in t:\\users\\fra\\appdata\\local\\programs\\python\\python37\\lib\\site-packages (1.14.0)\n",
      "Requirement already satisfied: pillow in t:\\users\\fra\\appdata\\local\\programs\\python\\python37\\lib\\site-packages (from pdf2image) (7.2.0)\n"
     ]
    }
   ],
   "source": [
    "! pip3 install PIL\n",
    "! pip3 install pytesseract\n",
    "! pip3 install pdf2image\n",
    "! sudo apt-get install tesseract-ocr"
   ]
  },
  {
   "cell_type": "code",
   "execution_count": 3,
   "outputs": [],
   "source": [],
   "metadata": {
    "collapsed": false,
    "pycharm": {
     "name": "#%%\n"
    }
   }
  },
  {
   "cell_type": "code",
   "execution_count": 10,
   "outputs": [
    {
     "ename": "PDFInfoNotInstalledError",
     "evalue": "Unable to get page count. Is poppler installed and in PATH?",
     "output_type": "error",
     "traceback": [
      "\u001B[1;31m---------------------------------------------------------------------------\u001B[0m",
      "\u001B[1;31mFileNotFoundError\u001B[0m                         Traceback (most recent call last)",
      "\u001B[1;32mt:\\users\\fra\\appdata\\local\\programs\\python\\python37\\lib\\site-packages\\pdf2image\\pdf2image.py\u001B[0m in \u001B[0;36mpdfinfo_from_path\u001B[1;34m(pdf_path, userpw, poppler_path, rawdates, timeout)\u001B[0m\n\u001B[0;32m    440\u001B[0m             \u001B[0menv\u001B[0m\u001B[1;33m[\u001B[0m\u001B[1;34m\"LD_LIBRARY_PATH\"\u001B[0m\u001B[1;33m]\u001B[0m \u001B[1;33m=\u001B[0m \u001B[0mpoppler_path\u001B[0m \u001B[1;33m+\u001B[0m \u001B[1;34m\":\"\u001B[0m \u001B[1;33m+\u001B[0m \u001B[0menv\u001B[0m\u001B[1;33m.\u001B[0m\u001B[0mget\u001B[0m\u001B[1;33m(\u001B[0m\u001B[1;34m\"LD_LIBRARY_PATH\"\u001B[0m\u001B[1;33m,\u001B[0m \u001B[1;34m\"\"\u001B[0m\u001B[1;33m)\u001B[0m\u001B[1;33m\u001B[0m\u001B[1;33m\u001B[0m\u001B[0m\n\u001B[1;32m--> 441\u001B[1;33m         \u001B[0mproc\u001B[0m \u001B[1;33m=\u001B[0m \u001B[0mPopen\u001B[0m\u001B[1;33m(\u001B[0m\u001B[0mcommand\u001B[0m\u001B[1;33m,\u001B[0m \u001B[0menv\u001B[0m\u001B[1;33m=\u001B[0m\u001B[0menv\u001B[0m\u001B[1;33m,\u001B[0m \u001B[0mstdout\u001B[0m\u001B[1;33m=\u001B[0m\u001B[0mPIPE\u001B[0m\u001B[1;33m,\u001B[0m \u001B[0mstderr\u001B[0m\u001B[1;33m=\u001B[0m\u001B[0mPIPE\u001B[0m\u001B[1;33m)\u001B[0m\u001B[1;33m\u001B[0m\u001B[1;33m\u001B[0m\u001B[0m\n\u001B[0m\u001B[0;32m    442\u001B[0m \u001B[1;33m\u001B[0m\u001B[0m\n",
      "\u001B[1;32mt:\\users\\fra\\appdata\\local\\programs\\python\\python37\\lib\\subprocess.py\u001B[0m in \u001B[0;36m__init__\u001B[1;34m(self, args, bufsize, executable, stdin, stdout, stderr, preexec_fn, close_fds, shell, cwd, env, universal_newlines, startupinfo, creationflags, restore_signals, start_new_session, pass_fds, encoding, errors, text)\u001B[0m\n\u001B[0;32m    774\u001B[0m                                 \u001B[0merrread\u001B[0m\u001B[1;33m,\u001B[0m \u001B[0merrwrite\u001B[0m\u001B[1;33m,\u001B[0m\u001B[1;33m\u001B[0m\u001B[1;33m\u001B[0m\u001B[0m\n\u001B[1;32m--> 775\u001B[1;33m                                 restore_signals, start_new_session)\n\u001B[0m\u001B[0;32m    776\u001B[0m         \u001B[1;32mexcept\u001B[0m\u001B[1;33m:\u001B[0m\u001B[1;33m\u001B[0m\u001B[1;33m\u001B[0m\u001B[0m\n",
      "\u001B[1;32mt:\\users\\fra\\appdata\\local\\programs\\python\\python37\\lib\\subprocess.py\u001B[0m in \u001B[0;36m_execute_child\u001B[1;34m(self, args, executable, preexec_fn, close_fds, pass_fds, cwd, env, startupinfo, creationflags, shell, p2cread, p2cwrite, c2pread, c2pwrite, errread, errwrite, unused_restore_signals, unused_start_new_session)\u001B[0m\n\u001B[0;32m   1177\u001B[0m                                          \u001B[0mos\u001B[0m\u001B[1;33m.\u001B[0m\u001B[0mfspath\u001B[0m\u001B[1;33m(\u001B[0m\u001B[0mcwd\u001B[0m\u001B[1;33m)\u001B[0m \u001B[1;32mif\u001B[0m \u001B[0mcwd\u001B[0m \u001B[1;32mis\u001B[0m \u001B[1;32mnot\u001B[0m \u001B[1;32mNone\u001B[0m \u001B[1;32melse\u001B[0m \u001B[1;32mNone\u001B[0m\u001B[1;33m,\u001B[0m\u001B[1;33m\u001B[0m\u001B[1;33m\u001B[0m\u001B[0m\n\u001B[1;32m-> 1178\u001B[1;33m                                          startupinfo)\n\u001B[0m\u001B[0;32m   1179\u001B[0m             \u001B[1;32mfinally\u001B[0m\u001B[1;33m:\u001B[0m\u001B[1;33m\u001B[0m\u001B[1;33m\u001B[0m\u001B[0m\n",
      "\u001B[1;31mFileNotFoundError\u001B[0m: [WinError 2] The system cannot find the file specified",
      "\nDuring handling of the above exception, another exception occurred:\n",
      "\u001B[1;31mPDFInfoNotInstalledError\u001B[0m                  Traceback (most recent call last)",
      "\u001B[1;32m<ipython-input-10-22c2bb44a9a6>\u001B[0m in \u001B[0;36m<module>\u001B[1;34m\u001B[0m\n\u001B[0;32m     17\u001B[0m \u001B[1;33m\u001B[0m\u001B[0m\n\u001B[0;32m     18\u001B[0m \u001B[1;31m# Store all the pages of the PDF in a variable\u001B[0m\u001B[1;33m\u001B[0m\u001B[1;33m\u001B[0m\u001B[1;33m\u001B[0m\u001B[0m\n\u001B[1;32m---> 19\u001B[1;33m \u001B[0mpages\u001B[0m \u001B[1;33m=\u001B[0m \u001B[0mconvert_from_path\u001B[0m\u001B[1;33m(\u001B[0m\u001B[0mPDF_file\u001B[0m\u001B[1;33m,\u001B[0m \u001B[1;36m500\u001B[0m\u001B[1;33m)\u001B[0m\u001B[1;33m\u001B[0m\u001B[1;33m\u001B[0m\u001B[0m\n\u001B[0m\u001B[0;32m     20\u001B[0m \u001B[1;33m\u001B[0m\u001B[0m\n\u001B[0;32m     21\u001B[0m \u001B[1;31m# Counter to store images of each page of PDF to image\u001B[0m\u001B[1;33m\u001B[0m\u001B[1;33m\u001B[0m\u001B[1;33m\u001B[0m\u001B[0m\n",
      "\u001B[1;32mt:\\users\\fra\\appdata\\local\\programs\\python\\python37\\lib\\site-packages\\pdf2image\\pdf2image.py\u001B[0m in \u001B[0;36mconvert_from_path\u001B[1;34m(pdf_path, dpi, output_folder, first_page, last_page, fmt, jpegopt, thread_count, userpw, use_cropbox, strict, transparent, single_file, output_file, poppler_path, grayscale, size, paths_only, use_pdftocairo, timeout)\u001B[0m\n\u001B[0;32m     95\u001B[0m         \u001B[0mpoppler_path\u001B[0m \u001B[1;33m=\u001B[0m \u001B[0mpoppler_path\u001B[0m\u001B[1;33m.\u001B[0m\u001B[0mas_posix\u001B[0m\u001B[1;33m(\u001B[0m\u001B[1;33m)\u001B[0m\u001B[1;33m\u001B[0m\u001B[1;33m\u001B[0m\u001B[0m\n\u001B[0;32m     96\u001B[0m \u001B[1;33m\u001B[0m\u001B[0m\n\u001B[1;32m---> 97\u001B[1;33m     \u001B[0mpage_count\u001B[0m \u001B[1;33m=\u001B[0m \u001B[0mpdfinfo_from_path\u001B[0m\u001B[1;33m(\u001B[0m\u001B[0mpdf_path\u001B[0m\u001B[1;33m,\u001B[0m \u001B[0muserpw\u001B[0m\u001B[1;33m,\u001B[0m \u001B[0mpoppler_path\u001B[0m\u001B[1;33m=\u001B[0m\u001B[0mpoppler_path\u001B[0m\u001B[1;33m)\u001B[0m\u001B[1;33m[\u001B[0m\u001B[1;34m\"Pages\"\u001B[0m\u001B[1;33m]\u001B[0m\u001B[1;33m\u001B[0m\u001B[1;33m\u001B[0m\u001B[0m\n\u001B[0m\u001B[0;32m     98\u001B[0m \u001B[1;33m\u001B[0m\u001B[0m\n\u001B[0;32m     99\u001B[0m     \u001B[1;31m# We start by getting the output format, the buffer processing function and if we need pdftocairo\u001B[0m\u001B[1;33m\u001B[0m\u001B[1;33m\u001B[0m\u001B[1;33m\u001B[0m\u001B[0m\n",
      "\u001B[1;32mt:\\users\\fra\\appdata\\local\\programs\\python\\python37\\lib\\site-packages\\pdf2image\\pdf2image.py\u001B[0m in \u001B[0;36mpdfinfo_from_path\u001B[1;34m(pdf_path, userpw, poppler_path, rawdates, timeout)\u001B[0m\n\u001B[0;32m    466\u001B[0m     \u001B[1;32mexcept\u001B[0m \u001B[0mOSError\u001B[0m\u001B[1;33m:\u001B[0m\u001B[1;33m\u001B[0m\u001B[1;33m\u001B[0m\u001B[0m\n\u001B[0;32m    467\u001B[0m         raise PDFInfoNotInstalledError(\n\u001B[1;32m--> 468\u001B[1;33m             \u001B[1;34m\"Unable to get page count. Is poppler installed and in PATH?\"\u001B[0m\u001B[1;33m\u001B[0m\u001B[1;33m\u001B[0m\u001B[0m\n\u001B[0m\u001B[0;32m    469\u001B[0m         )\n\u001B[0;32m    470\u001B[0m     \u001B[1;32mexcept\u001B[0m \u001B[0mValueError\u001B[0m\u001B[1;33m:\u001B[0m\u001B[1;33m\u001B[0m\u001B[1;33m\u001B[0m\u001B[0m\n",
      "\u001B[1;31mPDFInfoNotInstalledError\u001B[0m: Unable to get page count. Is poppler installed and in PATH?"
     ]
    }
   ],
   "source": [
    "# Import libraries\n",
    "from PIL import Image\n",
    "import pytesseract\n",
    "import sys\n",
    "from pdf2image import convert_from_path\n",
    "import os\n",
    "\n",
    "\n",
    "PDF_file = r'F:\\belearner\\KPMG-Usecase\\assets\\10201-2017-014921.pdf'\n",
    "#https://stackoverflow.com/questions/50951955/pytesseract-tesseractnotfound-error-tesseract-is-not-installed-or-its-not-i\n",
    "pytesseract.pytesseract.tesseract_cmd = r'C:\\Users\\USER\\AppData\\Local\\Tesseract-OCR\\tesseract.exe'\n",
    "\n",
    "\n",
    "# Path of the pdf\n",
    "\n",
    "'''\n",
    "Part #1 : Converting PDF to images\n",
    "'''\n",
    "\n",
    "# Store all the pages of the PDF in a variable\n",
    "pages = convert_from_path(PDF_file, 500)\n",
    "\n",
    "# Counter to store images of each page of PDF to image\n",
    "image_counter = 1\n",
    "\n",
    "# Iterate through all the pages stored above\n",
    "for page in pages:\n",
    "\n",
    "    # Declaring filename for each page of PDF as JPG\n",
    "    # For each page, filename will be:\n",
    "    # PDF page 1 -> page_1.jpg\n",
    "    # PDF page 2 -> page_2.jpg\n",
    "    # PDF page 3 -> page_3.jpg\n",
    "    # ....\n",
    "    # PDF page n -> page_n.jpg\n",
    "    filename = \"page_\"+str(image_counter)+\".jpg\"\n",
    "\n",
    "    # Save the image of the page in system\n",
    "    page.save(filename, 'JPEG')\n",
    "\n",
    "    # Increment the counter to update filename\n",
    "    image_counter = image_counter + 1\n",
    "\n",
    "'''\n",
    "Part #2 - Recognizing text from the images using OCR\n",
    "'''\n",
    "\n",
    "# Variable to get count of total number of pages\n",
    "filelimit = image_counter-1\n",
    "\n",
    "# Creating a text file to write the output\n",
    "outfile = \"out_text.txt\"\n",
    "\n",
    "# Open the file in append mode so that\n",
    "# All contents of all images are added to the same file\n",
    "f = open(outfile, \"a\")\n",
    "\n",
    "# Iterate from 1 to total number of pages\n",
    "for i in range(1, filelimit + 1):\n",
    "\n",
    "    # Set filename to recognize text from\n",
    "    # Again, these files will be:\n",
    "    # page_1.jpg\n",
    "    # page_2.jpg\n",
    "    # ....\n",
    "    # page_n.jpg\n",
    "    filename = \"page_\"+str(i)+\".jpg\"\n",
    "\n",
    "    # Recognize the text as string in image using pytesserct\n",
    "    text = str(((pytesseract.image_to_string(Image.open(filename)))))\n",
    "\n",
    "    # The recognized text is stored in variable text\n",
    "    # Any string processing may be applied on text\n",
    "    # Here, basic formatting has been done:\n",
    "    # In many PDFs, at line ending, if a word can't\n",
    "    # be written fully, a 'hyphen' is added.\n",
    "    # The rest of the word is written in the next line\n",
    "    # Eg: This is a sample text this word here GeeksF-\n",
    "    # orGeeks is half on first line, remaining on next.\n",
    "    # To remove this, we replace every '-\\n' to ''.\n",
    "    text = text.replace('-\\n', '')\n",
    "\n",
    "    # Finally, write the processed text to the file.\n",
    "    f.write(text)\n",
    "\n",
    "# Close the file after writing all the text.\n",
    "f.close()"
   ],
   "metadata": {
    "collapsed": false,
    "pycharm": {
     "name": "#%%\n"
    }
   }
  }
 ],
 "metadata": {
  "kernelspec": {
   "display_name": "Python 3",
   "language": "python",
   "name": "python3"
  },
  "language_info": {
   "codemirror_mode": {
    "name": "ipython",
    "version": 2
   },
   "file_extension": ".py",
   "mimetype": "text/x-python",
   "name": "python",
   "nbconvert_exporter": "python",
   "pygments_lexer": "ipython2",
   "version": "2.7.6"
  }
 },
 "nbformat": 4,
 "nbformat_minor": 0
}